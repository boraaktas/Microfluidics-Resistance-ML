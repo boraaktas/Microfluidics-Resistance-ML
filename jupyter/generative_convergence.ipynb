{
 "cells": [
  {
   "cell_type": "code",
   "execution_count": 6,
   "id": "initial_id",
   "metadata": {
    "ExecuteTime": {
     "end_time": "2024-11-23T22:24:44.926821600Z",
     "start_time": "2024-11-23T22:24:44.915799200Z"
    },
    "collapsed": true,
    "jupyter": {
     "outputs_hidden": true
    }
   },
   "outputs": [],
   "source": [
    "import pickle\n",
    "\n",
    "from src.generative_model import GenerativeModel\n",
    "from src.machine_learning import PredictionModel\n",
    "import matplotlib.pyplot as plt\n",
    "import pandas as pd"
   ]
  },
  {
   "cell_type": "code",
   "execution_count": 7,
   "id": "db66987a6b37982e",
   "metadata": {
    "ExecuteTime": {
     "end_time": "2024-11-23T22:24:45.481191300Z",
     "start_time": "2024-11-23T22:24:45.240513Z"
    }
   },
   "outputs": [
    {
     "data": {
      "text/html": [
       "<div>\n",
       "<style scoped>\n",
       "    .dataframe tbody tr th:only-of-type {\n",
       "        vertical-align: middle;\n",
       "    }\n",
       "\n",
       "    .dataframe tbody tr th {\n",
       "        vertical-align: top;\n",
       "    }\n",
       "\n",
       "    .dataframe thead th {\n",
       "        text-align: right;\n",
       "    }\n",
       "</style>\n",
       "<table border=\"1\" class=\"dataframe\">\n",
       "  <thead>\n",
       "    <tr style=\"text-align: right;\">\n",
       "      <th></th>\n",
       "      <th>Width</th>\n",
       "      <th>Height</th>\n",
       "      <th>Fillet_Radius</th>\n",
       "      <th>lb</th>\n",
       "      <th>ub</th>\n",
       "      <th>avg</th>\n",
       "      <th>div_res</th>\n",
       "    </tr>\n",
       "  </thead>\n",
       "  <tbody>\n",
       "    <tr>\n",
       "      <th>0</th>\n",
       "      <td>0.05</td>\n",
       "      <td>0.05</td>\n",
       "      <td>0.03</td>\n",
       "      <td>6.96</td>\n",
       "      <td>124.80</td>\n",
       "      <td>65.88</td>\n",
       "      <td>3.41</td>\n",
       "    </tr>\n",
       "    <tr>\n",
       "      <th>1</th>\n",
       "      <td>0.05</td>\n",
       "      <td>0.05</td>\n",
       "      <td>0.04</td>\n",
       "      <td>6.95</td>\n",
       "      <td>124.55</td>\n",
       "      <td>65.75</td>\n",
       "      <td>3.41</td>\n",
       "    </tr>\n",
       "    <tr>\n",
       "      <th>2</th>\n",
       "      <td>0.05</td>\n",
       "      <td>0.05</td>\n",
       "      <td>0.05</td>\n",
       "      <td>6.95</td>\n",
       "      <td>124.33</td>\n",
       "      <td>65.64</td>\n",
       "      <td>3.41</td>\n",
       "    </tr>\n",
       "    <tr>\n",
       "      <th>3</th>\n",
       "      <td>0.05</td>\n",
       "      <td>0.06</td>\n",
       "      <td>0.03</td>\n",
       "      <td>4.85</td>\n",
       "      <td>86.99</td>\n",
       "      <td>45.92</td>\n",
       "      <td>2.38</td>\n",
       "    </tr>\n",
       "    <tr>\n",
       "      <th>4</th>\n",
       "      <td>0.05</td>\n",
       "      <td>0.06</td>\n",
       "      <td>0.04</td>\n",
       "      <td>4.85</td>\n",
       "      <td>86.81</td>\n",
       "      <td>45.83</td>\n",
       "      <td>2.37</td>\n",
       "    </tr>\n",
       "    <tr>\n",
       "      <th>...</th>\n",
       "      <td>...</td>\n",
       "      <td>...</td>\n",
       "      <td>...</td>\n",
       "      <td>...</td>\n",
       "      <td>...</td>\n",
       "      <td>...</td>\n",
       "      <td>...</td>\n",
       "    </tr>\n",
       "    <tr>\n",
       "      <th>187</th>\n",
       "      <td>0.20</td>\n",
       "      <td>0.15</td>\n",
       "      <td>0.16</td>\n",
       "      <td>0.05</td>\n",
       "      <td>0.90</td>\n",
       "      <td>0.47</td>\n",
       "      <td>0.02</td>\n",
       "    </tr>\n",
       "    <tr>\n",
       "      <th>188</th>\n",
       "      <td>0.20</td>\n",
       "      <td>0.15</td>\n",
       "      <td>0.20</td>\n",
       "      <td>0.05</td>\n",
       "      <td>0.89</td>\n",
       "      <td>0.47</td>\n",
       "      <td>0.02</td>\n",
       "    </tr>\n",
       "    <tr>\n",
       "      <th>189</th>\n",
       "      <td>0.20</td>\n",
       "      <td>0.20</td>\n",
       "      <td>0.12</td>\n",
       "      <td>0.03</td>\n",
       "      <td>0.48</td>\n",
       "      <td>0.25</td>\n",
       "      <td>0.01</td>\n",
       "    </tr>\n",
       "    <tr>\n",
       "      <th>190</th>\n",
       "      <td>0.20</td>\n",
       "      <td>0.20</td>\n",
       "      <td>0.16</td>\n",
       "      <td>0.03</td>\n",
       "      <td>0.48</td>\n",
       "      <td>0.25</td>\n",
       "      <td>0.01</td>\n",
       "    </tr>\n",
       "    <tr>\n",
       "      <th>191</th>\n",
       "      <td>0.20</td>\n",
       "      <td>0.20</td>\n",
       "      <td>0.20</td>\n",
       "      <td>0.03</td>\n",
       "      <td>0.47</td>\n",
       "      <td>0.25</td>\n",
       "      <td>0.01</td>\n",
       "    </tr>\n",
       "  </tbody>\n",
       "</table>\n",
       "<p>192 rows × 7 columns</p>\n",
       "</div>"
      ],
      "text/plain": [
       "     Width  Height  Fillet_Radius   lb     ub   avg  div_res\n",
       "0     0.05    0.05           0.03 6.96 124.80 65.88     3.41\n",
       "1     0.05    0.05           0.04 6.95 124.55 65.75     3.41\n",
       "2     0.05    0.05           0.05 6.95 124.33 65.64     3.41\n",
       "3     0.05    0.06           0.03 4.85  86.99 45.92     2.38\n",
       "4     0.05    0.06           0.04 4.85  86.81 45.83     2.37\n",
       "..     ...     ...            ...  ...    ...   ...      ...\n",
       "187   0.20    0.15           0.16 0.05   0.90  0.47     0.02\n",
       "188   0.20    0.15           0.20 0.05   0.89  0.47     0.02\n",
       "189   0.20    0.20           0.12 0.03   0.48  0.25     0.01\n",
       "190   0.20    0.20           0.16 0.03   0.48  0.25     0.01\n",
       "191   0.20    0.20           0.20 0.03   0.47  0.25     0.01\n",
       "\n",
       "[192 rows x 7 columns]"
      ]
     },
     "execution_count": 7,
     "metadata": {},
     "output_type": "execute_result"
    }
   ],
   "source": [
    "PRED_MODEL = PredictionModel(base_learners_pickle_path='../drive_data/pickles/base_learner_pickles/',\n",
    "                             meta_learner_pickle_path='../drive_data/pickles/meta_learner_pickles/')\n",
    "with open('../data/resistance_bounds.pkl', 'rb') as f:\n",
    "    RES_BOUNDS = pickle.load(f)\n",
    "\n",
    "RES_BOUNDS_DF = pd.DataFrame(RES_BOUNDS)\n",
    "# Make transposed version of the dataframe\n",
    "RES_BOUNDS_DF = RES_BOUNDS_DF.T\n",
    "RES_BOUNDS_DF"
   ]
  },
  {
   "cell_type": "code",
   "execution_count": 8,
   "id": "b3dbefa2bb8b00ab",
   "metadata": {
    "ExecuteTime": {
     "end_time": "2024-11-23T22:24:55.821239500Z",
     "start_time": "2024-11-23T22:24:55.818800500Z"
    }
   },
   "outputs": [],
   "source": [
    "def show_convergence(resistence_info_list: list[tuple[float, float, float, float, str]],\n",
    "                     prediction_model: PredictionModel,\n",
    "                     resistance_bounds: dict) -> list[dict]:\n",
    "    \"\"\"\n",
    "    Shows the convergence of the generative model\n",
    "    :param resistence_info_list: list of tuples of resistence information (desired_resistance, width, height, fillet_radius, target_loc_mode)\n",
    "    :param prediction_model: PredictionModel object\n",
    "    :param resistance_bounds: dictionary of resistance bounds\n",
    "    :return: None\n",
    "    \"\"\"\n",
    "\n",
    "    all_iters = []\n",
    "    for resistence_info in resistence_info_list:\n",
    "        desired_res, width, height, fillet_radius, target_loc_mode = resistence_info\n",
    "        try:\n",
    "            generative_model = GenerativeModel(prediction_model=prediction_model,\n",
    "                                               resistance_bounds_dict=resistance_bounds,\n",
    "                                               desired_resistance=desired_res,\n",
    "                                               step_size_factor=0.5,\n",
    "                                               width=width,\n",
    "                                               height=height,\n",
    "                                               fillet_radius=fillet_radius,\n",
    "                                               target_loc_mode=target_loc_mode,\n",
    "                                               method='TS',\n",
    "                                               side_length=20,\n",
    "                                               time_limit=30,\n",
    "                                               plot_bool=False,\n",
    "                                               print_iteration=False)\n",
    "            _, costs = generative_model.generate_maze()\n",
    "            all_iters.append({\"resistence_info\": resistence_info, \"costs\": costs})\n",
    "            print(f\"Finished resistence_info: {resistence_info}\")\n",
    "        except Exception as e:\n",
    "            print(f\"Error for resistence_info: {resistence_info}\")\n",
    "            print(e)\n",
    "\n",
    "    return all_iters"
   ]
  },
  {
   "cell_type": "code",
   "execution_count": 9,
   "id": "abbd0e791eb4e164",
   "metadata": {
    "ExecuteTime": {
     "end_time": "2024-11-23T22:25:41.164244Z",
     "start_time": "2024-11-23T22:24:56.639073300Z"
    }
   },
   "outputs": [
    {
     "name": "stdout",
     "output_type": "stream",
     "text": [
      "Finished resistence_info: (100, 0.05, 0.05, 0.03, 'north')\n",
      "Finished resistence_info: (20, 0.07, 0.06, 0.07, 'east')\n",
      "Finished resistence_info: (60, 0.05, 0.05, 0.03, 'north')\n",
      "Finished resistence_info: (2, 0.1, 0.09, 0.08, 'east')\n",
      "Finished resistence_info: (10, 0.07, 0.06, 0.07, 'north')\n"
     ]
    }
   ],
   "source": [
    "ALL_ITERATIONS = show_convergence([(100, 0.05, 0.05, 0.03, 'north'),\n",
    "                                   (20, 0.07, 0.06, 0.07, 'east'),\n",
    "                                   (60, 0.05, 0.05, 0.03, 'north'),\n",
    "                                   (2, 0.10, 0.09, 0.08, 'east'),\n",
    "                                   (10, 0.07, 0.06, 0.07, 'north')],\n",
    "                                   PRED_MODEL,\n",
    "                                   RES_BOUNDS)"
   ]
  },
  {
   "cell_type": "code",
   "execution_count": 10,
   "id": "933ca36e9fb1c02c",
   "metadata": {
    "ExecuteTime": {
     "end_time": "2024-11-23T22:25:43.561027500Z",
     "start_time": "2024-11-23T22:25:43.538613300Z"
    }
   },
   "outputs": [
    {
     "data": {
      "text/html": [
       "<div>\n",
       "<style scoped>\n",
       "    .dataframe tbody tr th:only-of-type {\n",
       "        vertical-align: middle;\n",
       "    }\n",
       "\n",
       "    .dataframe tbody tr th {\n",
       "        vertical-align: top;\n",
       "    }\n",
       "\n",
       "    .dataframe thead th {\n",
       "        text-align: right;\n",
       "    }\n",
       "</style>\n",
       "<table border=\"1\" class=\"dataframe\">\n",
       "  <thead>\n",
       "    <tr style=\"text-align: right;\">\n",
       "      <th></th>\n",
       "      <th>0</th>\n",
       "      <th>1</th>\n",
       "      <th>2</th>\n",
       "      <th>3</th>\n",
       "      <th>4</th>\n",
       "    </tr>\n",
       "  </thead>\n",
       "  <tbody>\n",
       "    <tr>\n",
       "      <th>0</th>\n",
       "      <td>26.35</td>\n",
       "      <td>25.72</td>\n",
       "      <td>68.35</td>\n",
       "      <td>13.88</td>\n",
       "      <td>36.43</td>\n",
       "    </tr>\n",
       "    <tr>\n",
       "      <th>1</th>\n",
       "      <td>0.78</td>\n",
       "      <td>3.84</td>\n",
       "      <td>14.55</td>\n",
       "      <td>3.97</td>\n",
       "      <td>17.23</td>\n",
       "    </tr>\n",
       "    <tr>\n",
       "      <th>2</th>\n",
       "      <td>0.49</td>\n",
       "      <td>0.29</td>\n",
       "      <td>0.03</td>\n",
       "      <td>1.85</td>\n",
       "      <td>4.05</td>\n",
       "    </tr>\n",
       "    <tr>\n",
       "      <th>3</th>\n",
       "      <td>0.29</td>\n",
       "      <td>0.03</td>\n",
       "      <td>0.03</td>\n",
       "      <td>0.93</td>\n",
       "      <td>0.82</td>\n",
       "    </tr>\n",
       "    <tr>\n",
       "      <th>4</th>\n",
       "      <td>0.05</td>\n",
       "      <td>0.03</td>\n",
       "      <td>0.03</td>\n",
       "      <td>0.62</td>\n",
       "      <td>0.66</td>\n",
       "    </tr>\n",
       "    <tr>\n",
       "      <th>5</th>\n",
       "      <td>0.05</td>\n",
       "      <td>0.03</td>\n",
       "      <td>0.03</td>\n",
       "      <td>0.00</td>\n",
       "      <td>0.05</td>\n",
       "    </tr>\n",
       "  </tbody>\n",
       "</table>\n",
       "</div>"
      ],
      "text/plain": [
       "      0     1     2     3     4\n",
       "0 26.35 25.72 68.35 13.88 36.43\n",
       "1  0.78  3.84 14.55  3.97 17.23\n",
       "2  0.49  0.29  0.03  1.85  4.05\n",
       "3  0.29  0.03  0.03  0.93  0.82\n",
       "4  0.05  0.03  0.03  0.62  0.66\n",
       "5  0.05  0.03  0.03  0.00  0.05"
      ]
     },
     "execution_count": 10,
     "metadata": {},
     "output_type": "execute_result"
    }
   ],
   "source": [
    "ALL_ITERATIONS_DF = pd.DataFrame(columns=[i for i in range(len(ALL_ITERATIONS))])\n",
    "LONGEST_ITER = max([len(res_info['costs']) for res_info in ALL_ITERATIONS])\n",
    "for i, res_info in enumerate(ALL_ITERATIONS):\n",
    "    ALL_ITERATIONS_DF[i] = res_info['costs'] + [res_info['costs'][-1]]*(LONGEST_ITER - len(res_info['costs']))\n",
    "\n",
    "# drop the rows that has the same values\n",
    "LAST_ROW = ALL_ITERATIONS_DF.iloc[-1]\n",
    "for i in range(len(ALL_ITERATIONS_DF) - 2, -1, -1):\n",
    "    if ALL_ITERATIONS_DF.iloc[i].equals(LAST_ROW):\n",
    "        ALL_ITERATIONS_DF.drop(i, inplace=True)\n",
    "\n",
    "ALL_ITERATIONS_DF.reset_index(drop=True, inplace=True)\n",
    "ALL_ITERATIONS_DF"
   ]
  },
  {
   "cell_type": "code",
   "execution_count": 11,
   "id": "8ab87cd47b2d95be",
   "metadata": {
    "ExecuteTime": {
     "end_time": "2024-11-23T22:25:45.365245700Z",
     "start_time": "2024-11-23T22:25:45.214114300Z"
    },
    "collapsed": false,
    "jupyter": {
     "outputs_hidden": false
    }
   },
   "outputs": [
    {
     "data": {
      "image/png": "[encoded data removed]",
      "text/plain": [
       "<Figure size 1000x500 with 1 Axes>"
      ]
     },
     "metadata": {},
     "output_type": "display_data"
    }
   ],
   "source": [
    "# plot the convergences of the generative model use the new indices\n",
    "plt.figure(figsize=(10, 5))\n",
    "for i in range(len(ALL_ITERATIONS_DF.columns)):\n",
    "    plt.plot(ALL_ITERATIONS_DF[i], label=f\"Desired Resistance: {ALL_ITERATIONS[i]['resistence_info'][0]}\")\n",
    "plt.xticks(range(len(ALL_ITERATIONS_DF)))\n",
    "plt.xlabel(\"Iteration\")\n",
    "plt.ylabel(\"Difference from Desired Resistance\")\n",
    "plt.title(\"Convergence of the Generative Model\")\n",
    "plt.legend()\n",
    "plt.show()"
   ]
  },
  {
   "cell_type": "code",
   "execution_count": null,
   "id": "1462e2015360993b",
   "metadata": {
    "collapsed": false,
    "jupyter": {
     "outputs_hidden": false
    }
   },
   "outputs": [],
   "source": []
  }
 ],
 "metadata": {
  "kernelspec": {
   "display_name": "Python 3 (ipykernel)",
   "language": "python",
   "name": "python3"
  },
  "language_info": {
   "codemirror_mode": {
    "name": "ipython",
    "version": 3
   },
   "file_extension": ".py",
   "mimetype": "text/x-python",
   "name": "python",
   "nbconvert_exporter": "python",
   "pygments_lexer": "ipython3",
   "version": "3.11.9"
  }
 },
 "nbformat": 4,
 "nbformat_minor": 5
}
