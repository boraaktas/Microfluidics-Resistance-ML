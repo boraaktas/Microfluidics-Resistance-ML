{
 "cells": [
  {
   "metadata": {
    "ExecuteTime": {
     "end_time": "2024-06-18T10:49:44.259274Z",
     "start_time": "2024-06-18T10:49:43.220143Z"
    }
   },
   "cell_type": "code",
   "source": [
    "import numpy as np\n",
    "import pandas as pd\n",
    "\n",
    "from src import PredictionModel, RMSE, MAPE"
   ],
   "id": "609c395bcf6c113e",
   "outputs": [],
   "execution_count": 1
  },
  {
   "metadata": {
    "ExecuteTime": {
     "end_time": "2024-06-18T10:49:44.692546Z",
     "start_time": "2024-06-18T10:49:44.260288Z"
    }
   },
   "cell_type": "code",
   "source": [
    "PRE_MODEL_OBJ = PredictionModel(base_learners_pickle_path='../data/pickles/base_learner_pickles/',\n",
    "                                meta_learner_pickle_path='../data/pickles/meta_learner_pickles/')\n",
    "\n",
    "feature_columns = list(set(PRE_MODEL_OBJ.base_learner_features + PRE_MODEL_OBJ.meta_learner_features))"
   ],
   "id": "498b0acc6420cbbd",
   "outputs": [],
   "execution_count": 2
  },
  {
   "metadata": {
    "ExecuteTime": {
     "end_time": "2024-06-18T10:49:44.723357Z",
     "start_time": "2024-06-18T10:49:44.696836Z"
    }
   },
   "cell_type": "code",
   "source": [
    "REAL_TEST_DATA = pd.read_csv('../data/datasets/train_outputs/real_test_data.csv')\n",
    "REAL_TEST_DATA"
   ],
   "id": "904c9b8974fbdde5",
   "outputs": [
    {
     "data": {
      "text/plain": [
       "      Simulation_Number Maze_Name  Step_Size  Side_Length  Total_Length  \\\n",
       "0                 33741  Maze_135       1.50        70.50         70.50   \n",
       "1                 18101   Maze_85       1.00         3.00          5.00   \n",
       "2                  3865   Maze_52       1.00         4.00          6.00   \n",
       "3                 15008   Maze_21       0.50        11.50         52.50   \n",
       "4                 20940  Maze_144       1.25        11.25         21.25   \n",
       "...                 ...       ...        ...          ...           ...   \n",
       "4995              13449   Maze_99       1.50         9.00         18.00   \n",
       "4996              10344  Maze_138       2.00        16.00         40.00   \n",
       "4997              32074  Maze_113       1.50        10.50         22.50   \n",
       "4998               8532  Maze_114       1.75        14.00         31.50   \n",
       "4999               4214   Maze_57       1.00         5.00          5.00   \n",
       "\n",
       "      Corner  Width  Height  Fillet_Radius  Simulation_Resistance  \n",
       "0          0 200.00  100.00           0.00                   0.93  \n",
       "1          4 270.00  206.67         202.50                   0.01  \n",
       "2          4 224.00  310.00         140.00                   0.01  \n",
       "3         68  40.00   66.67          30.00                  33.31  \n",
       "4         12 332.50  665.00         290.94                   0.00  \n",
       "...      ...    ...     ...            ...                    ...  \n",
       "4995       8  40.00   40.00          35.00                  27.66  \n",
       "4996      14 808.00  220.00         707.00                   0.01  \n",
       "4997       8 150.00  100.00          93.75                   0.42  \n",
       "4998      12 541.00  310.00         473.38                   0.01  \n",
       "4999       0  40.00  400.00           0.00                   0.39  \n",
       "\n",
       "[5000 rows x 10 columns]"
      ],
      "text/html": [
       "<div>\n",
       "<style scoped>\n",
       "    .dataframe tbody tr th:only-of-type {\n",
       "        vertical-align: middle;\n",
       "    }\n",
       "\n",
       "    .dataframe tbody tr th {\n",
       "        vertical-align: top;\n",
       "    }\n",
       "\n",
       "    .dataframe thead th {\n",
       "        text-align: right;\n",
       "    }\n",
       "</style>\n",
       "<table border=\"1\" class=\"dataframe\">\n",
       "  <thead>\n",
       "    <tr style=\"text-align: right;\">\n",
       "      <th></th>\n",
       "      <th>Simulation_Number</th>\n",
       "      <th>Maze_Name</th>\n",
       "      <th>Step_Size</th>\n",
       "      <th>Side_Length</th>\n",
       "      <th>Total_Length</th>\n",
       "      <th>Corner</th>\n",
       "      <th>Width</th>\n",
       "      <th>Height</th>\n",
       "      <th>Fillet_Radius</th>\n",
       "      <th>Simulation_Resistance</th>\n",
       "    </tr>\n",
       "  </thead>\n",
       "  <tbody>\n",
       "    <tr>\n",
       "      <th>0</th>\n",
       "      <td>33741</td>\n",
       "      <td>Maze_135</td>\n",
       "      <td>1.50</td>\n",
       "      <td>70.50</td>\n",
       "      <td>70.50</td>\n",
       "      <td>0</td>\n",
       "      <td>200.00</td>\n",
       "      <td>100.00</td>\n",
       "      <td>0.00</td>\n",
       "      <td>0.93</td>\n",
       "    </tr>\n",
       "    <tr>\n",
       "      <th>1</th>\n",
       "      <td>18101</td>\n",
       "      <td>Maze_85</td>\n",
       "      <td>1.00</td>\n",
       "      <td>3.00</td>\n",
       "      <td>5.00</td>\n",
       "      <td>4</td>\n",
       "      <td>270.00</td>\n",
       "      <td>206.67</td>\n",
       "      <td>202.50</td>\n",
       "      <td>0.01</td>\n",
       "    </tr>\n",
       "    <tr>\n",
       "      <th>2</th>\n",
       "      <td>3865</td>\n",
       "      <td>Maze_52</td>\n",
       "      <td>1.00</td>\n",
       "      <td>4.00</td>\n",
       "      <td>6.00</td>\n",
       "      <td>4</td>\n",
       "      <td>224.00</td>\n",
       "      <td>310.00</td>\n",
       "      <td>140.00</td>\n",
       "      <td>0.01</td>\n",
       "    </tr>\n",
       "    <tr>\n",
       "      <th>3</th>\n",
       "      <td>15008</td>\n",
       "      <td>Maze_21</td>\n",
       "      <td>0.50</td>\n",
       "      <td>11.50</td>\n",
       "      <td>52.50</td>\n",
       "      <td>68</td>\n",
       "      <td>40.00</td>\n",
       "      <td>66.67</td>\n",
       "      <td>30.00</td>\n",
       "      <td>33.31</td>\n",
       "    </tr>\n",
       "    <tr>\n",
       "      <th>4</th>\n",
       "      <td>20940</td>\n",
       "      <td>Maze_144</td>\n",
       "      <td>1.25</td>\n",
       "      <td>11.25</td>\n",
       "      <td>21.25</td>\n",
       "      <td>12</td>\n",
       "      <td>332.50</td>\n",
       "      <td>665.00</td>\n",
       "      <td>290.94</td>\n",
       "      <td>0.00</td>\n",
       "    </tr>\n",
       "    <tr>\n",
       "      <th>...</th>\n",
       "      <td>...</td>\n",
       "      <td>...</td>\n",
       "      <td>...</td>\n",
       "      <td>...</td>\n",
       "      <td>...</td>\n",
       "      <td>...</td>\n",
       "      <td>...</td>\n",
       "      <td>...</td>\n",
       "      <td>...</td>\n",
       "      <td>...</td>\n",
       "    </tr>\n",
       "    <tr>\n",
       "      <th>4995</th>\n",
       "      <td>13449</td>\n",
       "      <td>Maze_99</td>\n",
       "      <td>1.50</td>\n",
       "      <td>9.00</td>\n",
       "      <td>18.00</td>\n",
       "      <td>8</td>\n",
       "      <td>40.00</td>\n",
       "      <td>40.00</td>\n",
       "      <td>35.00</td>\n",
       "      <td>27.66</td>\n",
       "    </tr>\n",
       "    <tr>\n",
       "      <th>4996</th>\n",
       "      <td>10344</td>\n",
       "      <td>Maze_138</td>\n",
       "      <td>2.00</td>\n",
       "      <td>16.00</td>\n",
       "      <td>40.00</td>\n",
       "      <td>14</td>\n",
       "      <td>808.00</td>\n",
       "      <td>220.00</td>\n",
       "      <td>707.00</td>\n",
       "      <td>0.01</td>\n",
       "    </tr>\n",
       "    <tr>\n",
       "      <th>4997</th>\n",
       "      <td>32074</td>\n",
       "      <td>Maze_113</td>\n",
       "      <td>1.50</td>\n",
       "      <td>10.50</td>\n",
       "      <td>22.50</td>\n",
       "      <td>8</td>\n",
       "      <td>150.00</td>\n",
       "      <td>100.00</td>\n",
       "      <td>93.75</td>\n",
       "      <td>0.42</td>\n",
       "    </tr>\n",
       "    <tr>\n",
       "      <th>4998</th>\n",
       "      <td>8532</td>\n",
       "      <td>Maze_114</td>\n",
       "      <td>1.75</td>\n",
       "      <td>14.00</td>\n",
       "      <td>31.50</td>\n",
       "      <td>12</td>\n",
       "      <td>541.00</td>\n",
       "      <td>310.00</td>\n",
       "      <td>473.38</td>\n",
       "      <td>0.01</td>\n",
       "    </tr>\n",
       "    <tr>\n",
       "      <th>4999</th>\n",
       "      <td>4214</td>\n",
       "      <td>Maze_57</td>\n",
       "      <td>1.00</td>\n",
       "      <td>5.00</td>\n",
       "      <td>5.00</td>\n",
       "      <td>0</td>\n",
       "      <td>40.00</td>\n",
       "      <td>400.00</td>\n",
       "      <td>0.00</td>\n",
       "      <td>0.39</td>\n",
       "    </tr>\n",
       "  </tbody>\n",
       "</table>\n",
       "<p>5000 rows × 10 columns</p>\n",
       "</div>"
      ]
     },
     "execution_count": 3,
     "metadata": {},
     "output_type": "execute_result"
    }
   ],
   "execution_count": 3
  },
  {
   "metadata": {
    "ExecuteTime": {
     "end_time": "2024-06-18T10:50:06.615984Z",
     "start_time": "2024-06-18T10:49:44.724175Z"
    }
   },
   "cell_type": "code",
   "source": [
    "predictions = []\n",
    "real_values = []\n",
    "\n",
    "test_len = REAL_TEST_DATA.shape[0]\n",
    "for i in range(test_len):\n",
    "    \n",
    "    # create data dictionary with feature columns\n",
    "    data_dict = REAL_TEST_DATA.iloc[i][feature_columns].to_dict()\n",
    "    \n",
    "    prediction = PRE_MODEL_OBJ.predict(data_dict)\n",
    "    real_value = REAL_TEST_DATA.iloc[i]['Simulation_Resistance']    \n",
    "        \n",
    "    predictions.append(prediction)\n",
    "    real_values.append(real_value)"
   ],
   "id": "4b6a511ce7e41d16",
   "outputs": [],
   "execution_count": 4
  },
  {
   "metadata": {
    "ExecuteTime": {
     "end_time": "2024-06-18T10:50:06.621922Z",
     "start_time": "2024-06-18T10:50:06.618012Z"
    }
   },
   "cell_type": "code",
   "source": [
    "rmse, mape = (RMSE(np.array(predictions), np.array(real_values)),\n",
    "              MAPE(np.array(predictions), np.array(real_values)))\n",
    "\n",
    "print(f'RMSE: {rmse:.3f}, MAPE: {mape:.3f}')"
   ],
   "id": "e1d0a429632289f7",
   "outputs": [
    {
     "name": "stdout",
     "output_type": "stream",
     "text": [
      "RMSE: 0.140, MAPE: 0.013\n"
     ]
    }
   ],
   "execution_count": 5
  },
  {
   "metadata": {
    "ExecuteTime": {
     "end_time": "2024-06-18T10:50:06.631966Z",
     "start_time": "2024-06-18T10:50:06.622822Z"
    }
   },
   "cell_type": "code",
   "source": [
    "data_dict = {'Step_Size': 1.5,\n",
    "             'Side_Length': 10,\n",
    "             'Total_Length': 10,\n",
    "             'Corner': 20,\n",
    "             'Height': 50,  # micrometer\n",
    "             'Width': 50,  # micrometer\n",
    "             'Fillet_Radius': 50  # micrometer\n",
    "              }\n",
    "\n",
    "PRE_MODEL_OBJ.predict(data_dict)"
   ],
   "id": "87ed3a2b67b5def1",
   "outputs": [
    {
     "data": {
      "text/plain": [
       "7.713044105445887"
      ]
     },
     "execution_count": 6,
     "metadata": {},
     "output_type": "execute_result"
    }
   ],
   "execution_count": 6
  }
 ],
 "metadata": {
  "kernelspec": {
   "display_name": "Python 3",
   "language": "python",
   "name": "python3"
  },
  "language_info": {
   "codemirror_mode": {
    "name": "ipython",
    "version": 2
   },
   "file_extension": ".py",
   "mimetype": "text/x-python",
   "name": "python",
   "nbconvert_exporter": "python",
   "pygments_lexer": "ipython2",
   "version": "2.7.6"
  }
 },
 "nbformat": 4,
 "nbformat_minor": 5
}
