{
 "cells": [
  {
   "cell_type": "code",
   "execution_count": 1,
   "outputs": [],
   "source": [
    "from lazypredict.Supervised import LazyRegressor\n",
    "from sklearn.utils import shuffle\n",
    "import numpy as np\n",
    "import pandas as pd\n",
    "import json\n",
    "import pickle\n",
    "import matplotlib.pyplot as plt"
   ],
   "metadata": {
    "collapsed": false,
    "ExecuteTime": {
     "end_time": "2024-06-16T23:58:22.260707200Z",
     "start_time": "2024-06-16T23:58:19.796509700Z"
    }
   },
   "id": "41dda97956a8bfa9"
  },
  {
   "cell_type": "markdown",
   "source": [
    "# Load DataSet"
   ],
   "metadata": {
    "collapsed": false
   },
   "id": "6719f09cc1370a63"
  },
  {
   "cell_type": "code",
   "execution_count": 2,
   "outputs": [
    {
     "data": {
      "text/plain": "       Simulation_Number Maze_Name  Step_Size  Side_Length  Total_Length  \\\n0                      1    Maze_1       0.50         1.50          2.50   \n1                      2    Maze_1       0.50         1.50          2.50   \n2                      3    Maze_1       0.50         1.50          2.50   \n3                      4    Maze_1       0.50         1.50          2.50   \n4                      5    Maze_1       0.50         1.50          2.50   \n...                  ...       ...        ...          ...           ...   \n33835              10196  Maze_136       1.50        19.50         31.50   \n33836              10197  Maze_136       1.50        19.50         31.50   \n33837              10198  Maze_136       1.50        19.50         31.50   \n33838              10199  Maze_136       1.50        19.50         31.50   \n33839              10200  Maze_136       1.50        19.50         31.50   \n\n       Corner  Width  Height  Fillet_Radius  Pressure_Difference  Flow_Rate  \\\n0           4   0.04    0.04           0.03                   10       2.54   \n1           4   0.04    0.04           0.03                   10       2.55   \n2           4   0.04    0.04           0.04                   10       2.56   \n3           4   0.04    0.13           0.03                   10      15.29   \n4           4   0.04    0.13           0.03                   10      15.35   \n...       ...    ...     ...            ...                  ...        ...   \n33835      10   0.25    0.20           0.19                   10     195.17   \n33836      10   0.25    0.20           0.22                   10     195.89   \n33837      10   0.25    0.25           0.16                   10     308.82   \n33838      10   0.25    0.25           0.19                   10     310.45   \n33839      10   0.25    0.25           0.22                   10     310.98   \n\n       Simulation_Resistance  \n0                       3.94  \n1                       3.92  \n2                       3.90  \n3                       0.65  \n4                       0.65  \n...                      ...  \n33835                   0.05  \n33836                   0.05  \n33837                   0.03  \n33838                   0.03  \n33839                   0.03  \n\n[33840 rows x 12 columns]",
      "text/html": "<div>\n<style scoped>\n    .dataframe tbody tr th:only-of-type {\n        vertical-align: middle;\n    }\n\n    .dataframe tbody tr th {\n        vertical-align: top;\n    }\n\n    .dataframe thead th {\n        text-align: right;\n    }\n</style>\n<table border=\"1\" class=\"dataframe\">\n  <thead>\n    <tr style=\"text-align: right;\">\n      <th></th>\n      <th>Simulation_Number</th>\n      <th>Maze_Name</th>\n      <th>Step_Size</th>\n      <th>Side_Length</th>\n      <th>Total_Length</th>\n      <th>Corner</th>\n      <th>Width</th>\n      <th>Height</th>\n      <th>Fillet_Radius</th>\n      <th>Pressure_Difference</th>\n      <th>Flow_Rate</th>\n      <th>Simulation_Resistance</th>\n    </tr>\n  </thead>\n  <tbody>\n    <tr>\n      <th>0</th>\n      <td>1</td>\n      <td>Maze_1</td>\n      <td>0.50</td>\n      <td>1.50</td>\n      <td>2.50</td>\n      <td>4</td>\n      <td>0.04</td>\n      <td>0.04</td>\n      <td>0.03</td>\n      <td>10</td>\n      <td>2.54</td>\n      <td>3.94</td>\n    </tr>\n    <tr>\n      <th>1</th>\n      <td>2</td>\n      <td>Maze_1</td>\n      <td>0.50</td>\n      <td>1.50</td>\n      <td>2.50</td>\n      <td>4</td>\n      <td>0.04</td>\n      <td>0.04</td>\n      <td>0.03</td>\n      <td>10</td>\n      <td>2.55</td>\n      <td>3.92</td>\n    </tr>\n    <tr>\n      <th>2</th>\n      <td>3</td>\n      <td>Maze_1</td>\n      <td>0.50</td>\n      <td>1.50</td>\n      <td>2.50</td>\n      <td>4</td>\n      <td>0.04</td>\n      <td>0.04</td>\n      <td>0.04</td>\n      <td>10</td>\n      <td>2.56</td>\n      <td>3.90</td>\n    </tr>\n    <tr>\n      <th>3</th>\n      <td>4</td>\n      <td>Maze_1</td>\n      <td>0.50</td>\n      <td>1.50</td>\n      <td>2.50</td>\n      <td>4</td>\n      <td>0.04</td>\n      <td>0.13</td>\n      <td>0.03</td>\n      <td>10</td>\n      <td>15.29</td>\n      <td>0.65</td>\n    </tr>\n    <tr>\n      <th>4</th>\n      <td>5</td>\n      <td>Maze_1</td>\n      <td>0.50</td>\n      <td>1.50</td>\n      <td>2.50</td>\n      <td>4</td>\n      <td>0.04</td>\n      <td>0.13</td>\n      <td>0.03</td>\n      <td>10</td>\n      <td>15.35</td>\n      <td>0.65</td>\n    </tr>\n    <tr>\n      <th>...</th>\n      <td>...</td>\n      <td>...</td>\n      <td>...</td>\n      <td>...</td>\n      <td>...</td>\n      <td>...</td>\n      <td>...</td>\n      <td>...</td>\n      <td>...</td>\n      <td>...</td>\n      <td>...</td>\n      <td>...</td>\n    </tr>\n    <tr>\n      <th>33835</th>\n      <td>10196</td>\n      <td>Maze_136</td>\n      <td>1.50</td>\n      <td>19.50</td>\n      <td>31.50</td>\n      <td>10</td>\n      <td>0.25</td>\n      <td>0.20</td>\n      <td>0.19</td>\n      <td>10</td>\n      <td>195.17</td>\n      <td>0.05</td>\n    </tr>\n    <tr>\n      <th>33836</th>\n      <td>10197</td>\n      <td>Maze_136</td>\n      <td>1.50</td>\n      <td>19.50</td>\n      <td>31.50</td>\n      <td>10</td>\n      <td>0.25</td>\n      <td>0.20</td>\n      <td>0.22</td>\n      <td>10</td>\n      <td>195.89</td>\n      <td>0.05</td>\n    </tr>\n    <tr>\n      <th>33837</th>\n      <td>10198</td>\n      <td>Maze_136</td>\n      <td>1.50</td>\n      <td>19.50</td>\n      <td>31.50</td>\n      <td>10</td>\n      <td>0.25</td>\n      <td>0.25</td>\n      <td>0.16</td>\n      <td>10</td>\n      <td>308.82</td>\n      <td>0.03</td>\n    </tr>\n    <tr>\n      <th>33838</th>\n      <td>10199</td>\n      <td>Maze_136</td>\n      <td>1.50</td>\n      <td>19.50</td>\n      <td>31.50</td>\n      <td>10</td>\n      <td>0.25</td>\n      <td>0.25</td>\n      <td>0.19</td>\n      <td>10</td>\n      <td>310.45</td>\n      <td>0.03</td>\n    </tr>\n    <tr>\n      <th>33839</th>\n      <td>10200</td>\n      <td>Maze_136</td>\n      <td>1.50</td>\n      <td>19.50</td>\n      <td>31.50</td>\n      <td>10</td>\n      <td>0.25</td>\n      <td>0.25</td>\n      <td>0.22</td>\n      <td>10</td>\n      <td>310.98</td>\n      <td>0.03</td>\n    </tr>\n  </tbody>\n</table>\n<p>33840 rows × 12 columns</p>\n</div>"
     },
     "execution_count": 2,
     "metadata": {},
     "output_type": "execute_result"
    }
   ],
   "source": [
    "# Data Set Paths\n",
    "SIMULATION_RESULTS_PATH = '../data/datasets/simulations/'\n",
    "\n",
    "# First Dataset\n",
    "FIRST_DATASET = pd.read_csv(f'{SIMULATION_RESULTS_PATH}Simulation_Lib_1.csv')\n",
    "FIRST_DATASET = FIRST_DATASET.dropna().reset_index(drop=True)\n",
    "FIRST_DATASET = FIRST_DATASET.drop(columns=['Theoretical_Resistance'])\n",
    "\n",
    "# Second Dataset\n",
    "SECOND_DATASET = pd.read_csv(f'{SIMULATION_RESULTS_PATH}Simulation_Lib_2.csv')\n",
    "SECOND_DATASET = SECOND_DATASET.dropna().reset_index(drop=True)\n",
    "SECOND_DATASET = SECOND_DATASET.drop(columns=['Theoretical_Resistance'])\n",
    "\n",
    "# Third Dataset\n",
    "THIRD_DATASET = pd.read_csv(f'{SIMULATION_RESULTS_PATH}Simulation_Lib_3.csv')\n",
    "THIRD_DATASET = THIRD_DATASET.dropna().reset_index(drop=True)\n",
    "THIRD_DATASET = THIRD_DATASET.drop(columns=['Theoretical_Resistance'])\n",
    "\n",
    "# Fourth Dataset\n",
    "FOURTH_DATASET = pd.read_csv(f'{SIMULATION_RESULTS_PATH}Simulation_Lib_4.csv')\n",
    "FOURTH_DATASET = FOURTH_DATASET.dropna().reset_index(drop=True)\n",
    "FOURTH_DATASET = FOURTH_DATASET.drop(columns=['Theoretical_Resistance'])\n",
    "\n",
    "# Concatenate\n",
    "#SIMULATION_RESULTS = pd.concat([FOURTH_DATASET], axis=0).reset_index(drop=True)\n",
    "SIMULATION_RESULTS = pd.concat([FIRST_DATASET ,SECOND_DATASET, THIRD_DATASET, FOURTH_DATASET], axis=0).reset_index(drop=True)\n",
    "\n",
    "WHOLE_DATA = SIMULATION_RESULTS.copy()\n",
    "for row in range(len(WHOLE_DATA)):\n",
    "    if WHOLE_DATA.loc[row, 'Corner'] == 0:\n",
    "        WHOLE_DATA.loc[row, 'Fillet_Radius'] = 0\n",
    "       \n",
    "\n",
    "WHOLE_DATA"
   ],
   "metadata": {
    "collapsed": false,
    "ExecuteTime": {
     "end_time": "2024-06-16T23:58:22.984145700Z",
     "start_time": "2024-06-16T23:58:22.261708700Z"
    }
   },
   "id": "bd7a33b695d6ae31"
  },
  {
   "cell_type": "code",
   "execution_count": 3,
   "outputs": [
    {
     "data": {
      "text/plain": "<Figure size 1000x600 with 1 Axes>",
      "image/png": "[encoded data removed]"
     },
     "metadata": {},
     "output_type": "display_data"
    }
   ],
   "source": [
    "# Plot in Linear Scale\n",
    "plt.figure(figsize=(10, 6))\n",
    "plt.plot(WHOLE_DATA['Simulation_Resistance'].sample(frac=1, random_state=42).reset_index(drop=True), 'o', label='Actual')\n",
    "plt.xlabel('Index')\n",
    "plt.ylabel('Resistance')\n",
    "plt.title('Simulation Results in Normal Scale')\n",
    "plt.legend()\n",
    "plt.show()"
   ],
   "metadata": {
    "collapsed": false,
    "ExecuteTime": {
     "end_time": "2024-06-16T23:58:23.159119400Z",
     "start_time": "2024-06-16T23:58:22.985145200Z"
    }
   },
   "id": "24ba4284d3eff5c9"
  },
  {
   "cell_type": "markdown",
   "source": [
    "# LAZY PREDICT REGRESSION"
   ],
   "metadata": {
    "collapsed": false
   },
   "id": "1bcc41da4f8c2f1f"
  },
  {
   "cell_type": "code",
   "execution_count": 4,
   "outputs": [],
   "source": [
    "FEATURE_DATA = np.array(WHOLE_DATA.iloc[:, 2:-3]).tolist()\n",
    "TARGET = np.array(WHOLE_DATA.iloc[:, -1]).tolist()\n",
    "\n",
    "COLUMN_NAMES = WHOLE_DATA.columns.tolist()\n",
    "TARGET_NAMES = [COLUMN_NAMES[-1]]\n",
    "FEATURE_NAMES = COLUMN_NAMES[2:-3]\n",
    "\n",
    "# SAVE THE DATA AS JSON LIKE ABOVE\n",
    "DATA_DICT = {\n",
    "    'data': FEATURE_DATA,\n",
    "    'target': TARGET,\n",
    "    'frame': None,\n",
    "    'target_names': TARGET_NAMES,\n",
    "    'feature_names': FEATURE_NAMES\n",
    "}"
   ],
   "metadata": {
    "collapsed": false,
    "ExecuteTime": {
     "end_time": "2024-06-16T23:58:23.248615300Z",
     "start_time": "2024-06-16T23:58:23.161428200Z"
    }
   },
   "id": "76c0f3e0e21f3bcc"
  },
  {
   "cell_type": "code",
   "execution_count": 5,
   "outputs": [
    {
     "name": "stderr",
     "output_type": "stream",
     "text": [
      " 21%|██▏       | 9/42 [00:05<00:30,  1.08it/s]  File \"C:\\Users\\vural\\Desktop\\Projects\\Microfluidic Resistance ML\\Maze Generation and Simulation\\venv\\Lib\\site-packages\\joblib\\externals\\loky\\backend\\context.py\", line 282, in _count_physical_cores\n",
      "    raise ValueError(f\"found {cpu_count_physical} physical cores < 1\")\n",
      "100%|██████████| 42/42 [19:37<00:00, 28.04s/it]   \n"
     ]
    },
    {
     "name": "stdout",
     "output_type": "stream",
     "text": [
      "[LightGBM] [Info] Auto-choosing row-wise multi-threading, the overhead of testing was 0.000726 seconds.\n",
      "You can set `force_row_wise=true` to remove the overhead.\n",
      "And if memory is not enough, you can set `force_col_wise=true`.\n",
      "[LightGBM] [Info] Total Bins 610\n",
      "[LightGBM] [Info] Number of data points in the train set: 30456, number of used features: 7\n",
      "[LightGBM] [Info] Start training from score 4.546741\n"
     ]
    }
   ],
   "source": [
    "X, Y = shuffle(DATA_DICT['data'], DATA_DICT['target'], random_state=13)\n",
    "X = np.array(X).astype(np.float32)\n",
    "Y = np.array(Y).astype(np.float32)\n",
    "\n",
    "OFFSET = int(len(X) * 0.9)\n",
    "\n",
    "X_TRAIN, Y_TRAIN = X[:OFFSET], Y[:OFFSET]\n",
    "X_TEST, Y_TEST = X[OFFSET:], Y[OFFSET:]\n",
    "\n",
    "REG = LazyRegressor(verbose=0, ignore_warnings=False, custom_metric=None, predictions=True)\n",
    "SCORES, PREDICTIONS = REG.fit(X_TRAIN, X_TEST, Y_TRAIN, Y_TEST)"
   ],
   "metadata": {
    "collapsed": false,
    "ExecuteTime": {
     "end_time": "2024-06-17T00:18:00.905718500Z",
     "start_time": "2024-06-16T23:58:23.249615300Z"
    }
   },
   "id": "5c8854baa9e7504a"
  },
  {
   "cell_type": "code",
   "execution_count": 6,
   "outputs": [
    {
     "data": {
      "text/plain": "                               Adjusted R-Squared  R-Squared  RMSE  Time Taken\nModel                                                                         \nExtraTreesRegressor                          1.00       1.00  0.10        3.80\nExtraTreeRegressor                           1.00       1.00  0.15        0.05\nDecisionTreeRegressor                        1.00       1.00  0.16        0.11\nRandomForestRegressor                        1.00       1.00  0.18        5.68\nXGBRegressor                                 1.00       1.00  0.25        1.54\nBaggingRegressor                             1.00       1.00  0.25        0.72\nHistGradientBoostingRegressor                1.00       1.00  0.77        0.34\nLGBMRegressor                                1.00       1.00  0.85        0.17\nMLPRegressor                                 0.99       0.99  1.19       16.56\nGradientBoostingRegressor                    0.99       0.99  1.29        1.64\nGaussianProcessRegressor                     0.94       0.94  3.61     1028.11\nKNeighborsRegressor                          0.93       0.93  3.83        0.08\nAdaBoostRegressor                            0.62       0.62  8.85        0.88\nNuSVR                                        0.55       0.55  9.68       25.47\nSVR                                          0.54       0.54  9.72       18.80\nPoissonRegressor                             0.49       0.50 10.23        0.05\nOrthogonalMatchingPursuitCV                  0.22       0.22 12.73        0.03\nLassoLarsCV                                  0.22       0.22 12.74        0.04\nLars                                         0.22       0.22 12.74        0.04\nLarsCV                                       0.22       0.22 12.74        0.06\nTransformedTargetRegressor                   0.22       0.22 12.74        0.02\nLassoLarsIC                                  0.22       0.22 12.74        0.06\nLinearRegression                             0.22       0.22 12.74        0.01\nRidge                                        0.22       0.22 12.74        0.02\nRidgeCV                                      0.22       0.22 12.74        0.05\nLassoCV                                      0.22       0.22 12.74        0.26\nBayesianRidge                                0.22       0.22 12.74        0.03\nElasticNetCV                                 0.22       0.22 12.74        0.14\nSGDRegressor                                 0.21       0.22 12.76        0.03\nGammaRegressor                               0.20       0.20 12.85        0.11\nLasso                                        0.18       0.18 13.04        0.13\nLassoLars                                    0.18       0.18 13.04        0.01\nElasticNet                                   0.17       0.17 13.09        0.18\nTweedieRegressor                             0.17       0.17 13.11        0.03\nKernelRidge                                  0.12       0.12 13.51       55.25\nPassiveAggressiveRegressor                   0.10       0.10 13.67        0.04\nOrthogonalMatchingPursuit                    0.08       0.08 13.78        0.01\nHuberRegressor                               0.03       0.03 14.18        0.11\nLinearSVR                                    0.01       0.01 14.32        0.13\nDummyRegressor                              -0.00      -0.00 14.40        0.01\nRANSACRegressor                             -0.05      -0.05 14.75        0.14\nQuantileRegressor                           -0.09      -0.09 15.04       16.51",
      "text/html": "<div>\n<style scoped>\n    .dataframe tbody tr th:only-of-type {\n        vertical-align: middle;\n    }\n\n    .dataframe tbody tr th {\n        vertical-align: top;\n    }\n\n    .dataframe thead th {\n        text-align: right;\n    }\n</style>\n<table border=\"1\" class=\"dataframe\">\n  <thead>\n    <tr style=\"text-align: right;\">\n      <th></th>\n      <th>Adjusted R-Squared</th>\n      <th>R-Squared</th>\n      <th>RMSE</th>\n      <th>Time Taken</th>\n    </tr>\n    <tr>\n      <th>Model</th>\n      <th></th>\n      <th></th>\n      <th></th>\n      <th></th>\n    </tr>\n  </thead>\n  <tbody>\n    <tr>\n      <th>ExtraTreesRegressor</th>\n      <td>1.00</td>\n      <td>1.00</td>\n      <td>0.10</td>\n      <td>3.80</td>\n    </tr>\n    <tr>\n      <th>ExtraTreeRegressor</th>\n      <td>1.00</td>\n      <td>1.00</td>\n      <td>0.15</td>\n      <td>0.05</td>\n    </tr>\n    <tr>\n      <th>DecisionTreeRegressor</th>\n      <td>1.00</td>\n      <td>1.00</td>\n      <td>0.16</td>\n      <td>0.11</td>\n    </tr>\n    <tr>\n      <th>RandomForestRegressor</th>\n      <td>1.00</td>\n      <td>1.00</td>\n      <td>0.18</td>\n      <td>5.68</td>\n    </tr>\n    <tr>\n      <th>XGBRegressor</th>\n      <td>1.00</td>\n      <td>1.00</td>\n      <td>0.25</td>\n      <td>1.54</td>\n    </tr>\n    <tr>\n      <th>BaggingRegressor</th>\n      <td>1.00</td>\n      <td>1.00</td>\n      <td>0.25</td>\n      <td>0.72</td>\n    </tr>\n    <tr>\n      <th>HistGradientBoostingRegressor</th>\n      <td>1.00</td>\n      <td>1.00</td>\n      <td>0.77</td>\n      <td>0.34</td>\n    </tr>\n    <tr>\n      <th>LGBMRegressor</th>\n      <td>1.00</td>\n      <td>1.00</td>\n      <td>0.85</td>\n      <td>0.17</td>\n    </tr>\n    <tr>\n      <th>MLPRegressor</th>\n      <td>0.99</td>\n      <td>0.99</td>\n      <td>1.19</td>\n      <td>16.56</td>\n    </tr>\n    <tr>\n      <th>GradientBoostingRegressor</th>\n      <td>0.99</td>\n      <td>0.99</td>\n      <td>1.29</td>\n      <td>1.64</td>\n    </tr>\n    <tr>\n      <th>GaussianProcessRegressor</th>\n      <td>0.94</td>\n      <td>0.94</td>\n      <td>3.61</td>\n      <td>1028.11</td>\n    </tr>\n    <tr>\n      <th>KNeighborsRegressor</th>\n      <td>0.93</td>\n      <td>0.93</td>\n      <td>3.83</td>\n      <td>0.08</td>\n    </tr>\n    <tr>\n      <th>AdaBoostRegressor</th>\n      <td>0.62</td>\n      <td>0.62</td>\n      <td>8.85</td>\n      <td>0.88</td>\n    </tr>\n    <tr>\n      <th>NuSVR</th>\n      <td>0.55</td>\n      <td>0.55</td>\n      <td>9.68</td>\n      <td>25.47</td>\n    </tr>\n    <tr>\n      <th>SVR</th>\n      <td>0.54</td>\n      <td>0.54</td>\n      <td>9.72</td>\n      <td>18.80</td>\n    </tr>\n    <tr>\n      <th>PoissonRegressor</th>\n      <td>0.49</td>\n      <td>0.50</td>\n      <td>10.23</td>\n      <td>0.05</td>\n    </tr>\n    <tr>\n      <th>OrthogonalMatchingPursuitCV</th>\n      <td>0.22</td>\n      <td>0.22</td>\n      <td>12.73</td>\n      <td>0.03</td>\n    </tr>\n    <tr>\n      <th>LassoLarsCV</th>\n      <td>0.22</td>\n      <td>0.22</td>\n      <td>12.74</td>\n      <td>0.04</td>\n    </tr>\n    <tr>\n      <th>Lars</th>\n      <td>0.22</td>\n      <td>0.22</td>\n      <td>12.74</td>\n      <td>0.04</td>\n    </tr>\n    <tr>\n      <th>LarsCV</th>\n      <td>0.22</td>\n      <td>0.22</td>\n      <td>12.74</td>\n      <td>0.06</td>\n    </tr>\n    <tr>\n      <th>TransformedTargetRegressor</th>\n      <td>0.22</td>\n      <td>0.22</td>\n      <td>12.74</td>\n      <td>0.02</td>\n    </tr>\n    <tr>\n      <th>LassoLarsIC</th>\n      <td>0.22</td>\n      <td>0.22</td>\n      <td>12.74</td>\n      <td>0.06</td>\n    </tr>\n    <tr>\n      <th>LinearRegression</th>\n      <td>0.22</td>\n      <td>0.22</td>\n      <td>12.74</td>\n      <td>0.01</td>\n    </tr>\n    <tr>\n      <th>Ridge</th>\n      <td>0.22</td>\n      <td>0.22</td>\n      <td>12.74</td>\n      <td>0.02</td>\n    </tr>\n    <tr>\n      <th>RidgeCV</th>\n      <td>0.22</td>\n      <td>0.22</td>\n      <td>12.74</td>\n      <td>0.05</td>\n    </tr>\n    <tr>\n      <th>LassoCV</th>\n      <td>0.22</td>\n      <td>0.22</td>\n      <td>12.74</td>\n      <td>0.26</td>\n    </tr>\n    <tr>\n      <th>BayesianRidge</th>\n      <td>0.22</td>\n      <td>0.22</td>\n      <td>12.74</td>\n      <td>0.03</td>\n    </tr>\n    <tr>\n      <th>ElasticNetCV</th>\n      <td>0.22</td>\n      <td>0.22</td>\n      <td>12.74</td>\n      <td>0.14</td>\n    </tr>\n    <tr>\n      <th>SGDRegressor</th>\n      <td>0.21</td>\n      <td>0.22</td>\n      <td>12.76</td>\n      <td>0.03</td>\n    </tr>\n    <tr>\n      <th>GammaRegressor</th>\n      <td>0.20</td>\n      <td>0.20</td>\n      <td>12.85</td>\n      <td>0.11</td>\n    </tr>\n    <tr>\n      <th>Lasso</th>\n      <td>0.18</td>\n      <td>0.18</td>\n      <td>13.04</td>\n      <td>0.13</td>\n    </tr>\n    <tr>\n      <th>LassoLars</th>\n      <td>0.18</td>\n      <td>0.18</td>\n      <td>13.04</td>\n      <td>0.01</td>\n    </tr>\n    <tr>\n      <th>ElasticNet</th>\n      <td>0.17</td>\n      <td>0.17</td>\n      <td>13.09</td>\n      <td>0.18</td>\n    </tr>\n    <tr>\n      <th>TweedieRegressor</th>\n      <td>0.17</td>\n      <td>0.17</td>\n      <td>13.11</td>\n      <td>0.03</td>\n    </tr>\n    <tr>\n      <th>KernelRidge</th>\n      <td>0.12</td>\n      <td>0.12</td>\n      <td>13.51</td>\n      <td>55.25</td>\n    </tr>\n    <tr>\n      <th>PassiveAggressiveRegressor</th>\n      <td>0.10</td>\n      <td>0.10</td>\n      <td>13.67</td>\n      <td>0.04</td>\n    </tr>\n    <tr>\n      <th>OrthogonalMatchingPursuit</th>\n      <td>0.08</td>\n      <td>0.08</td>\n      <td>13.78</td>\n      <td>0.01</td>\n    </tr>\n    <tr>\n      <th>HuberRegressor</th>\n      <td>0.03</td>\n      <td>0.03</td>\n      <td>14.18</td>\n      <td>0.11</td>\n    </tr>\n    <tr>\n      <th>LinearSVR</th>\n      <td>0.01</td>\n      <td>0.01</td>\n      <td>14.32</td>\n      <td>0.13</td>\n    </tr>\n    <tr>\n      <th>DummyRegressor</th>\n      <td>-0.00</td>\n      <td>-0.00</td>\n      <td>14.40</td>\n      <td>0.01</td>\n    </tr>\n    <tr>\n      <th>RANSACRegressor</th>\n      <td>-0.05</td>\n      <td>-0.05</td>\n      <td>14.75</td>\n      <td>0.14</td>\n    </tr>\n    <tr>\n      <th>QuantileRegressor</th>\n      <td>-0.09</td>\n      <td>-0.09</td>\n      <td>15.04</td>\n      <td>16.51</td>\n    </tr>\n  </tbody>\n</table>\n</div>"
     },
     "execution_count": 6,
     "metadata": {},
     "output_type": "execute_result"
    }
   ],
   "source": [
    "SCORES"
   ],
   "metadata": {
    "collapsed": false,
    "ExecuteTime": {
     "end_time": "2024-06-17T00:18:01.147153700Z",
     "start_time": "2024-06-17T00:18:00.967634300Z"
    }
   },
   "id": "cceaa633cbaf3641"
  },
  {
   "cell_type": "code",
   "execution_count": 7,
   "outputs": [],
   "source": [
    "# Extract models\n",
    "ALL_MODELS = REG.models"
   ],
   "metadata": {
    "collapsed": false,
    "ExecuteTime": {
     "end_time": "2024-06-17T00:18:01.147153700Z",
     "start_time": "2024-06-17T00:18:00.969664Z"
    }
   },
   "id": "75534b2bb7a519de"
  },
  {
   "cell_type": "markdown",
   "source": [
    "# FUNCTIONS FOR PLOTTING AND ERROR ANALYSIS"
   ],
   "metadata": {
    "collapsed": false
   },
   "id": "fa563f75d785eea3"
  },
  {
   "cell_type": "code",
   "execution_count": 8,
   "outputs": [],
   "source": [
    "def predict_with_model(model, data_set, data_results):\n",
    "        \n",
    "    # Make predictions\n",
    "    predictions = model.predict(data_set)\n",
    "    \n",
    "    # Calculate the error\n",
    "    mean_squared_error = np.mean((predictions - data_results)**2)\n",
    "    root_mean_squared_error = np.sqrt(mean_squared_error)\n",
    "    mean_absolute_error = np.mean(np.abs(predictions - data_results))\n",
    "    mean_absolute_percentage_error = np.mean(np.abs(predictions - data_results) / data_results)\n",
    "    \n",
    "    return predictions, mean_squared_error, root_mean_squared_error, mean_absolute_error, mean_absolute_percentage_error"
   ],
   "metadata": {
    "collapsed": false,
    "ExecuteTime": {
     "end_time": "2024-06-17T00:18:01.147153700Z",
     "start_time": "2024-06-17T00:18:00.970665800Z"
    }
   },
   "id": "6b9ed4bd620c7839"
  },
  {
   "cell_type": "code",
   "execution_count": 0,
   "outputs": [],
   "source": [
    "def plots_with_predictions(model_name,predictions, data_results):\n",
    "    \n",
    "    title = model_name + ' Model'\n",
    "    \n",
    "    # Plot the results\n",
    "    plt.figure(figsize=(10, 5))\n",
    "    plt.plot(data_results, 'o', label='Real Values')\n",
    "    plt.plot(predictions, 'x', label='Predictions')\n",
    "    plt.legend()\n",
    "    plt.title(title)\n",
    "    plt.xlabel('Data Index')\n",
    "    plt.ylabel('Resistance')\n",
    "    plt.show()\n",
    "    \n",
    "    # Plot the results\n",
    "    plt.figure(figsize=(10, 5))\n",
    "    plt.plot(data_results, data_results, '-', label='Real Values')\n",
    "    plt.plot(data_results, predictions, 'o', label='Predictions')\n",
    "    plt.legend()\n",
    "    plt.title(title)\n",
    "    plt.xlabel('Real Resistance')\n",
    "    plt.ylabel('Predicted Resistance')\n",
    "    plt.show()\n",
    "        \n",
    "\n",
    "def plot_train_test_convergence(model,model_name, X, Y):\n",
    "    \n",
    "    # Train and test the model\n",
    "    fraction_list = np.linspace(0.05, 0.95, 20)\n",
    "\n",
    "    train_mean_abs_errors = []\n",
    "    test_mean_abs_errors = []\n",
    "    train_mean_squared_errors = []\n",
    "    test_mean_squared_errors = []\n",
    "\n",
    "    for fraction in fraction_list:\n",
    "\n",
    "        offset = int(len(X) * fraction)\n",
    "\n",
    "        x_train, y_train = X[:offset], Y[:offset]\n",
    "        x_test, y_test = X[offset:], Y[offset:]\n",
    "\n",
    "        model.fit(x_train, y_train)\n",
    "        \n",
    "        for [data_features, data_results] in [[x_train, y_train], [x_test, y_test]]:\n",
    "            \n",
    "            predictions, mean_squared_error, root_mean_squared_error, mean_absolute_error, mean_absolute_percentage_error = predict_with_model(model, data_features, data_results)\n",
    "            \n",
    "            if data_results is y_train:\n",
    "                train_mean_abs_errors.append(mean_absolute_error)\n",
    "                train_mean_squared_errors.append(mean_squared_error)\n",
    "            else:\n",
    "                test_mean_abs_errors.append(mean_absolute_error)\n",
    "                test_mean_squared_errors.append(mean_squared_error)\n",
    "\n",
    "\n",
    "    # Plot the results\n",
    "    \n",
    "    title_abs_error = model_name + ' Model Train and Test Mean Absolute Error Convergence'\n",
    "    plt.figure(figsize=(10, 5))\n",
    "    plt.plot(fraction_list, train_mean_abs_errors , 'o-', label='Train Error')\n",
    "    plt.plot(fraction_list, test_mean_abs_errors, 'x-', label='Test Error')\n",
    "    plt.legend()\n",
    "    plt.title(title_abs_error)\n",
    "    plt.xlabel('Fraction of Data')\n",
    "    plt.ylabel('Mean Absolute Error')\n",
    "    plt.show()   \n",
    "    \n",
    "    title_squared_error = model_name + ' Model Train and Test Mean Squared Error Convergence'\n",
    "    plt.figure(figsize=(10, 5))\n",
    "    plt.plot(fraction_list, train_mean_squared_errors , 'o-', label='Train Error')\n",
    "    plt.plot(fraction_list, test_mean_squared_errors, 'x-', label='Test Error')\n",
    "    plt.legend()\n",
    "    plt.title(title_squared_error)\n",
    "    plt.xlabel('Fraction of Data')\n",
    "    plt.ylabel('Mean Squared Error')\n",
    "    plt.show()"
   ],
   "metadata": {
    "collapsed": false
   },
   "id": "624a05324990d741"
  },
  {
   "cell_type": "markdown",
   "source": [
    "# PLOT FOR THE CHOSEN ONE MODEL"
   ],
   "metadata": {
    "collapsed": false
   },
   "id": "e65f1f38c8cb90b4"
  },
  {
   "cell_type": "code",
   "execution_count": 9,
   "outputs": [],
   "source": [
    "MODEL_NAME = 'LGBMRegressor'\n",
    "MODEL = ALL_MODELS[MODEL_NAME]\n",
    "\n",
    "PREDS, MSE, RMSE, MAE, MAPE = predict_with_model(MODEL, X, Y)\n",
    "plots_with_predictions(MODEL_NAME, PREDS, Y)\n",
    "plot_train_test_convergence(MODEL,MODEL_NAME, X, Y)"
   ],
   "metadata": {
    "collapsed": false,
    "ExecuteTime": {
     "start_time": "2024-06-17T00:18:00.970665800Z"
    }
   },
   "id": "c8581ca1eedf9e7a"
  },
  {
   "cell_type": "markdown",
   "source": [
    "# ERROR ANALYSIS FOR ALL REGRESSION MODELS"
   ],
   "metadata": {
    "collapsed": false
   },
   "id": "fb5d783b0beb336d"
  },
  {
   "cell_type": "code",
   "execution_count": 10,
   "outputs": [
    {
     "data": {
      "text/plain": "                            Model  Adjusted_R2    R2  Train_RMSE  Test_RMSE  \\\n0             ExtraTreesRegressor         1.00  1.00        0.01       0.10   \n1              ExtraTreeRegressor         1.00  1.00        0.01       0.15   \n2           DecisionTreeRegressor         1.00  1.00        0.01       0.16   \n3           RandomForestRegressor         1.00  1.00        0.13       0.18   \n4                    XGBRegressor         1.00  1.00        0.14       0.25   \n5                BaggingRegressor         1.00  1.00        0.17       0.25   \n6   HistGradientBoostingRegressor         1.00  1.00        1.03       0.77   \n7                   LGBMRegressor         1.00  1.00        0.93       0.85   \n8                    MLPRegressor         0.99  0.99        1.00       1.19   \n9       GradientBoostingRegressor         0.99  0.99        1.21       1.29   \n10       GaussianProcessRegressor         0.94  0.94        0.02       3.61   \n11            KNeighborsRegressor         0.93  0.93        3.01       3.83   \n12              AdaBoostRegressor         0.62  0.62        8.81       8.85   \n13                          NuSVR         0.55  0.55        9.56       9.68   \n14                            SVR         0.54  0.54        9.60       9.72   \n15               PoissonRegressor         0.49  0.50        9.81      10.23   \n16    OrthogonalMatchingPursuitCV         0.22  0.22       12.55      12.73   \n17                    LassoLarsIC         0.22  0.22       12.54      12.74   \n18                         LarsCV         0.22  0.22       12.54      12.74   \n19                           Lars         0.22  0.22       12.54      12.74   \n20                    LassoLarsCV         0.22  0.22       12.54      12.74   \n21     TransformedTargetRegressor         0.22  0.22       12.54      12.74   \n22               LinearRegression         0.22  0.22       12.54      12.74   \n23                          Ridge         0.22  0.22       12.54      12.74   \n24                        RidgeCV         0.22  0.22       12.54      12.74   \n25                        LassoCV         0.22  0.22       12.54      12.74   \n26                  BayesianRidge         0.22  0.22       12.54      12.74   \n27                   ElasticNetCV         0.22  0.22       12.54      12.74   \n28                   SGDRegressor         0.21  0.22       12.55      12.76   \n29                 GammaRegressor         0.20  0.20       12.35      12.85   \n30                          Lasso         0.18  0.18       12.82      13.04   \n31                      LassoLars         0.18  0.18       12.82      13.04   \n32                     ElasticNet         0.17  0.17       12.87      13.09   \n33               TweedieRegressor         0.17  0.17       12.90      13.11   \n34                    KernelRidge         0.12  0.12       13.34      13.51   \n35     PassiveAggressiveRegressor         0.10  0.10       13.37      13.67   \n36      OrthogonalMatchingPursuit         0.08  0.08       13.60      13.78   \n37                 HuberRegressor         0.03  0.03       14.03      14.18   \n38                      LinearSVR         0.01  0.01       14.17      14.32   \n39                 DummyRegressor        -0.00 -0.00       14.24      14.40   \n40                RANSACRegressor        -0.05 -0.05       14.60      14.75   \n41              QuantileRegressor        -0.09 -0.09       14.88      15.04   \n\n    Train_MAPE  Test_MAPE  Time_Taken  \n0         0.00       0.01        3.80  \n1         0.00       0.01        0.05  \n2         0.00       0.01        0.11  \n3         0.01       0.01        5.68  \n4         0.47       0.47        1.54  \n5         0.01       0.02        0.72  \n6         1.50       1.51        0.34  \n7         2.48       2.43        0.17  \n8        42.73      38.82       16.56  \n9        11.29       9.99        1.64  \n10        0.04      15.59     1028.11  \n11        0.10       0.17        0.08  \n12      872.27     866.09        0.88  \n13       31.67      29.98       25.47  \n14       16.97      15.92       18.80  \n15       16.42      16.75        0.05  \n16     1340.59    1234.45        0.03  \n17     1286.56    1187.80        0.06  \n18     1286.56    1187.80        0.06  \n19     1286.56    1187.80        0.04  \n20     1286.56    1187.80        0.04  \n21     1286.56    1187.80        0.02  \n22     1286.56    1187.80        0.01  \n23     1286.49    1187.73        0.02  \n24     1285.86    1187.13        0.05  \n25     1284.91    1186.18        0.26  \n26     1285.03    1186.34        0.03  \n27     1276.04    1177.73        0.14  \n28     1327.87    1233.42        0.03  \n29       15.55      15.96        0.11  \n30      842.83     768.07        0.13  \n31      842.82     768.06        0.01  \n32      660.32     601.69        0.18  \n33      575.63     525.05        0.03  \n34     1808.32    1706.77       55.25  \n35     1427.69    1427.30        0.04  \n36      216.89     217.58        0.01  \n37      290.22     261.71        0.11  \n38      248.14     222.80        0.13  \n39      561.62     558.30        0.01  \n40      225.75     191.55        0.14  \n41       30.63      30.46       16.51  ",
      "text/html": "<div>\n<style scoped>\n    .dataframe tbody tr th:only-of-type {\n        vertical-align: middle;\n    }\n\n    .dataframe tbody tr th {\n        vertical-align: top;\n    }\n\n    .dataframe thead th {\n        text-align: right;\n    }\n</style>\n<table border=\"1\" class=\"dataframe\">\n  <thead>\n    <tr style=\"text-align: right;\">\n      <th></th>\n      <th>Model</th>\n      <th>Adjusted_R2</th>\n      <th>R2</th>\n      <th>Train_RMSE</th>\n      <th>Test_RMSE</th>\n      <th>Train_MAPE</th>\n      <th>Test_MAPE</th>\n      <th>Time_Taken</th>\n    </tr>\n  </thead>\n  <tbody>\n    <tr>\n      <th>0</th>\n      <td>ExtraTreesRegressor</td>\n      <td>1.00</td>\n      <td>1.00</td>\n      <td>0.01</td>\n      <td>0.10</td>\n      <td>0.00</td>\n      <td>0.01</td>\n      <td>3.80</td>\n    </tr>\n    <tr>\n      <th>1</th>\n      <td>ExtraTreeRegressor</td>\n      <td>1.00</td>\n      <td>1.00</td>\n      <td>0.01</td>\n      <td>0.15</td>\n      <td>0.00</td>\n      <td>0.01</td>\n      <td>0.05</td>\n    </tr>\n    <tr>\n      <th>2</th>\n      <td>DecisionTreeRegressor</td>\n      <td>1.00</td>\n      <td>1.00</td>\n      <td>0.01</td>\n      <td>0.16</td>\n      <td>0.00</td>\n      <td>0.01</td>\n      <td>0.11</td>\n    </tr>\n    <tr>\n      <th>3</th>\n      <td>RandomForestRegressor</td>\n      <td>1.00</td>\n      <td>1.00</td>\n      <td>0.13</td>\n      <td>0.18</td>\n      <td>0.01</td>\n      <td>0.01</td>\n      <td>5.68</td>\n    </tr>\n    <tr>\n      <th>4</th>\n      <td>XGBRegressor</td>\n      <td>1.00</td>\n      <td>1.00</td>\n      <td>0.14</td>\n      <td>0.25</td>\n      <td>0.47</td>\n      <td>0.47</td>\n      <td>1.54</td>\n    </tr>\n    <tr>\n      <th>5</th>\n      <td>BaggingRegressor</td>\n      <td>1.00</td>\n      <td>1.00</td>\n      <td>0.17</td>\n      <td>0.25</td>\n      <td>0.01</td>\n      <td>0.02</td>\n      <td>0.72</td>\n    </tr>\n    <tr>\n      <th>6</th>\n      <td>HistGradientBoostingRegressor</td>\n      <td>1.00</td>\n      <td>1.00</td>\n      <td>1.03</td>\n      <td>0.77</td>\n      <td>1.50</td>\n      <td>1.51</td>\n      <td>0.34</td>\n    </tr>\n    <tr>\n      <th>7</th>\n      <td>LGBMRegressor</td>\n      <td>1.00</td>\n      <td>1.00</td>\n      <td>0.93</td>\n      <td>0.85</td>\n      <td>2.48</td>\n      <td>2.43</td>\n      <td>0.17</td>\n    </tr>\n    <tr>\n      <th>8</th>\n      <td>MLPRegressor</td>\n      <td>0.99</td>\n      <td>0.99</td>\n      <td>1.00</td>\n      <td>1.19</td>\n      <td>42.73</td>\n      <td>38.82</td>\n      <td>16.56</td>\n    </tr>\n    <tr>\n      <th>9</th>\n      <td>GradientBoostingRegressor</td>\n      <td>0.99</td>\n      <td>0.99</td>\n      <td>1.21</td>\n      <td>1.29</td>\n      <td>11.29</td>\n      <td>9.99</td>\n      <td>1.64</td>\n    </tr>\n    <tr>\n      <th>10</th>\n      <td>GaussianProcessRegressor</td>\n      <td>0.94</td>\n      <td>0.94</td>\n      <td>0.02</td>\n      <td>3.61</td>\n      <td>0.04</td>\n      <td>15.59</td>\n      <td>1028.11</td>\n    </tr>\n    <tr>\n      <th>11</th>\n      <td>KNeighborsRegressor</td>\n      <td>0.93</td>\n      <td>0.93</td>\n      <td>3.01</td>\n      <td>3.83</td>\n      <td>0.10</td>\n      <td>0.17</td>\n      <td>0.08</td>\n    </tr>\n    <tr>\n      <th>12</th>\n      <td>AdaBoostRegressor</td>\n      <td>0.62</td>\n      <td>0.62</td>\n      <td>8.81</td>\n      <td>8.85</td>\n      <td>872.27</td>\n      <td>866.09</td>\n      <td>0.88</td>\n    </tr>\n    <tr>\n      <th>13</th>\n      <td>NuSVR</td>\n      <td>0.55</td>\n      <td>0.55</td>\n      <td>9.56</td>\n      <td>9.68</td>\n      <td>31.67</td>\n      <td>29.98</td>\n      <td>25.47</td>\n    </tr>\n    <tr>\n      <th>14</th>\n      <td>SVR</td>\n      <td>0.54</td>\n      <td>0.54</td>\n      <td>9.60</td>\n      <td>9.72</td>\n      <td>16.97</td>\n      <td>15.92</td>\n      <td>18.80</td>\n    </tr>\n    <tr>\n      <th>15</th>\n      <td>PoissonRegressor</td>\n      <td>0.49</td>\n      <td>0.50</td>\n      <td>9.81</td>\n      <td>10.23</td>\n      <td>16.42</td>\n      <td>16.75</td>\n      <td>0.05</td>\n    </tr>\n    <tr>\n      <th>16</th>\n      <td>OrthogonalMatchingPursuitCV</td>\n      <td>0.22</td>\n      <td>0.22</td>\n      <td>12.55</td>\n      <td>12.73</td>\n      <td>1340.59</td>\n      <td>1234.45</td>\n      <td>0.03</td>\n    </tr>\n    <tr>\n      <th>17</th>\n      <td>LassoLarsIC</td>\n      <td>0.22</td>\n      <td>0.22</td>\n      <td>12.54</td>\n      <td>12.74</td>\n      <td>1286.56</td>\n      <td>1187.80</td>\n      <td>0.06</td>\n    </tr>\n    <tr>\n      <th>18</th>\n      <td>LarsCV</td>\n      <td>0.22</td>\n      <td>0.22</td>\n      <td>12.54</td>\n      <td>12.74</td>\n      <td>1286.56</td>\n      <td>1187.80</td>\n      <td>0.06</td>\n    </tr>\n    <tr>\n      <th>19</th>\n      <td>Lars</td>\n      <td>0.22</td>\n      <td>0.22</td>\n      <td>12.54</td>\n      <td>12.74</td>\n      <td>1286.56</td>\n      <td>1187.80</td>\n      <td>0.04</td>\n    </tr>\n    <tr>\n      <th>20</th>\n      <td>LassoLarsCV</td>\n      <td>0.22</td>\n      <td>0.22</td>\n      <td>12.54</td>\n      <td>12.74</td>\n      <td>1286.56</td>\n      <td>1187.80</td>\n      <td>0.04</td>\n    </tr>\n    <tr>\n      <th>21</th>\n      <td>TransformedTargetRegressor</td>\n      <td>0.22</td>\n      <td>0.22</td>\n      <td>12.54</td>\n      <td>12.74</td>\n      <td>1286.56</td>\n      <td>1187.80</td>\n      <td>0.02</td>\n    </tr>\n    <tr>\n      <th>22</th>\n      <td>LinearRegression</td>\n      <td>0.22</td>\n      <td>0.22</td>\n      <td>12.54</td>\n      <td>12.74</td>\n      <td>1286.56</td>\n      <td>1187.80</td>\n      <td>0.01</td>\n    </tr>\n    <tr>\n      <th>23</th>\n      <td>Ridge</td>\n      <td>0.22</td>\n      <td>0.22</td>\n      <td>12.54</td>\n      <td>12.74</td>\n      <td>1286.49</td>\n      <td>1187.73</td>\n      <td>0.02</td>\n    </tr>\n    <tr>\n      <th>24</th>\n      <td>RidgeCV</td>\n      <td>0.22</td>\n      <td>0.22</td>\n      <td>12.54</td>\n      <td>12.74</td>\n      <td>1285.86</td>\n      <td>1187.13</td>\n      <td>0.05</td>\n    </tr>\n    <tr>\n      <th>25</th>\n      <td>LassoCV</td>\n      <td>0.22</td>\n      <td>0.22</td>\n      <td>12.54</td>\n      <td>12.74</td>\n      <td>1284.91</td>\n      <td>1186.18</td>\n      <td>0.26</td>\n    </tr>\n    <tr>\n      <th>26</th>\n      <td>BayesianRidge</td>\n      <td>0.22</td>\n      <td>0.22</td>\n      <td>12.54</td>\n      <td>12.74</td>\n      <td>1285.03</td>\n      <td>1186.34</td>\n      <td>0.03</td>\n    </tr>\n    <tr>\n      <th>27</th>\n      <td>ElasticNetCV</td>\n      <td>0.22</td>\n      <td>0.22</td>\n      <td>12.54</td>\n      <td>12.74</td>\n      <td>1276.04</td>\n      <td>1177.73</td>\n      <td>0.14</td>\n    </tr>\n    <tr>\n      <th>28</th>\n      <td>SGDRegressor</td>\n      <td>0.21</td>\n      <td>0.22</td>\n      <td>12.55</td>\n      <td>12.76</td>\n      <td>1327.87</td>\n      <td>1233.42</td>\n      <td>0.03</td>\n    </tr>\n    <tr>\n      <th>29</th>\n      <td>GammaRegressor</td>\n      <td>0.20</td>\n      <td>0.20</td>\n      <td>12.35</td>\n      <td>12.85</td>\n      <td>15.55</td>\n      <td>15.96</td>\n      <td>0.11</td>\n    </tr>\n    <tr>\n      <th>30</th>\n      <td>Lasso</td>\n      <td>0.18</td>\n      <td>0.18</td>\n      <td>12.82</td>\n      <td>13.04</td>\n      <td>842.83</td>\n      <td>768.07</td>\n      <td>0.13</td>\n    </tr>\n    <tr>\n      <th>31</th>\n      <td>LassoLars</td>\n      <td>0.18</td>\n      <td>0.18</td>\n      <td>12.82</td>\n      <td>13.04</td>\n      <td>842.82</td>\n      <td>768.06</td>\n      <td>0.01</td>\n    </tr>\n    <tr>\n      <th>32</th>\n      <td>ElasticNet</td>\n      <td>0.17</td>\n      <td>0.17</td>\n      <td>12.87</td>\n      <td>13.09</td>\n      <td>660.32</td>\n      <td>601.69</td>\n      <td>0.18</td>\n    </tr>\n    <tr>\n      <th>33</th>\n      <td>TweedieRegressor</td>\n      <td>0.17</td>\n      <td>0.17</td>\n      <td>12.90</td>\n      <td>13.11</td>\n      <td>575.63</td>\n      <td>525.05</td>\n      <td>0.03</td>\n    </tr>\n    <tr>\n      <th>34</th>\n      <td>KernelRidge</td>\n      <td>0.12</td>\n      <td>0.12</td>\n      <td>13.34</td>\n      <td>13.51</td>\n      <td>1808.32</td>\n      <td>1706.77</td>\n      <td>55.25</td>\n    </tr>\n    <tr>\n      <th>35</th>\n      <td>PassiveAggressiveRegressor</td>\n      <td>0.10</td>\n      <td>0.10</td>\n      <td>13.37</td>\n      <td>13.67</td>\n      <td>1427.69</td>\n      <td>1427.30</td>\n      <td>0.04</td>\n    </tr>\n    <tr>\n      <th>36</th>\n      <td>OrthogonalMatchingPursuit</td>\n      <td>0.08</td>\n      <td>0.08</td>\n      <td>13.60</td>\n      <td>13.78</td>\n      <td>216.89</td>\n      <td>217.58</td>\n      <td>0.01</td>\n    </tr>\n    <tr>\n      <th>37</th>\n      <td>HuberRegressor</td>\n      <td>0.03</td>\n      <td>0.03</td>\n      <td>14.03</td>\n      <td>14.18</td>\n      <td>290.22</td>\n      <td>261.71</td>\n      <td>0.11</td>\n    </tr>\n    <tr>\n      <th>38</th>\n      <td>LinearSVR</td>\n      <td>0.01</td>\n      <td>0.01</td>\n      <td>14.17</td>\n      <td>14.32</td>\n      <td>248.14</td>\n      <td>222.80</td>\n      <td>0.13</td>\n    </tr>\n    <tr>\n      <th>39</th>\n      <td>DummyRegressor</td>\n      <td>-0.00</td>\n      <td>-0.00</td>\n      <td>14.24</td>\n      <td>14.40</td>\n      <td>561.62</td>\n      <td>558.30</td>\n      <td>0.01</td>\n    </tr>\n    <tr>\n      <th>40</th>\n      <td>RANSACRegressor</td>\n      <td>-0.05</td>\n      <td>-0.05</td>\n      <td>14.60</td>\n      <td>14.75</td>\n      <td>225.75</td>\n      <td>191.55</td>\n      <td>0.14</td>\n    </tr>\n    <tr>\n      <th>41</th>\n      <td>QuantileRegressor</td>\n      <td>-0.09</td>\n      <td>-0.09</td>\n      <td>14.88</td>\n      <td>15.04</td>\n      <td>30.63</td>\n      <td>30.46</td>\n      <td>16.51</td>\n    </tr>\n  </tbody>\n</table>\n</div>"
     },
     "execution_count": 10,
     "metadata": {},
     "output_type": "execute_result"
    }
   ],
   "source": [
    "MODELS_ERRORS_DF = pd.DataFrame(columns=['Model', 'Adjusted_R2', 'R2',\n",
    "                                         'Train_RMSE', 'Test_RMSE',\n",
    "                                         'Train_MAPE', 'Test_MAPE', 'Time_Taken'])\n",
    "\n",
    "for model_name, model in ALL_MODELS.items():\n",
    "    \n",
    "    CUR_TRAIN_PREDICTIONS, CUR_TRAIN_MSE, CUR_TRAIN_RMSE, CUR_TRAIN_MAE, CUR_TRAIN_MAPE =\\\n",
    "        predict_with_model(model, X_TRAIN, Y_TRAIN)\n",
    "    CUR_TEST_PREDICTIONS, CUR_TEST_MSE, CUR_TEST_RMSE, CUR_TEST_MAE, CUR_TEST_MAPE =\\\n",
    "        predict_with_model(model, X_TEST, Y_TEST)\n",
    "    ADJ_R2 = SCORES.loc[model_name]['Adjusted R-Squared']\n",
    "    R2 = SCORES.loc[model_name]['R-Squared']\n",
    "    TIME_TAKEN = SCORES.loc[model_name]['Time Taken']\n",
    "    \n",
    "    MODELS_ERRORS_DF.loc[len(MODELS_ERRORS_DF)] = [model_name, ADJ_R2, R2, \n",
    "                                                   CUR_TRAIN_RMSE, CUR_TEST_RMSE,\n",
    "                                                   CUR_TRAIN_MAPE, CUR_TEST_MAPE, TIME_TAKEN]\n",
    "    \n",
    "# sort Adjusted_R2, RMSE\n",
    "MODELS_ERRORS_DF = MODELS_ERRORS_DF.sort_values(by=['Adjusted_R2', 'Train_RMSE', 'Test_RMSE', 'Time_Taken'], ascending=False)\n",
    "MODELS_ERRORS_DF.reset_index(drop=True, inplace=True)\n",
    "MODELS_ERRORS_DF"
   ],
   "metadata": {
    "collapsed": false,
    "ExecuteTime": {
     "end_time": "2024-06-17T00:24:57.995013300Z",
     "start_time": "2024-06-17T00:18:00.971664700Z"
    }
   },
   "id": "2d54faa231fabf60"
  },
  {
   "cell_type": "markdown",
   "source": [
    "# SELECT THE BEST REGRESSION MODELS AND CALCULATE THE TRAIN AND TEST ERRORS FOR EACH MODEL"
   ],
   "metadata": {
    "collapsed": false
   },
   "id": "fd05a3565cd69cf4"
  },
  {
   "cell_type": "code",
   "execution_count": 13,
   "outputs": [
    {
     "data": {
      "text/plain": "       ExtraTreesRegressor  ExtraTreeRegressor  DecisionTreeRegressor  \\\n0                     0.00                0.00                   0.00   \n1                     0.00                0.00                   0.00   \n2                     0.00                0.00                   0.00   \n3                     0.01                0.00                   0.00   \n4                     0.00                0.00                   0.00   \n...                    ...                 ...                    ...   \n30451                 0.00                0.00                   0.00   \n30452                 0.00                0.00                   0.00   \n30453                 0.00                0.00                   0.00   \n30454                 0.00                0.00                   0.00   \n30455                 0.00                0.01                   0.00   \n\n       RandomForestRegressor  XGBRegressor  BaggingRegressor  \\\n0                       0.12         30.53              0.00   \n1                       0.00          0.00              0.00   \n2                       0.00          0.03              0.00   \n3                       0.00          0.82              0.00   \n4                       0.00          0.07              0.00   \n...                      ...           ...               ...   \n30451                   0.00          0.01              0.00   \n30452                   0.00          0.32              0.00   \n30453                   0.00          0.01              0.00   \n30454                   0.00          0.22              0.03   \n30455                   0.00          1.30              0.00   \n\n       HistGradientBoostingRegressor  LGBMRegressor  MLPRegressor  \\\n0                               1.03           1.03          0.73   \n1                               0.02           0.01          0.19   \n2                               0.02           0.03          0.33   \n3                               0.20           0.22          0.33   \n4                               0.03           0.01          0.69   \n...                              ...            ...           ...   \n30451                           0.03           0.01          0.25   \n30452                           0.05           0.07          0.04   \n30453                           0.20           0.05          0.42   \n30454                           0.03           0.02          0.03   \n30455                           0.03           0.03          0.56   \n\n       GradientBoostingRegressor  GaussianProcessRegressor  \\\n0                           2.37                      1.06   \n1                           0.02                      0.25   \n2                           0.05                      0.04   \n3                           0.41                      0.02   \n4                           0.20                      1.09   \n...                          ...                       ...   \n30451                       0.05                      0.06   \n30452                       0.15                      0.01   \n30453                       2.31                      0.01   \n30454                       0.10                      0.00   \n30455                       0.13                      0.05   \n\n       KNeighborsRegressor  \n0                     9.69  \n1                     0.00  \n2                     0.00  \n3                     0.10  \n4                     0.01  \n...                    ...  \n30451                 0.00  \n30452                 0.00  \n30453                 0.02  \n30454                 0.08  \n30455                 0.02  \n\n[30456 rows x 12 columns]",
      "text/html": "<div>\n<style scoped>\n    .dataframe tbody tr th:only-of-type {\n        vertical-align: middle;\n    }\n\n    .dataframe tbody tr th {\n        vertical-align: top;\n    }\n\n    .dataframe thead th {\n        text-align: right;\n    }\n</style>\n<table border=\"1\" class=\"dataframe\">\n  <thead>\n    <tr style=\"text-align: right;\">\n      <th></th>\n      <th>ExtraTreesRegressor</th>\n      <th>ExtraTreeRegressor</th>\n      <th>DecisionTreeRegressor</th>\n      <th>RandomForestRegressor</th>\n      <th>XGBRegressor</th>\n      <th>BaggingRegressor</th>\n      <th>HistGradientBoostingRegressor</th>\n      <th>LGBMRegressor</th>\n      <th>MLPRegressor</th>\n      <th>GradientBoostingRegressor</th>\n      <th>GaussianProcessRegressor</th>\n      <th>KNeighborsRegressor</th>\n    </tr>\n  </thead>\n  <tbody>\n    <tr>\n      <th>0</th>\n      <td>0.00</td>\n      <td>0.00</td>\n      <td>0.00</td>\n      <td>0.12</td>\n      <td>30.53</td>\n      <td>0.00</td>\n      <td>1.03</td>\n      <td>1.03</td>\n      <td>0.73</td>\n      <td>2.37</td>\n      <td>1.06</td>\n      <td>9.69</td>\n    </tr>\n    <tr>\n      <th>1</th>\n      <td>0.00</td>\n      <td>0.00</td>\n      <td>0.00</td>\n      <td>0.00</td>\n      <td>0.00</td>\n      <td>0.00</td>\n      <td>0.02</td>\n      <td>0.01</td>\n      <td>0.19</td>\n      <td>0.02</td>\n      <td>0.25</td>\n      <td>0.00</td>\n    </tr>\n    <tr>\n      <th>2</th>\n      <td>0.00</td>\n      <td>0.00</td>\n      <td>0.00</td>\n      <td>0.00</td>\n      <td>0.03</td>\n      <td>0.00</td>\n      <td>0.02</td>\n      <td>0.03</td>\n      <td>0.33</td>\n      <td>0.05</td>\n      <td>0.04</td>\n      <td>0.00</td>\n    </tr>\n    <tr>\n      <th>3</th>\n      <td>0.01</td>\n      <td>0.00</td>\n      <td>0.00</td>\n      <td>0.00</td>\n      <td>0.82</td>\n      <td>0.00</td>\n      <td>0.20</td>\n      <td>0.22</td>\n      <td>0.33</td>\n      <td>0.41</td>\n      <td>0.02</td>\n      <td>0.10</td>\n    </tr>\n    <tr>\n      <th>4</th>\n      <td>0.00</td>\n      <td>0.00</td>\n      <td>0.00</td>\n      <td>0.00</td>\n      <td>0.07</td>\n      <td>0.00</td>\n      <td>0.03</td>\n      <td>0.01</td>\n      <td>0.69</td>\n      <td>0.20</td>\n      <td>1.09</td>\n      <td>0.01</td>\n    </tr>\n    <tr>\n      <th>...</th>\n      <td>...</td>\n      <td>...</td>\n      <td>...</td>\n      <td>...</td>\n      <td>...</td>\n      <td>...</td>\n      <td>...</td>\n      <td>...</td>\n      <td>...</td>\n      <td>...</td>\n      <td>...</td>\n      <td>...</td>\n    </tr>\n    <tr>\n      <th>30451</th>\n      <td>0.00</td>\n      <td>0.00</td>\n      <td>0.00</td>\n      <td>0.00</td>\n      <td>0.01</td>\n      <td>0.00</td>\n      <td>0.03</td>\n      <td>0.01</td>\n      <td>0.25</td>\n      <td>0.05</td>\n      <td>0.06</td>\n      <td>0.00</td>\n    </tr>\n    <tr>\n      <th>30452</th>\n      <td>0.00</td>\n      <td>0.00</td>\n      <td>0.00</td>\n      <td>0.00</td>\n      <td>0.32</td>\n      <td>0.00</td>\n      <td>0.05</td>\n      <td>0.07</td>\n      <td>0.04</td>\n      <td>0.15</td>\n      <td>0.01</td>\n      <td>0.00</td>\n    </tr>\n    <tr>\n      <th>30453</th>\n      <td>0.00</td>\n      <td>0.00</td>\n      <td>0.00</td>\n      <td>0.00</td>\n      <td>0.01</td>\n      <td>0.00</td>\n      <td>0.20</td>\n      <td>0.05</td>\n      <td>0.42</td>\n      <td>2.31</td>\n      <td>0.01</td>\n      <td>0.02</td>\n    </tr>\n    <tr>\n      <th>30454</th>\n      <td>0.00</td>\n      <td>0.00</td>\n      <td>0.00</td>\n      <td>0.00</td>\n      <td>0.22</td>\n      <td>0.03</td>\n      <td>0.03</td>\n      <td>0.02</td>\n      <td>0.03</td>\n      <td>0.10</td>\n      <td>0.00</td>\n      <td>0.08</td>\n    </tr>\n    <tr>\n      <th>30455</th>\n      <td>0.00</td>\n      <td>0.01</td>\n      <td>0.00</td>\n      <td>0.00</td>\n      <td>1.30</td>\n      <td>0.00</td>\n      <td>0.03</td>\n      <td>0.03</td>\n      <td>0.56</td>\n      <td>0.13</td>\n      <td>0.05</td>\n      <td>0.02</td>\n    </tr>\n  </tbody>\n</table>\n<p>30456 rows × 12 columns</p>\n</div>"
     },
     "execution_count": 13,
     "metadata": {},
     "output_type": "execute_result"
    }
   ],
   "source": [
    "# Find predictions for the models that have larger than 0.9 Adjusted R2 \n",
    "CHOSEN_MODELS = MODELS_ERRORS_DF[MODELS_ERRORS_DF['Adjusted_R2'] > 0.9]\n",
    "\n",
    "# FIND THE DIFFERENCE BETWEEN THE PREDICTED VALUES AND THE REAL VALUES FOR EACH MODEL BY USING DICT\n",
    "OFFSET = int(len(X) * 0.9)\n",
    "X_TRAIN, Y_TRAIN = X[:OFFSET], Y[:OFFSET]\n",
    "\n",
    "DIFF_TRAIN_DICT = {}\n",
    "DIFF_TEST_DICT = {}\n",
    "\n",
    "\n",
    "for NAME in CHOSEN_MODELS['Model']:\n",
    "    model = ALL_MODELS[NAME]\n",
    "    predictions_train = model.predict(X_TRAIN)\n",
    "    diff_train = np.abs(predictions_train - Y_TRAIN)\n",
    "    DIFF_TRAIN_DICT[NAME] = diff_train\n",
    "       \n",
    "    predictions_test = model.predict(X_TEST)\n",
    "    diff_test = np.abs(predictions_test - Y_TEST)\n",
    "    DIFF_TEST_DICT[NAME] = diff_test\n",
    "    \n",
    "    \n",
    "DIFF_TRAIN_DICT = pd.DataFrame(DIFF_TRAIN_DICT)\n",
    "DIFF_TEST_DICT = pd.DataFrame(DIFF_TEST_DICT)\n",
    "\n",
    "DIFF_TRAIN_DICT"
   ],
   "metadata": {
    "collapsed": false,
    "ExecuteTime": {
     "end_time": "2024-06-17T00:32:49.044913800Z",
     "start_time": "2024-06-17T00:25:02.555137600Z"
    }
   },
   "id": "28f9a513fe5247ce"
  },
  {
   "cell_type": "code",
   "execution_count": 1,
   "outputs": [
    {
     "ename": "NameError",
     "evalue": "name 'DIFF_TEST_DICT' is not defined",
     "output_type": "error",
     "traceback": [
      "\u001B[1;31m---------------------------------------------------------------------------\u001B[0m",
      "\u001B[1;31mNameError\u001B[0m                                 Traceback (most recent call last)",
      "Cell \u001B[1;32mIn[1], line 1\u001B[0m\n\u001B[1;32m----> 1\u001B[0m \u001B[43mDIFF_TEST_DICT\u001B[49m\n",
      "\u001B[1;31mNameError\u001B[0m: name 'DIFF_TEST_DICT' is not defined"
     ]
    }
   ],
   "source": [
    "DIFF_TEST_DICT"
   ],
   "metadata": {
    "collapsed": false,
    "ExecuteTime": {
     "end_time": "2024-06-17T09:28:40.249721900Z",
     "start_time": "2024-06-17T09:28:40.058213100Z"
    }
   },
   "id": "9cb35df084e8568c"
  },
  {
   "cell_type": "markdown",
   "source": [
    "# FIND THE BEST MODEL THAT HAS THE MINIMUM ERROR FOR EACH DATA"
   ],
   "metadata": {
    "collapsed": false
   },
   "id": "69cb5fe8f81d100a"
  },
  {
   "cell_type": "code",
   "execution_count": 14,
   "outputs": [
    {
     "data": {
      "text/plain": "       ExtraTreesRegressor  ExtraTreeRegressor  DecisionTreeRegressor  \\\n0                     0.00                0.00                   0.00   \n1                     0.00                0.00                   0.00   \n2                     0.00                0.00                   0.00   \n3                     0.01                0.00                   0.00   \n4                     0.00                0.00                   0.00   \n...                    ...                 ...                    ...   \n30451                 0.00                0.00                   0.00   \n30452                 0.00                0.00                   0.00   \n30453                 0.00                0.00                   0.00   \n30454                 0.00                0.00                   0.00   \n30455                 0.00                0.01                   0.00   \n\n       RandomForestRegressor  XGBRegressor  BaggingRegressor  \\\n0                       0.12         30.53              0.00   \n1                       0.00          0.00              0.00   \n2                       0.00          0.03              0.00   \n3                       0.00          0.82              0.00   \n4                       0.00          0.07              0.00   \n...                      ...           ...               ...   \n30451                   0.00          0.01              0.00   \n30452                   0.00          0.32              0.00   \n30453                   0.00          0.01              0.00   \n30454                   0.00          0.22              0.03   \n30455                   0.00          1.30              0.00   \n\n       HistGradientBoostingRegressor  LGBMRegressor  MLPRegressor  \\\n0                               1.03           1.03          0.73   \n1                               0.02           0.01          0.19   \n2                               0.02           0.03          0.33   \n3                               0.20           0.22          0.33   \n4                               0.03           0.01          0.69   \n...                              ...            ...           ...   \n30451                           0.03           0.01          0.25   \n30452                           0.05           0.07          0.04   \n30453                           0.20           0.05          0.42   \n30454                           0.03           0.02          0.03   \n30455                           0.03           0.03          0.56   \n\n       GradientBoostingRegressor  GaussianProcessRegressor  \\\n0                           2.37                      1.06   \n1                           0.02                      0.25   \n2                           0.05                      0.04   \n3                           0.41                      0.02   \n4                           0.20                      1.09   \n...                          ...                       ...   \n30451                       0.05                      0.06   \n30452                       0.15                      0.01   \n30453                       2.31                      0.01   \n30454                       0.10                      0.00   \n30455                       0.13                      0.05   \n\n       KNeighborsRegressor  Min_Diff           Best_Model  \n0                     9.69      0.00  ExtraTreesRegressor  \n1                     0.00      0.00  ExtraTreesRegressor  \n2                     0.00      0.00  ExtraTreesRegressor  \n3                     0.10      0.01  ExtraTreesRegressor  \n4                     0.01      0.00  ExtraTreesRegressor  \n...                    ...       ...                  ...  \n30451                 0.00      0.00  ExtraTreesRegressor  \n30452                 0.00      0.00  ExtraTreesRegressor  \n30453                 0.02      0.00  ExtraTreesRegressor  \n30454                 0.08      0.00  ExtraTreesRegressor  \n30455                 0.02      0.00  ExtraTreesRegressor  \n\n[30456 rows x 14 columns]",
      "text/html": "<div>\n<style scoped>\n    .dataframe tbody tr th:only-of-type {\n        vertical-align: middle;\n    }\n\n    .dataframe tbody tr th {\n        vertical-align: top;\n    }\n\n    .dataframe thead th {\n        text-align: right;\n    }\n</style>\n<table border=\"1\" class=\"dataframe\">\n  <thead>\n    <tr style=\"text-align: right;\">\n      <th></th>\n      <th>ExtraTreesRegressor</th>\n      <th>ExtraTreeRegressor</th>\n      <th>DecisionTreeRegressor</th>\n      <th>RandomForestRegressor</th>\n      <th>XGBRegressor</th>\n      <th>BaggingRegressor</th>\n      <th>HistGradientBoostingRegressor</th>\n      <th>LGBMRegressor</th>\n      <th>MLPRegressor</th>\n      <th>GradientBoostingRegressor</th>\n      <th>GaussianProcessRegressor</th>\n      <th>KNeighborsRegressor</th>\n      <th>Min_Diff</th>\n      <th>Best_Model</th>\n    </tr>\n  </thead>\n  <tbody>\n    <tr>\n      <th>0</th>\n      <td>0.00</td>\n      <td>0.00</td>\n      <td>0.00</td>\n      <td>0.12</td>\n      <td>30.53</td>\n      <td>0.00</td>\n      <td>1.03</td>\n      <td>1.03</td>\n      <td>0.73</td>\n      <td>2.37</td>\n      <td>1.06</td>\n      <td>9.69</td>\n      <td>0.00</td>\n      <td>ExtraTreesRegressor</td>\n    </tr>\n    <tr>\n      <th>1</th>\n      <td>0.00</td>\n      <td>0.00</td>\n      <td>0.00</td>\n      <td>0.00</td>\n      <td>0.00</td>\n      <td>0.00</td>\n      <td>0.02</td>\n      <td>0.01</td>\n      <td>0.19</td>\n      <td>0.02</td>\n      <td>0.25</td>\n      <td>0.00</td>\n      <td>0.00</td>\n      <td>ExtraTreesRegressor</td>\n    </tr>\n    <tr>\n      <th>2</th>\n      <td>0.00</td>\n      <td>0.00</td>\n      <td>0.00</td>\n      <td>0.00</td>\n      <td>0.03</td>\n      <td>0.00</td>\n      <td>0.02</td>\n      <td>0.03</td>\n      <td>0.33</td>\n      <td>0.05</td>\n      <td>0.04</td>\n      <td>0.00</td>\n      <td>0.00</td>\n      <td>ExtraTreesRegressor</td>\n    </tr>\n    <tr>\n      <th>3</th>\n      <td>0.01</td>\n      <td>0.00</td>\n      <td>0.00</td>\n      <td>0.00</td>\n      <td>0.82</td>\n      <td>0.00</td>\n      <td>0.20</td>\n      <td>0.22</td>\n      <td>0.33</td>\n      <td>0.41</td>\n      <td>0.02</td>\n      <td>0.10</td>\n      <td>0.01</td>\n      <td>ExtraTreesRegressor</td>\n    </tr>\n    <tr>\n      <th>4</th>\n      <td>0.00</td>\n      <td>0.00</td>\n      <td>0.00</td>\n      <td>0.00</td>\n      <td>0.07</td>\n      <td>0.00</td>\n      <td>0.03</td>\n      <td>0.01</td>\n      <td>0.69</td>\n      <td>0.20</td>\n      <td>1.09</td>\n      <td>0.01</td>\n      <td>0.00</td>\n      <td>ExtraTreesRegressor</td>\n    </tr>\n    <tr>\n      <th>...</th>\n      <td>...</td>\n      <td>...</td>\n      <td>...</td>\n      <td>...</td>\n      <td>...</td>\n      <td>...</td>\n      <td>...</td>\n      <td>...</td>\n      <td>...</td>\n      <td>...</td>\n      <td>...</td>\n      <td>...</td>\n      <td>...</td>\n      <td>...</td>\n    </tr>\n    <tr>\n      <th>30451</th>\n      <td>0.00</td>\n      <td>0.00</td>\n      <td>0.00</td>\n      <td>0.00</td>\n      <td>0.01</td>\n      <td>0.00</td>\n      <td>0.03</td>\n      <td>0.01</td>\n      <td>0.25</td>\n      <td>0.05</td>\n      <td>0.06</td>\n      <td>0.00</td>\n      <td>0.00</td>\n      <td>ExtraTreesRegressor</td>\n    </tr>\n    <tr>\n      <th>30452</th>\n      <td>0.00</td>\n      <td>0.00</td>\n      <td>0.00</td>\n      <td>0.00</td>\n      <td>0.32</td>\n      <td>0.00</td>\n      <td>0.05</td>\n      <td>0.07</td>\n      <td>0.04</td>\n      <td>0.15</td>\n      <td>0.01</td>\n      <td>0.00</td>\n      <td>0.00</td>\n      <td>ExtraTreesRegressor</td>\n    </tr>\n    <tr>\n      <th>30453</th>\n      <td>0.00</td>\n      <td>0.00</td>\n      <td>0.00</td>\n      <td>0.00</td>\n      <td>0.01</td>\n      <td>0.00</td>\n      <td>0.20</td>\n      <td>0.05</td>\n      <td>0.42</td>\n      <td>2.31</td>\n      <td>0.01</td>\n      <td>0.02</td>\n      <td>0.00</td>\n      <td>ExtraTreesRegressor</td>\n    </tr>\n    <tr>\n      <th>30454</th>\n      <td>0.00</td>\n      <td>0.00</td>\n      <td>0.00</td>\n      <td>0.00</td>\n      <td>0.22</td>\n      <td>0.03</td>\n      <td>0.03</td>\n      <td>0.02</td>\n      <td>0.03</td>\n      <td>0.10</td>\n      <td>0.00</td>\n      <td>0.08</td>\n      <td>0.00</td>\n      <td>ExtraTreesRegressor</td>\n    </tr>\n    <tr>\n      <th>30455</th>\n      <td>0.00</td>\n      <td>0.01</td>\n      <td>0.00</td>\n      <td>0.00</td>\n      <td>1.30</td>\n      <td>0.00</td>\n      <td>0.03</td>\n      <td>0.03</td>\n      <td>0.56</td>\n      <td>0.13</td>\n      <td>0.05</td>\n      <td>0.02</td>\n      <td>0.00</td>\n      <td>ExtraTreesRegressor</td>\n    </tr>\n  </tbody>\n</table>\n<p>30456 rows × 14 columns</p>\n</div>"
     },
     "execution_count": 14,
     "metadata": {},
     "output_type": "execute_result"
    }
   ],
   "source": [
    "# Find the min difference for each value with for loop\n",
    "MIN_DIFF_TRAIN = []\n",
    "MIN_DIFF_TRAIN_MODEL = []\n",
    "\n",
    "MIN_DIFF_TEST = []\n",
    "MIN_DIFF_TEST_MODEL = []\n",
    "\n",
    "THRESHOLD = 0.02 # Store the models that have less than 0.1 difference with the real value and choose the highest rank in\n",
    "# the MODELS_ERRORS_DF\n",
    "\n",
    "for index in range(len(DIFF_TRAIN_DICT)):\n",
    "    \n",
    "    # If there are models their difference is less than the threshold, choose the one with the highest rank in MODELS_ERRORS_DF\n",
    "    if (DIFF_TRAIN_DICT.iloc[index] < THRESHOLD).any():\n",
    "        # Choose the highest rank model in MODELS_ERRORS_DF\n",
    "        # find the models that have less than 0.1 difference with the real value\n",
    "        threshold_models: list[tuple[str, int]] = []\n",
    "        for model_name in DIFF_TRAIN_DICT.iloc[index][DIFF_TRAIN_DICT.iloc[index] < THRESHOLD].index:\n",
    "            rank_of_model = MODELS_ERRORS_DF[MODELS_ERRORS_DF['Model'] == model_name].index[0]\n",
    "            threshold_models.append((model_name, rank_of_model))\n",
    "            \n",
    "        # Choose the model with the lowest rank\n",
    "        min_diff_model = min(threshold_models, key=lambda x: x[1])[0]\n",
    "        min_diff = DIFF_TRAIN_DICT.iloc[index][min_diff_model]\n",
    "    else:\n",
    "        min_diff = DIFF_TRAIN_DICT.iloc[index].min()\n",
    "        min_diff_model = DIFF_TRAIN_DICT.iloc[index].idxmin()\n",
    "    \n",
    "    MIN_DIFF_TRAIN.append(min_diff)\n",
    "    MIN_DIFF_TRAIN_MODEL.append(min_diff_model)\n",
    "\n",
    "for index in range(len(DIFF_TEST_DICT)):\n",
    "    \n",
    "    # If there are models their difference is less than the threshold, choose the one with the highest rank in MODELS_ERRORS_DF\n",
    "    if (DIFF_TEST_DICT.iloc[index] < THRESHOLD).any():\n",
    "        # Choose the highest rank model in MODELS_ERRORS_DF\n",
    "        # find the models that have less than 0.1 difference with the real value\n",
    "        threshold_models: list[tuple[str, int]] = []\n",
    "        for model_name in DIFF_TEST_DICT.iloc[index][DIFF_TEST_DICT.iloc[index] < THRESHOLD].index:\n",
    "            rank_of_model = MODELS_ERRORS_DF[MODELS_ERRORS_DF['Model'] == model_name].index[0]\n",
    "            threshold_models.append((model_name, rank_of_model))\n",
    "            \n",
    "        # Choose the model with the lowest rank\n",
    "        min_diff_model = min(threshold_models, key=lambda x: x[1])[0]\n",
    "        min_diff = DIFF_TEST_DICT.iloc[index][min_diff_model]\n",
    "    else:\n",
    "        min_diff = DIFF_TEST_DICT.iloc[index].min()\n",
    "        min_diff_model = DIFF_TEST_DICT.iloc[index].idxmin()\n",
    "    \n",
    "    MIN_DIFF_TEST.append(min_diff)\n",
    "    MIN_DIFF_TEST_MODEL.append(min_diff_model)    \n",
    "\n",
    "# Add the min difference and the model name to the data frame\n",
    "DIFF_TRAIN_DICT['Min_Diff'] = MIN_DIFF_TRAIN\n",
    "DIFF_TRAIN_DICT['Best_Model'] = MIN_DIFF_TRAIN_MODEL\n",
    "\n",
    "DIFF_TEST_DICT['Min_Diff'] = MIN_DIFF_TEST\n",
    "DIFF_TEST_DICT['Best_Model'] = MIN_DIFF_TEST_MODEL\n",
    "\n",
    "DIFF_TRAIN_DICT"
   ],
   "metadata": {
    "collapsed": false,
    "ExecuteTime": {
     "end_time": "2024-06-17T00:33:26.739974Z",
     "start_time": "2024-06-17T00:32:48.924367Z"
    }
   },
   "id": "90328367d9cc48c2"
  },
  {
   "cell_type": "code",
   "execution_count": 15,
   "outputs": [
    {
     "data": {
      "text/plain": "      ExtraTreesRegressor  ExtraTreeRegressor  DecisionTreeRegressor  \\\n0                    0.00                0.00                   0.00   \n1                    0.00                0.00                   0.00   \n2                    0.00                0.00                   0.00   \n3                    0.02                0.04                   0.04   \n4                    0.08                0.01                   0.35   \n...                   ...                 ...                    ...   \n3379                 0.00                0.00                   0.00   \n3380                 0.00                0.00                   0.00   \n3381                 0.02                0.01                   0.01   \n3382                 0.00                0.00                   0.01   \n3383                 0.07                0.02                   0.02   \n\n      RandomForestRegressor  XGBRegressor  BaggingRegressor  \\\n0                      0.00          0.00              0.00   \n1                      0.01          0.32              0.01   \n2                      0.00          0.07              0.00   \n3                      0.00          0.53              0.02   \n4                      0.01          0.02              0.16   \n...                     ...           ...               ...   \n3379                   0.03          0.06              0.00   \n3380                   0.00          0.02              0.00   \n3381                   0.00          1.31              0.01   \n3382                   0.00          0.06              0.00   \n3383                   0.00          3.70              0.09   \n\n      HistGradientBoostingRegressor  LGBMRegressor  MLPRegressor  \\\n0                              0.01           0.00          0.32   \n1                              0.07           0.04          0.43   \n2                              0.07           0.02          0.05   \n3                              0.36           0.38          1.88   \n4                              0.27           0.20          0.75   \n...                             ...            ...           ...   \n3379                           0.30           0.17          0.27   \n3380                           0.01           0.05          0.28   \n3381                           0.42           0.11          0.55   \n3382                           0.02           0.04          0.08   \n3383                           0.36           0.31          0.37   \n\n      GradientBoostingRegressor  GaussianProcessRegressor  \\\n0                          0.20                      0.02   \n1                          0.18                      0.65   \n2                          0.28                      0.01   \n3                          0.64                      0.25   \n4                          0.87                      0.43   \n...                         ...                       ...   \n3379                       2.45                      0.03   \n3380                       1.26                      0.04   \n3381                       0.51                      0.17   \n3382                       0.18                      0.07   \n3383                       0.09                      0.06   \n\n      KNeighborsRegressor  Min_Diff             Best_Model  \n0                    0.00      0.00    ExtraTreesRegressor  \n1                    0.01      0.00    ExtraTreesRegressor  \n2                    0.01      0.00    ExtraTreesRegressor  \n3                    0.24      0.00  RandomForestRegressor  \n4                    0.05      0.01     ExtraTreeRegressor  \n...                   ...       ...                    ...  \n3379                 0.20      0.00    ExtraTreesRegressor  \n3380                 0.01      0.00    ExtraTreesRegressor  \n3381                 1.55      0.02    ExtraTreesRegressor  \n3382                 0.01      0.00    ExtraTreesRegressor  \n3383                 0.26      0.02     ExtraTreeRegressor  \n\n[3384 rows x 14 columns]",
      "text/html": "<div>\n<style scoped>\n    .dataframe tbody tr th:only-of-type {\n        vertical-align: middle;\n    }\n\n    .dataframe tbody tr th {\n        vertical-align: top;\n    }\n\n    .dataframe thead th {\n        text-align: right;\n    }\n</style>\n<table border=\"1\" class=\"dataframe\">\n  <thead>\n    <tr style=\"text-align: right;\">\n      <th></th>\n      <th>ExtraTreesRegressor</th>\n      <th>ExtraTreeRegressor</th>\n      <th>DecisionTreeRegressor</th>\n      <th>RandomForestRegressor</th>\n      <th>XGBRegressor</th>\n      <th>BaggingRegressor</th>\n      <th>HistGradientBoostingRegressor</th>\n      <th>LGBMRegressor</th>\n      <th>MLPRegressor</th>\n      <th>GradientBoostingRegressor</th>\n      <th>GaussianProcessRegressor</th>\n      <th>KNeighborsRegressor</th>\n      <th>Min_Diff</th>\n      <th>Best_Model</th>\n    </tr>\n  </thead>\n  <tbody>\n    <tr>\n      <th>0</th>\n      <td>0.00</td>\n      <td>0.00</td>\n      <td>0.00</td>\n      <td>0.00</td>\n      <td>0.00</td>\n      <td>0.00</td>\n      <td>0.01</td>\n      <td>0.00</td>\n      <td>0.32</td>\n      <td>0.20</td>\n      <td>0.02</td>\n      <td>0.00</td>\n      <td>0.00</td>\n      <td>ExtraTreesRegressor</td>\n    </tr>\n    <tr>\n      <th>1</th>\n      <td>0.00</td>\n      <td>0.00</td>\n      <td>0.00</td>\n      <td>0.01</td>\n      <td>0.32</td>\n      <td>0.01</td>\n      <td>0.07</td>\n      <td>0.04</td>\n      <td>0.43</td>\n      <td>0.18</td>\n      <td>0.65</td>\n      <td>0.01</td>\n      <td>0.00</td>\n      <td>ExtraTreesRegressor</td>\n    </tr>\n    <tr>\n      <th>2</th>\n      <td>0.00</td>\n      <td>0.00</td>\n      <td>0.00</td>\n      <td>0.00</td>\n      <td>0.07</td>\n      <td>0.00</td>\n      <td>0.07</td>\n      <td>0.02</td>\n      <td>0.05</td>\n      <td>0.28</td>\n      <td>0.01</td>\n      <td>0.01</td>\n      <td>0.00</td>\n      <td>ExtraTreesRegressor</td>\n    </tr>\n    <tr>\n      <th>3</th>\n      <td>0.02</td>\n      <td>0.04</td>\n      <td>0.04</td>\n      <td>0.00</td>\n      <td>0.53</td>\n      <td>0.02</td>\n      <td>0.36</td>\n      <td>0.38</td>\n      <td>1.88</td>\n      <td>0.64</td>\n      <td>0.25</td>\n      <td>0.24</td>\n      <td>0.00</td>\n      <td>RandomForestRegressor</td>\n    </tr>\n    <tr>\n      <th>4</th>\n      <td>0.08</td>\n      <td>0.01</td>\n      <td>0.35</td>\n      <td>0.01</td>\n      <td>0.02</td>\n      <td>0.16</td>\n      <td>0.27</td>\n      <td>0.20</td>\n      <td>0.75</td>\n      <td>0.87</td>\n      <td>0.43</td>\n      <td>0.05</td>\n      <td>0.01</td>\n      <td>ExtraTreeRegressor</td>\n    </tr>\n    <tr>\n      <th>...</th>\n      <td>...</td>\n      <td>...</td>\n      <td>...</td>\n      <td>...</td>\n      <td>...</td>\n      <td>...</td>\n      <td>...</td>\n      <td>...</td>\n      <td>...</td>\n      <td>...</td>\n      <td>...</td>\n      <td>...</td>\n      <td>...</td>\n      <td>...</td>\n    </tr>\n    <tr>\n      <th>3379</th>\n      <td>0.00</td>\n      <td>0.00</td>\n      <td>0.00</td>\n      <td>0.03</td>\n      <td>0.06</td>\n      <td>0.00</td>\n      <td>0.30</td>\n      <td>0.17</td>\n      <td>0.27</td>\n      <td>2.45</td>\n      <td>0.03</td>\n      <td>0.20</td>\n      <td>0.00</td>\n      <td>ExtraTreesRegressor</td>\n    </tr>\n    <tr>\n      <th>3380</th>\n      <td>0.00</td>\n      <td>0.00</td>\n      <td>0.00</td>\n      <td>0.00</td>\n      <td>0.02</td>\n      <td>0.00</td>\n      <td>0.01</td>\n      <td>0.05</td>\n      <td>0.28</td>\n      <td>1.26</td>\n      <td>0.04</td>\n      <td>0.01</td>\n      <td>0.00</td>\n      <td>ExtraTreesRegressor</td>\n    </tr>\n    <tr>\n      <th>3381</th>\n      <td>0.02</td>\n      <td>0.01</td>\n      <td>0.01</td>\n      <td>0.00</td>\n      <td>1.31</td>\n      <td>0.01</td>\n      <td>0.42</td>\n      <td>0.11</td>\n      <td>0.55</td>\n      <td>0.51</td>\n      <td>0.17</td>\n      <td>1.55</td>\n      <td>0.02</td>\n      <td>ExtraTreesRegressor</td>\n    </tr>\n    <tr>\n      <th>3382</th>\n      <td>0.00</td>\n      <td>0.00</td>\n      <td>0.01</td>\n      <td>0.00</td>\n      <td>0.06</td>\n      <td>0.00</td>\n      <td>0.02</td>\n      <td>0.04</td>\n      <td>0.08</td>\n      <td>0.18</td>\n      <td>0.07</td>\n      <td>0.01</td>\n      <td>0.00</td>\n      <td>ExtraTreesRegressor</td>\n    </tr>\n    <tr>\n      <th>3383</th>\n      <td>0.07</td>\n      <td>0.02</td>\n      <td>0.02</td>\n      <td>0.00</td>\n      <td>3.70</td>\n      <td>0.09</td>\n      <td>0.36</td>\n      <td>0.31</td>\n      <td>0.37</td>\n      <td>0.09</td>\n      <td>0.06</td>\n      <td>0.26</td>\n      <td>0.02</td>\n      <td>ExtraTreeRegressor</td>\n    </tr>\n  </tbody>\n</table>\n<p>3384 rows × 14 columns</p>\n</div>"
     },
     "execution_count": 15,
     "metadata": {},
     "output_type": "execute_result"
    }
   ],
   "source": [
    "DIFF_TEST_DICT"
   ],
   "metadata": {
    "collapsed": false,
    "ExecuteTime": {
     "end_time": "2024-06-17T00:33:26.759596600Z",
     "start_time": "2024-06-17T00:33:26.746947600Z"
    }
   },
   "id": "bcd7180a99e3fc28"
  },
  {
   "cell_type": "code",
   "execution_count": 16,
   "outputs": [
    {
     "data": {
      "text/plain": "Best_Model\nExtraTreesRegressor              27186\nExtraTreeRegressor                2941\nDecisionTreeRegressor              163\nRandomForestRegressor               37\nBaggingRegressor                    24\nKNeighborsRegressor                 22\nLGBMRegressor                       20\nHistGradientBoostingRegressor       20\nGaussianProcessRegressor            17\nXGBRegressor                        17\nMLPRegressor                         6\nGradientBoostingRegressor            3\nName: count, dtype: int64"
     },
     "execution_count": 16,
     "metadata": {},
     "output_type": "execute_result"
    }
   ],
   "source": [
    "# Count how many times each model is chosen\n",
    "CHOSEN_MODEL_COUNT = DIFF_TRAIN_DICT['Best_Model'].value_counts()\n",
    "CHOSEN_MODEL_COUNT"
   ],
   "metadata": {
    "collapsed": false,
    "ExecuteTime": {
     "end_time": "2024-06-17T00:33:26.857108400Z",
     "start_time": "2024-06-17T00:33:26.751422800Z"
    }
   },
   "id": "2d6da102b86c308f"
  },
  {
   "cell_type": "code",
   "execution_count": 17,
   "outputs": [
    {
     "data": {
      "text/plain": "<Figure size 1000x500 with 1 Axes>",
      "image/png": "[encoded data removed]"
     },
     "metadata": {},
     "output_type": "display_data"
    }
   ],
   "source": [
    "# Find the corresponding values for each train data with best model that has the minimum difference\n",
    "BEST_TRAIN_MODEL = DIFF_TRAIN_DICT['Best_Model']\n",
    "BEST_TEST_MODEL = DIFF_TEST_DICT['Best_Model']\n",
    "\n",
    "BEST_TRAIN_MODEL_PREDICTIONS = np.zeros(len(X_TRAIN))\n",
    "BEST_TEST_MODEL_PREDICTIONS = np.zeros(len(X_TEST))\n",
    "for index, model_name in enumerate(BEST_TRAIN_MODEL):\n",
    "    model = ALL_MODELS[model_name]\n",
    "    prediction = model.predict([X_TRAIN[index]])\n",
    "    BEST_TRAIN_MODEL_PREDICTIONS[index] = prediction\n",
    "\n",
    "for index, model_name in enumerate(BEST_TEST_MODEL):\n",
    "    model = ALL_MODELS[model_name]\n",
    "    prediction = model.predict([X_TEST[index]])\n",
    "    BEST_TEST_MODEL_PREDICTIONS[index] = prediction\n",
    "\n",
    "# Plot the results\n",
    "plt.figure(figsize=(10, 5))\n",
    "plt.plot(Y_TRAIN, Y_TRAIN, '-', label='Real Values')\n",
    "plt.plot(Y_TRAIN, BEST_TRAIN_MODEL_PREDICTIONS, 'o', label='TRAIN Predictions')\n",
    "plt.plot(Y_TEST, BEST_TEST_MODEL_PREDICTIONS, 'x', label='TEST Predictions')\n",
    "plt.legend()\n",
    "plt.title('Best Model Predictions')\n",
    "plt.xlabel('Real Resistance')\n",
    "plt.ylabel('Predicted Resistance')\n",
    "plt.show()"
   ],
   "metadata": {
    "collapsed": false,
    "ExecuteTime": {
     "end_time": "2024-06-17T00:34:54.771183700Z",
     "start_time": "2024-06-17T00:33:26.778328300Z"
    }
   },
   "id": "2db09c455895dd25"
  },
  {
   "cell_type": "code",
   "execution_count": 18,
   "outputs": [
    {
     "data": {
      "text/plain": "       Step_Size  Side_Length  Total_Length  Corner  Width  Height  \\\n0           1.00        35.00         35.00    0.00   0.05    0.05   \n1           1.50        10.50         22.50    6.00   0.40    0.54   \n2           1.00         3.00          5.00    4.00   0.16    0.13   \n3           1.50         9.00         12.00    4.00   0.05    0.20   \n4           0.50        10.00         70.00   84.00   0.11    0.22   \n...          ...          ...           ...     ...    ...     ...   \n30451       1.25         8.75         18.75    8.00   0.19    0.37   \n30452       1.00         9.00         27.00   14.00   0.25    0.10   \n30453       0.50         3.00          7.00   10.00   0.04    0.40   \n30454       1.00         3.00          5.00    4.00   0.16    0.04   \n30455       0.50        71.50         71.50    0.00   0.20    0.10   \n\n       Fillet_Radius           Best_Model  \n0               0.00  ExtraTreesRegressor  \n1               0.25  ExtraTreesRegressor  \n2               0.10  ExtraTreesRegressor  \n3               0.03  ExtraTreesRegressor  \n4               0.10  ExtraTreesRegressor  \n...              ...                  ...  \n30451           0.16  ExtraTreesRegressor  \n30452           0.22  ExtraTreesRegressor  \n30453           0.03  ExtraTreesRegressor  \n30454           0.10  ExtraTreesRegressor  \n30455           0.00  ExtraTreesRegressor  \n\n[30456 rows x 8 columns]",
      "text/html": "<div>\n<style scoped>\n    .dataframe tbody tr th:only-of-type {\n        vertical-align: middle;\n    }\n\n    .dataframe tbody tr th {\n        vertical-align: top;\n    }\n\n    .dataframe thead th {\n        text-align: right;\n    }\n</style>\n<table border=\"1\" class=\"dataframe\">\n  <thead>\n    <tr style=\"text-align: right;\">\n      <th></th>\n      <th>Step_Size</th>\n      <th>Side_Length</th>\n      <th>Total_Length</th>\n      <th>Corner</th>\n      <th>Width</th>\n      <th>Height</th>\n      <th>Fillet_Radius</th>\n      <th>Best_Model</th>\n    </tr>\n  </thead>\n  <tbody>\n    <tr>\n      <th>0</th>\n      <td>1.00</td>\n      <td>35.00</td>\n      <td>35.00</td>\n      <td>0.00</td>\n      <td>0.05</td>\n      <td>0.05</td>\n      <td>0.00</td>\n      <td>ExtraTreesRegressor</td>\n    </tr>\n    <tr>\n      <th>1</th>\n      <td>1.50</td>\n      <td>10.50</td>\n      <td>22.50</td>\n      <td>6.00</td>\n      <td>0.40</td>\n      <td>0.54</td>\n      <td>0.25</td>\n      <td>ExtraTreesRegressor</td>\n    </tr>\n    <tr>\n      <th>2</th>\n      <td>1.00</td>\n      <td>3.00</td>\n      <td>5.00</td>\n      <td>4.00</td>\n      <td>0.16</td>\n      <td>0.13</td>\n      <td>0.10</td>\n      <td>ExtraTreesRegressor</td>\n    </tr>\n    <tr>\n      <th>3</th>\n      <td>1.50</td>\n      <td>9.00</td>\n      <td>12.00</td>\n      <td>4.00</td>\n      <td>0.05</td>\n      <td>0.20</td>\n      <td>0.03</td>\n      <td>ExtraTreesRegressor</td>\n    </tr>\n    <tr>\n      <th>4</th>\n      <td>0.50</td>\n      <td>10.00</td>\n      <td>70.00</td>\n      <td>84.00</td>\n      <td>0.11</td>\n      <td>0.22</td>\n      <td>0.10</td>\n      <td>ExtraTreesRegressor</td>\n    </tr>\n    <tr>\n      <th>...</th>\n      <td>...</td>\n      <td>...</td>\n      <td>...</td>\n      <td>...</td>\n      <td>...</td>\n      <td>...</td>\n      <td>...</td>\n      <td>...</td>\n    </tr>\n    <tr>\n      <th>30451</th>\n      <td>1.25</td>\n      <td>8.75</td>\n      <td>18.75</td>\n      <td>8.00</td>\n      <td>0.19</td>\n      <td>0.37</td>\n      <td>0.16</td>\n      <td>ExtraTreesRegressor</td>\n    </tr>\n    <tr>\n      <th>30452</th>\n      <td>1.00</td>\n      <td>9.00</td>\n      <td>27.00</td>\n      <td>14.00</td>\n      <td>0.25</td>\n      <td>0.10</td>\n      <td>0.22</td>\n      <td>ExtraTreesRegressor</td>\n    </tr>\n    <tr>\n      <th>30453</th>\n      <td>0.50</td>\n      <td>3.00</td>\n      <td>7.00</td>\n      <td>10.00</td>\n      <td>0.04</td>\n      <td>0.40</td>\n      <td>0.03</td>\n      <td>ExtraTreesRegressor</td>\n    </tr>\n    <tr>\n      <th>30454</th>\n      <td>1.00</td>\n      <td>3.00</td>\n      <td>5.00</td>\n      <td>4.00</td>\n      <td>0.16</td>\n      <td>0.04</td>\n      <td>0.10</td>\n      <td>ExtraTreesRegressor</td>\n    </tr>\n    <tr>\n      <th>30455</th>\n      <td>0.50</td>\n      <td>71.50</td>\n      <td>71.50</td>\n      <td>0.00</td>\n      <td>0.20</td>\n      <td>0.10</td>\n      <td>0.00</td>\n      <td>ExtraTreesRegressor</td>\n    </tr>\n  </tbody>\n</table>\n<p>30456 rows × 8 columns</p>\n</div>"
     },
     "execution_count": 18,
     "metadata": {},
     "output_type": "execute_result"
    }
   ],
   "source": [
    "# Convert the X Train Data to a DataFrame\n",
    "CLASSIFICATION_TRAIN_DF = pd.DataFrame(X_TRAIN, columns=FEATURE_NAMES)\n",
    "CLASSIFICATION_TRAIN_DF['Best_Model'] = BEST_TRAIN_MODEL\n",
    "\n",
    "CLASSIFICATION_TEST_DF = pd.DataFrame(X_TEST, columns=FEATURE_NAMES)\n",
    "CLASSIFICATION_TEST_DF['Best_Model'] = BEST_TEST_MODEL\n",
    "\n",
    "CLASSIFICATION_TRAIN_DF"
   ],
   "metadata": {
    "collapsed": false,
    "ExecuteTime": {
     "end_time": "2024-06-17T00:34:54.793991200Z",
     "start_time": "2024-06-17T00:34:54.772185400Z"
    }
   },
   "id": "87e0239153524ccc"
  },
  {
   "cell_type": "code",
   "execution_count": 19,
   "outputs": [
    {
     "data": {
      "text/plain": "      Step_Size  Side_Length  Total_Length  Corner  Width  Height  \\\n0          1.25         5.00          7.50    4.00   0.19    0.26   \n1          1.00        17.00         17.00    0.00   0.25    0.05   \n2          1.25        18.75         48.75   24.00   0.19    0.15   \n3          1.50        18.00         54.00   16.00   0.04    0.22   \n4          1.00        14.00         48.00   30.00   0.35    0.04   \n...         ...          ...           ...     ...    ...     ...   \n3379       0.50         1.50          1.50    0.00   0.04    0.13   \n3380       1.50         4.50          7.50    4.00   0.22    0.04   \n3381       1.50        19.50         70.50   28.00   0.10    0.10   \n3382       1.50        15.00         36.00   20.00   0.20    0.15   \n3383       1.50        16.50         31.50   12.00   0.10    0.05   \n\n      Fillet_Radius             Best_Model  \n0              0.16    ExtraTreesRegressor  \n1              0.00    ExtraTreesRegressor  \n2              0.16    ExtraTreesRegressor  \n3              0.04  RandomForestRegressor  \n4              0.30     ExtraTreeRegressor  \n...             ...                    ...  \n3379           0.00    ExtraTreesRegressor  \n3380           0.14    ExtraTreesRegressor  \n3381           0.08    ExtraTreesRegressor  \n3382           0.15    ExtraTreesRegressor  \n3383           0.08     ExtraTreeRegressor  \n\n[3384 rows x 8 columns]",
      "text/html": "<div>\n<style scoped>\n    .dataframe tbody tr th:only-of-type {\n        vertical-align: middle;\n    }\n\n    .dataframe tbody tr th {\n        vertical-align: top;\n    }\n\n    .dataframe thead th {\n        text-align: right;\n    }\n</style>\n<table border=\"1\" class=\"dataframe\">\n  <thead>\n    <tr style=\"text-align: right;\">\n      <th></th>\n      <th>Step_Size</th>\n      <th>Side_Length</th>\n      <th>Total_Length</th>\n      <th>Corner</th>\n      <th>Width</th>\n      <th>Height</th>\n      <th>Fillet_Radius</th>\n      <th>Best_Model</th>\n    </tr>\n  </thead>\n  <tbody>\n    <tr>\n      <th>0</th>\n      <td>1.25</td>\n      <td>5.00</td>\n      <td>7.50</td>\n      <td>4.00</td>\n      <td>0.19</td>\n      <td>0.26</td>\n      <td>0.16</td>\n      <td>ExtraTreesRegressor</td>\n    </tr>\n    <tr>\n      <th>1</th>\n      <td>1.00</td>\n      <td>17.00</td>\n      <td>17.00</td>\n      <td>0.00</td>\n      <td>0.25</td>\n      <td>0.05</td>\n      <td>0.00</td>\n      <td>ExtraTreesRegressor</td>\n    </tr>\n    <tr>\n      <th>2</th>\n      <td>1.25</td>\n      <td>18.75</td>\n      <td>48.75</td>\n      <td>24.00</td>\n      <td>0.19</td>\n      <td>0.15</td>\n      <td>0.16</td>\n      <td>ExtraTreesRegressor</td>\n    </tr>\n    <tr>\n      <th>3</th>\n      <td>1.50</td>\n      <td>18.00</td>\n      <td>54.00</td>\n      <td>16.00</td>\n      <td>0.04</td>\n      <td>0.22</td>\n      <td>0.04</td>\n      <td>RandomForestRegressor</td>\n    </tr>\n    <tr>\n      <th>4</th>\n      <td>1.00</td>\n      <td>14.00</td>\n      <td>48.00</td>\n      <td>30.00</td>\n      <td>0.35</td>\n      <td>0.04</td>\n      <td>0.30</td>\n      <td>ExtraTreeRegressor</td>\n    </tr>\n    <tr>\n      <th>...</th>\n      <td>...</td>\n      <td>...</td>\n      <td>...</td>\n      <td>...</td>\n      <td>...</td>\n      <td>...</td>\n      <td>...</td>\n      <td>...</td>\n    </tr>\n    <tr>\n      <th>3379</th>\n      <td>0.50</td>\n      <td>1.50</td>\n      <td>1.50</td>\n      <td>0.00</td>\n      <td>0.04</td>\n      <td>0.13</td>\n      <td>0.00</td>\n      <td>ExtraTreesRegressor</td>\n    </tr>\n    <tr>\n      <th>3380</th>\n      <td>1.50</td>\n      <td>4.50</td>\n      <td>7.50</td>\n      <td>4.00</td>\n      <td>0.22</td>\n      <td>0.04</td>\n      <td>0.14</td>\n      <td>ExtraTreesRegressor</td>\n    </tr>\n    <tr>\n      <th>3381</th>\n      <td>1.50</td>\n      <td>19.50</td>\n      <td>70.50</td>\n      <td>28.00</td>\n      <td>0.10</td>\n      <td>0.10</td>\n      <td>0.08</td>\n      <td>ExtraTreesRegressor</td>\n    </tr>\n    <tr>\n      <th>3382</th>\n      <td>1.50</td>\n      <td>15.00</td>\n      <td>36.00</td>\n      <td>20.00</td>\n      <td>0.20</td>\n      <td>0.15</td>\n      <td>0.15</td>\n      <td>ExtraTreesRegressor</td>\n    </tr>\n    <tr>\n      <th>3383</th>\n      <td>1.50</td>\n      <td>16.50</td>\n      <td>31.50</td>\n      <td>12.00</td>\n      <td>0.10</td>\n      <td>0.05</td>\n      <td>0.08</td>\n      <td>ExtraTreeRegressor</td>\n    </tr>\n  </tbody>\n</table>\n<p>3384 rows × 8 columns</p>\n</div>"
     },
     "execution_count": 19,
     "metadata": {},
     "output_type": "execute_result"
    }
   ],
   "source": [
    "CLASSIFICATION_TEST_DF"
   ],
   "metadata": {
    "collapsed": false,
    "ExecuteTime": {
     "end_time": "2024-06-17T00:34:54.882321700Z",
     "start_time": "2024-06-17T00:34:54.785607400Z"
    }
   },
   "id": "a5e19e88f537521d"
  },
  {
   "cell_type": "markdown",
   "source": [
    "# LAZY PREDICT CLASSIFICATION"
   ],
   "metadata": {
    "collapsed": false
   },
   "id": "be087b391dfe4355"
  },
  {
   "cell_type": "code",
   "execution_count": 20,
   "outputs": [],
   "source": [
    "# Classification of Best Model with Lazy Classifier\n",
    "from lazypredict.Supervised import LazyClassifier\n",
    "\n",
    "FEATURE_CLASS_DATA = np.array(CLASSIFICATION_TRAIN_DF.iloc[:, :-1]).tolist()\n",
    "TARGET_CLASS = np.array(CLASSIFICATION_TRAIN_DF.iloc[:, -1]).tolist()\n",
    "\n",
    "COLUMN_CLASS_NAMES = CLASSIFICATION_TRAIN_DF.columns.tolist()\n",
    "TARGET_CLASS_NAMES = [COLUMN_NAMES[-1]]\n",
    "FEATURE_CLASS_NAMES = COLUMN_NAMES[2:-3]\n",
    "\n",
    "# SAVE THE DATA AS JSON LIKE ABOVE\n",
    "DATA_CLASS_DICT = {\n",
    "    'data': FEATURE_DATA,\n",
    "    'target': TARGET,\n",
    "    'frame': None,\n",
    "    'target_names': TARGET_NAMES,\n",
    "    'feature_names': FEATURE_NAMES\n",
    "}"
   ],
   "metadata": {
    "collapsed": false,
    "ExecuteTime": {
     "end_time": "2024-06-17T00:34:55.306052300Z",
     "start_time": "2024-06-17T00:34:54.808039Z"
    }
   },
   "id": "8f0c60152c4c90bc"
  },
  {
   "cell_type": "code",
   "execution_count": 21,
   "outputs": [
    {
     "name": "stderr",
     "output_type": "stream",
     "text": [
      "  3%|▎         | 1/31 [00:01<00:59,  1.97s/it]"
     ]
    },
    {
     "name": "stdout",
     "output_type": "stream",
     "text": [
      "ROC AUC couldn't be calculated for AdaBoostClassifier\n",
      "could not convert string to float: 'ExtraTreesRegressor'\n"
     ]
    },
    {
     "name": "stderr",
     "output_type": "stream",
     "text": [
      "  6%|▋         | 2/31 [00:02<00:28,  1.02it/s]"
     ]
    },
    {
     "name": "stdout",
     "output_type": "stream",
     "text": [
      "ROC AUC couldn't be calculated for BaggingClassifier\n",
      "could not convert string to float: 'ExtraTreesRegressor'\n",
      "ROC AUC couldn't be calculated for BernoulliNB\n",
      "dtype='numeric' is not compatible with arrays of bytes/strings.Convert your data to numeric values explicitly instead.\n"
     ]
    },
    {
     "name": "stderr",
     "output_type": "stream",
     "text": [
      " 23%|██▎       | 7/31 [00:03<00:08,  2.84it/s]"
     ]
    },
    {
     "name": "stdout",
     "output_type": "stream",
     "text": [
      "ROC AUC couldn't be calculated for CalibratedClassifierCV\n",
      "could not convert string to float: 'ExtraTreesRegressor'\n",
      "CategoricalNB model failed to execute\n",
      "Negative values in data passed to CategoricalNB (input X)\n",
      "ROC AUC couldn't be calculated for DecisionTreeClassifier\n",
      "could not convert string to float: 'ExtraTreesRegressor'\n",
      "ROC AUC couldn't be calculated for DummyClassifier\n",
      "dtype='numeric' is not compatible with arrays of bytes/strings.Convert your data to numeric values explicitly instead.\n",
      "ROC AUC couldn't be calculated for ExtraTreeClassifier\n",
      "could not convert string to float: 'ExtraTreesRegressor'\n"
     ]
    },
    {
     "name": "stderr",
     "output_type": "stream",
     "text": [
      " 39%|███▊      | 12/31 [00:04<00:04,  3.87it/s]"
     ]
    },
    {
     "name": "stdout",
     "output_type": "stream",
     "text": [
      "ROC AUC couldn't be calculated for ExtraTreesClassifier\n",
      "could not convert string to float: 'ExtraTreesRegressor'\n",
      "FixedThresholdClassifier model failed to execute\n",
      "FixedThresholdClassifier.__init__() missing 1 required positional argument: 'estimator'\n",
      "ROC AUC couldn't be calculated for GaussianNB\n",
      "dtype='numeric' is not compatible with arrays of bytes/strings.Convert your data to numeric values explicitly instead.\n",
      "ROC AUC couldn't be calculated for KNeighborsClassifier\n",
      "could not convert string to float: 'ExtraTreesRegressor'\n"
     ]
    },
    {
     "name": "stderr",
     "output_type": "stream",
     "text": [
      " 42%|████▏     | 13/31 [00:51<02:25,  8.07s/it]"
     ]
    },
    {
     "name": "stdout",
     "output_type": "stream",
     "text": [
      "ROC AUC couldn't be calculated for LabelPropagation\n",
      "could not convert string to float: 'ExtraTreesRegressor'\n"
     ]
    },
    {
     "name": "stderr",
     "output_type": "stream",
     "text": [
      " 48%|████▊     | 15/31 [01:44<03:32, 13.30s/it]"
     ]
    },
    {
     "name": "stdout",
     "output_type": "stream",
     "text": [
      "ROC AUC couldn't be calculated for LabelSpreading\n",
      "could not convert string to float: 'ExtraTreesRegressor'\n",
      "ROC AUC couldn't be calculated for LinearDiscriminantAnalysis\n",
      "dtype='numeric' is not compatible with arrays of bytes/strings.Convert your data to numeric values explicitly instead.\n"
     ]
    },
    {
     "name": "stderr",
     "output_type": "stream",
     "text": [
      " 52%|█████▏    | 16/31 [01:45<02:33, 10.21s/it]"
     ]
    },
    {
     "name": "stdout",
     "output_type": "stream",
     "text": [
      "ROC AUC couldn't be calculated for LinearSVC\n",
      "could not convert string to float: 'ExtraTreesRegressor'\n"
     ]
    },
    {
     "name": "stderr",
     "output_type": "stream",
     "text": [
      " 55%|█████▍    | 17/31 [01:45<01:49,  7.81s/it]"
     ]
    },
    {
     "name": "stdout",
     "output_type": "stream",
     "text": [
      "ROC AUC couldn't be calculated for LogisticRegression\n",
      "could not convert string to float: 'ExtraTreesRegressor'\n"
     ]
    },
    {
     "name": "stderr",
     "output_type": "stream",
     "text": [
      " 65%|██████▍   | 20/31 [01:46<00:36,  3.33s/it]"
     ]
    },
    {
     "name": "stdout",
     "output_type": "stream",
     "text": [
      "ROC AUC couldn't be calculated for NearestCentroid\n",
      "could not convert string to float: 'ExtraTreesRegressor'\n",
      "NuSVC model failed to execute\n",
      "specified nu is infeasible\n",
      "ROC AUC couldn't be calculated for PassiveAggressiveClassifier\n",
      "dtype='numeric' is not compatible with arrays of bytes/strings.Convert your data to numeric values explicitly instead.\n"
     ]
    },
    {
     "name": "stderr",
     "output_type": "stream",
     "text": [
      " 71%|███████   | 22/31 [01:46<00:18,  2.09s/it]"
     ]
    },
    {
     "name": "stdout",
     "output_type": "stream",
     "text": [
      "ROC AUC couldn't be calculated for Perceptron\n",
      "dtype='numeric' is not compatible with arrays of bytes/strings.Convert your data to numeric values explicitly instead.\n",
      "ROC AUC couldn't be calculated for QuadraticDiscriminantAnalysis\n",
      "could not convert string to float: 'ExtraTreesRegressor'\n"
     ]
    },
    {
     "name": "stderr",
     "output_type": "stream",
     "text": [
      " 74%|███████▍  | 23/31 [01:47<00:15,  1.88s/it]"
     ]
    },
    {
     "name": "stdout",
     "output_type": "stream",
     "text": [
      "ROC AUC couldn't be calculated for RandomForestClassifier\n",
      "could not convert string to float: 'ExtraTreesRegressor'\n",
      "ROC AUC couldn't be calculated for RidgeClassifier\n",
      "dtype='numeric' is not compatible with arrays of bytes/strings.Convert your data to numeric values explicitly instead.\n"
     ]
    },
    {
     "name": "stderr",
     "output_type": "stream",
     "text": [
      " 84%|████████▍ | 26/31 [01:47<00:04,  1.02it/s]"
     ]
    },
    {
     "name": "stdout",
     "output_type": "stream",
     "text": [
      "ROC AUC couldn't be calculated for RidgeClassifierCV\n",
      "dtype='numeric' is not compatible with arrays of bytes/strings.Convert your data to numeric values explicitly instead.\n",
      "ROC AUC couldn't be calculated for SGDClassifier\n",
      "dtype='numeric' is not compatible with arrays of bytes/strings.Convert your data to numeric values explicitly instead.\n"
     ]
    },
    {
     "name": "stderr",
     "output_type": "stream",
     "text": [
      " 87%|████████▋ | 27/31 [01:53<00:08,  2.08s/it]"
     ]
    },
    {
     "name": "stdout",
     "output_type": "stream",
     "text": [
      "ROC AUC couldn't be calculated for SVC\n",
      "could not convert string to float: 'ExtraTreesRegressor'\n",
      "StackingClassifier model failed to execute\n",
      "StackingClassifier.__init__() missing 1 required positional argument: 'estimators'\n",
      "TunedThresholdClassifierCV model failed to execute\n",
      "TunedThresholdClassifierCV.__init__() missing 1 required positional argument: 'estimator'\n",
      "XGBClassifier model failed to execute\n",
      "Invalid classes inferred from unique values of `y`.  Expected: [ 0  1  2  3  4  5  6  7  8  9 10 11], got ['BaggingRegressor' 'DecisionTreeRegressor' 'ExtraTreeRegressor'\n",
      " 'ExtraTreesRegressor' 'GaussianProcessRegressor'\n",
      " 'GradientBoostingRegressor' 'HistGradientBoostingRegressor'\n",
      " 'KNeighborsRegressor' 'LGBMRegressor' 'MLPRegressor'\n",
      " 'RandomForestRegressor' 'XGBRegressor']\n",
      "[LightGBM] [Info] Auto-choosing row-wise multi-threading, the overhead of testing was 0.000878 seconds.\n",
      "You can set `force_row_wise=true` to remove the overhead.\n",
      "And if memory is not enough, you can set `force_col_wise=true`.\n",
      "[LightGBM] [Info] Total Bins 610\n",
      "[LightGBM] [Info] Number of data points in the train set: 30456, number of used features: 7\n",
      "[LightGBM] [Info] Start training from score -7.145984\n",
      "[LightGBM] [Info] Start training from score -5.230288\n",
      "[LightGBM] [Info] Start training from score -2.337533\n",
      "[LightGBM] [Info] Start training from score -0.113581\n",
      "[LightGBM] [Info] Start training from score -7.490825\n",
      "[LightGBM] [Info] Start training from score -9.225426\n",
      "[LightGBM] [Info] Start training from score -7.328306\n",
      "[LightGBM] [Info] Start training from score -7.232996\n",
      "[LightGBM] [Info] Start training from score -7.328306\n",
      "[LightGBM] [Info] Start training from score -8.532279\n",
      "[LightGBM] [Info] Start training from score -6.713120\n",
      "[LightGBM] [Info] Start training from score -7.490825\n",
      "[LightGBM] [Warning] No further splits with positive gain, best gain: -inf\n",
      "[LightGBM] [Warning] No further splits with positive gain, best gain: -inf\n",
      "[LightGBM] [Warning] No further splits with positive gain, best gain: -inf\n",
      "[LightGBM] [Warning] No further splits with positive gain, best gain: -inf\n",
      "[LightGBM] [Warning] No further splits with positive gain, best gain: -inf\n",
      "[LightGBM] [Warning] No further splits with positive gain, best gain: -inf\n",
      "[LightGBM] [Warning] No further splits with positive gain, best gain: -inf\n",
      "[LightGBM] [Warning] No further splits with positive gain, best gain: -inf\n",
      "[LightGBM] [Warning] No further splits with positive gain, best gain: -inf\n",
      "[LightGBM] [Warning] No further splits with positive gain, best gain: -inf\n",
      "[LightGBM] [Warning] No further splits with positive gain, best gain: -inf\n",
      "[LightGBM] [Warning] No further splits with positive gain, best gain: -inf\n",
      "[LightGBM] [Warning] No further splits with positive gain, best gain: -inf\n",
      "[LightGBM] [Warning] No further splits with positive gain, best gain: -inf\n",
      "[LightGBM] [Warning] No further splits with positive gain, best gain: -inf\n",
      "[LightGBM] [Warning] No further splits with positive gain, best gain: -inf\n",
      "[LightGBM] [Warning] No further splits with positive gain, best gain: -inf\n",
      "[LightGBM] [Warning] No further splits with positive gain, best gain: -inf\n",
      "[LightGBM] [Warning] No further splits with positive gain, best gain: -inf\n",
      "[LightGBM] [Warning] No further splits with positive gain, best gain: -inf\n",
      "[LightGBM] [Warning] No further splits with positive gain, best gain: -inf\n",
      "[LightGBM] [Warning] No further splits with positive gain, best gain: -inf\n",
      "[LightGBM] [Warning] No further splits with positive gain, best gain: -inf\n",
      "[LightGBM] [Warning] No further splits with positive gain, best gain: -inf\n",
      "[LightGBM] [Warning] No further splits with positive gain, best gain: -inf\n",
      "[LightGBM] [Warning] No further splits with positive gain, best gain: -inf\n",
      "[LightGBM] [Warning] No further splits with positive gain, best gain: -inf\n",
      "[LightGBM] [Warning] No further splits with positive gain, best gain: -inf\n",
      "[LightGBM] [Warning] No further splits with positive gain, best gain: -inf\n",
      "[LightGBM] [Warning] No further splits with positive gain, best gain: -inf\n",
      "[LightGBM] [Warning] No further splits with positive gain, best gain: -inf\n",
      "[LightGBM] [Warning] No further splits with positive gain, best gain: -inf\n",
      "[LightGBM] [Warning] No further splits with positive gain, best gain: -inf\n",
      "[LightGBM] [Warning] No further splits with positive gain, best gain: -inf\n",
      "[LightGBM] [Warning] No further splits with positive gain, best gain: -inf\n",
      "[LightGBM] [Warning] No further splits with positive gain, best gain: -inf\n",
      "[LightGBM] [Warning] No further splits with positive gain, best gain: -inf\n",
      "[LightGBM] [Warning] No further splits with positive gain, best gain: -inf\n",
      "[LightGBM] [Warning] No further splits with positive gain, best gain: -inf\n",
      "[LightGBM] [Warning] No further splits with positive gain, best gain: -inf\n",
      "[LightGBM] [Warning] No further splits with positive gain, best gain: -inf\n",
      "[LightGBM] [Warning] No further splits with positive gain, best gain: -inf\n",
      "[LightGBM] [Warning] No further splits with positive gain, best gain: -inf\n",
      "[LightGBM] [Warning] No further splits with positive gain, best gain: -inf\n",
      "[LightGBM] [Warning] No further splits with positive gain, best gain: -inf\n",
      "[LightGBM] [Warning] No further splits with positive gain, best gain: -inf\n",
      "[LightGBM] [Warning] No further splits with positive gain, best gain: -inf\n",
      "[LightGBM] [Warning] No further splits with positive gain, best gain: -inf\n",
      "[LightGBM] [Warning] No further splits with positive gain, best gain: -inf\n",
      "[LightGBM] [Warning] No further splits with positive gain, best gain: -inf\n",
      "[LightGBM] [Warning] No further splits with positive gain, best gain: -inf\n",
      "[LightGBM] [Warning] No further splits with positive gain, best gain: -inf\n",
      "[LightGBM] [Warning] No further splits with positive gain, best gain: -inf\n",
      "[LightGBM] [Warning] No further splits with positive gain, best gain: -inf\n",
      "[LightGBM] [Warning] No further splits with positive gain, best gain: -inf\n",
      "[LightGBM] [Warning] No further splits with positive gain, best gain: -inf\n",
      "[LightGBM] [Warning] No further splits with positive gain, best gain: -inf\n",
      "[LightGBM] [Warning] No further splits with positive gain, best gain: -inf\n",
      "[LightGBM] [Warning] No further splits with positive gain, best gain: -inf\n",
      "[LightGBM] [Warning] No further splits with positive gain, best gain: -inf\n",
      "[LightGBM] [Warning] No further splits with positive gain, best gain: -inf\n",
      "[LightGBM] [Warning] No further splits with positive gain, best gain: -inf\n",
      "[LightGBM] [Warning] No further splits with positive gain, best gain: -inf\n",
      "[LightGBM] [Warning] No further splits with positive gain, best gain: -inf\n",
      "[LightGBM] [Warning] No further splits with positive gain, best gain: -inf\n",
      "[LightGBM] [Warning] No further splits with positive gain, best gain: -inf\n",
      "[LightGBM] [Warning] No further splits with positive gain, best gain: -inf\n",
      "[LightGBM] [Warning] No further splits with positive gain, best gain: -inf\n",
      "[LightGBM] [Warning] No further splits with positive gain, best gain: -inf\n",
      "[LightGBM] [Warning] No further splits with positive gain, best gain: -inf\n",
      "[LightGBM] [Warning] No further splits with positive gain, best gain: -inf\n",
      "[LightGBM] [Warning] No further splits with positive gain, best gain: -inf\n",
      "[LightGBM] [Warning] No further splits with positive gain, best gain: -inf\n",
      "[LightGBM] [Warning] No further splits with positive gain, best gain: -inf\n",
      "[LightGBM] [Warning] No further splits with positive gain, best gain: -inf\n",
      "[LightGBM] [Warning] No further splits with positive gain, best gain: -inf\n",
      "[LightGBM] [Warning] No further splits with positive gain, best gain: -inf\n",
      "[LightGBM] [Warning] No further splits with positive gain, best gain: -inf\n",
      "[LightGBM] [Warning] No further splits with positive gain, best gain: -inf\n",
      "[LightGBM] [Warning] No further splits with positive gain, best gain: -inf\n",
      "[LightGBM] [Warning] No further splits with positive gain, best gain: -inf\n",
      "[LightGBM] [Warning] No further splits with positive gain, best gain: -inf\n",
      "[LightGBM] [Warning] No further splits with positive gain, best gain: -inf\n",
      "[LightGBM] [Warning] No further splits with positive gain, best gain: -inf\n",
      "[LightGBM] [Warning] No further splits with positive gain, best gain: -inf\n",
      "[LightGBM] [Warning] No further splits with positive gain, best gain: -inf\n",
      "[LightGBM] [Warning] No further splits with positive gain, best gain: -inf\n",
      "[LightGBM] [Warning] No further splits with positive gain, best gain: -inf\n",
      "[LightGBM] [Warning] No further splits with positive gain, best gain: -inf\n",
      "[LightGBM] [Warning] No further splits with positive gain, best gain: -inf\n",
      "[LightGBM] [Warning] No further splits with positive gain, best gain: -inf\n",
      "[LightGBM] [Warning] No further splits with positive gain, best gain: -inf\n",
      "[LightGBM] [Warning] No further splits with positive gain, best gain: -inf\n",
      "[LightGBM] [Warning] No further splits with positive gain, best gain: -inf\n",
      "[LightGBM] [Warning] No further splits with positive gain, best gain: -inf\n",
      "[LightGBM] [Warning] No further splits with positive gain, best gain: -inf\n",
      "[LightGBM] [Warning] No further splits with positive gain, best gain: -inf\n",
      "[LightGBM] [Warning] No further splits with positive gain, best gain: -inf\n",
      "[LightGBM] [Warning] No further splits with positive gain, best gain: -inf\n",
      "[LightGBM] [Warning] No further splits with positive gain, best gain: -inf\n",
      "[LightGBM] [Warning] No further splits with positive gain, best gain: -inf\n",
      "[LightGBM] [Warning] No further splits with positive gain, best gain: -inf\n",
      "[LightGBM] [Warning] No further splits with positive gain, best gain: -inf\n",
      "[LightGBM] [Warning] No further splits with positive gain, best gain: -inf\n",
      "[LightGBM] [Warning] No further splits with positive gain, best gain: -inf\n",
      "[LightGBM] [Warning] No further splits with positive gain, best gain: -inf\n",
      "[LightGBM] [Warning] No further splits with positive gain, best gain: -inf\n",
      "[LightGBM] [Warning] No further splits with positive gain, best gain: -inf\n",
      "[LightGBM] [Warning] No further splits with positive gain, best gain: -inf\n",
      "[LightGBM] [Warning] No further splits with positive gain, best gain: -inf\n",
      "[LightGBM] [Warning] No further splits with positive gain, best gain: -inf\n",
      "[LightGBM] [Warning] No further splits with positive gain, best gain: -inf\n",
      "[LightGBM] [Warning] No further splits with positive gain, best gain: -inf\n",
      "[LightGBM] [Warning] No further splits with positive gain, best gain: -inf\n",
      "[LightGBM] [Warning] No further splits with positive gain, best gain: -inf\n",
      "[LightGBM] [Warning] No further splits with positive gain, best gain: -inf\n",
      "[LightGBM] [Warning] No further splits with positive gain, best gain: -inf\n",
      "[LightGBM] [Warning] No further splits with positive gain, best gain: -inf\n",
      "[LightGBM] [Warning] No further splits with positive gain, best gain: -inf\n",
      "[LightGBM] [Warning] No further splits with positive gain, best gain: -inf\n",
      "[LightGBM] [Warning] No further splits with positive gain, best gain: -inf\n",
      "[LightGBM] [Warning] No further splits with positive gain, best gain: -inf\n",
      "[LightGBM] [Warning] No further splits with positive gain, best gain: -inf\n",
      "[LightGBM] [Warning] No further splits with positive gain, best gain: -inf\n",
      "[LightGBM] [Warning] No further splits with positive gain, best gain: -inf\n",
      "[LightGBM] [Warning] No further splits with positive gain, best gain: -inf\n",
      "[LightGBM] [Warning] No further splits with positive gain, best gain: -inf\n",
      "[LightGBM] [Warning] No further splits with positive gain, best gain: -inf\n",
      "[LightGBM] [Warning] No further splits with positive gain, best gain: -inf\n",
      "[LightGBM] [Warning] No further splits with positive gain, best gain: -inf\n",
      "[LightGBM] [Warning] No further splits with positive gain, best gain: -inf\n",
      "[LightGBM] [Warning] No further splits with positive gain, best gain: -inf\n",
      "[LightGBM] [Warning] No further splits with positive gain, best gain: -inf\n",
      "[LightGBM] [Warning] No further splits with positive gain, best gain: -inf\n",
      "[LightGBM] [Warning] No further splits with positive gain, best gain: -inf\n",
      "[LightGBM] [Warning] No further splits with positive gain, best gain: -inf\n",
      "[LightGBM] [Warning] No further splits with positive gain, best gain: -inf\n",
      "[LightGBM] [Warning] No further splits with positive gain, best gain: -inf\n",
      "[LightGBM] [Warning] No further splits with positive gain, best gain: -inf\n",
      "[LightGBM] [Warning] No further splits with positive gain, best gain: -inf\n",
      "[LightGBM] [Warning] No further splits with positive gain, best gain: -inf\n",
      "[LightGBM] [Warning] No further splits with positive gain, best gain: -inf\n",
      "[LightGBM] [Warning] No further splits with positive gain, best gain: -inf\n",
      "[LightGBM] [Warning] No further splits with positive gain, best gain: -inf\n",
      "[LightGBM] [Warning] No further splits with positive gain, best gain: -inf\n",
      "[LightGBM] [Warning] No further splits with positive gain, best gain: -inf\n",
      "[LightGBM] [Warning] No further splits with positive gain, best gain: -inf\n",
      "[LightGBM] [Warning] No further splits with positive gain, best gain: -inf\n",
      "[LightGBM] [Warning] No further splits with positive gain, best gain: -inf\n",
      "[LightGBM] [Warning] No further splits with positive gain, best gain: -inf\n",
      "[LightGBM] [Warning] No further splits with positive gain, best gain: -inf\n",
      "[LightGBM] [Warning] No further splits with positive gain, best gain: -inf\n",
      "[LightGBM] [Warning] No further splits with positive gain, best gain: -inf\n",
      "[LightGBM] [Warning] No further splits with positive gain, best gain: -inf\n",
      "[LightGBM] [Warning] No further splits with positive gain, best gain: -inf\n",
      "[LightGBM] [Warning] No further splits with positive gain, best gain: -inf\n",
      "[LightGBM] [Warning] No further splits with positive gain, best gain: -inf\n",
      "[LightGBM] [Warning] No further splits with positive gain, best gain: -inf\n",
      "[LightGBM] [Warning] No further splits with positive gain, best gain: -inf\n",
      "[LightGBM] [Warning] No further splits with positive gain, best gain: -inf\n",
      "[LightGBM] [Warning] No further splits with positive gain, best gain: -inf\n",
      "[LightGBM] [Warning] No further splits with positive gain, best gain: -inf\n",
      "[LightGBM] [Warning] No further splits with positive gain, best gain: -inf\n",
      "[LightGBM] [Warning] No further splits with positive gain, best gain: -inf\n",
      "[LightGBM] [Warning] No further splits with positive gain, best gain: -inf\n",
      "[LightGBM] [Warning] No further splits with positive gain, best gain: -inf\n",
      "[LightGBM] [Warning] No further splits with positive gain, best gain: -inf\n",
      "[LightGBM] [Warning] No further splits with positive gain, best gain: -inf\n",
      "[LightGBM] [Warning] No further splits with positive gain, best gain: -inf\n",
      "[LightGBM] [Warning] No further splits with positive gain, best gain: -inf\n",
      "[LightGBM] [Warning] No further splits with positive gain, best gain: -inf\n",
      "[LightGBM] [Warning] No further splits with positive gain, best gain: -inf\n",
      "[LightGBM] [Warning] No further splits with positive gain, best gain: -inf\n",
      "[LightGBM] [Warning] No further splits with positive gain, best gain: -inf\n",
      "[LightGBM] [Warning] No further splits with positive gain, best gain: -inf\n",
      "[LightGBM] [Warning] No further splits with positive gain, best gain: -inf\n",
      "[LightGBM] [Warning] No further splits with positive gain, best gain: -inf\n",
      "[LightGBM] [Warning] No further splits with positive gain, best gain: -inf\n",
      "[LightGBM] [Warning] No further splits with positive gain, best gain: -inf\n",
      "[LightGBM] [Warning] No further splits with positive gain, best gain: -inf\n",
      "[LightGBM] [Warning] No further splits with positive gain, best gain: -inf\n",
      "[LightGBM] [Warning] No further splits with positive gain, best gain: -inf\n",
      "[LightGBM] [Warning] No further splits with positive gain, best gain: -inf\n",
      "[LightGBM] [Warning] No further splits with positive gain, best gain: -inf\n",
      "[LightGBM] [Warning] No further splits with positive gain, best gain: -inf\n",
      "[LightGBM] [Warning] No further splits with positive gain, best gain: -inf\n",
      "[LightGBM] [Warning] No further splits with positive gain, best gain: -inf\n",
      "[LightGBM] [Warning] No further splits with positive gain, best gain: -inf\n",
      "[LightGBM] [Warning] No further splits with positive gain, best gain: -inf\n",
      "[LightGBM] [Warning] No further splits with positive gain, best gain: -inf\n",
      "[LightGBM] [Warning] No further splits with positive gain, best gain: -inf\n",
      "[LightGBM] [Warning] No further splits with positive gain, best gain: -inf\n",
      "[LightGBM] [Warning] No further splits with positive gain, best gain: -inf\n",
      "[LightGBM] [Warning] No further splits with positive gain, best gain: -inf\n",
      "[LightGBM] [Warning] No further splits with positive gain, best gain: -inf\n",
      "[LightGBM] [Warning] No further splits with positive gain, best gain: -inf\n",
      "[LightGBM] [Warning] No further splits with positive gain, best gain: -inf\n",
      "[LightGBM] [Warning] No further splits with positive gain, best gain: -inf\n",
      "[LightGBM] [Warning] No further splits with positive gain, best gain: -inf\n",
      "[LightGBM] [Warning] No further splits with positive gain, best gain: -inf\n",
      "[LightGBM] [Warning] No further splits with positive gain, best gain: -inf\n",
      "[LightGBM] [Warning] No further splits with positive gain, best gain: -inf\n",
      "[LightGBM] [Warning] No further splits with positive gain, best gain: -inf\n",
      "[LightGBM] [Warning] No further splits with positive gain, best gain: -inf\n",
      "[LightGBM] [Warning] No further splits with positive gain, best gain: -inf\n",
      "[LightGBM] [Warning] No further splits with positive gain, best gain: -inf\n",
      "[LightGBM] [Warning] No further splits with positive gain, best gain: -inf\n",
      "[LightGBM] [Warning] No further splits with positive gain, best gain: -inf\n",
      "[LightGBM] [Warning] No further splits with positive gain, best gain: -inf\n",
      "[LightGBM] [Warning] No further splits with positive gain, best gain: -inf\n",
      "[LightGBM] [Warning] No further splits with positive gain, best gain: -inf\n",
      "[LightGBM] [Warning] No further splits with positive gain, best gain: -inf\n",
      "[LightGBM] [Warning] No further splits with positive gain, best gain: -inf\n",
      "[LightGBM] [Warning] No further splits with positive gain, best gain: -inf\n",
      "[LightGBM] [Warning] No further splits with positive gain, best gain: -inf\n",
      "[LightGBM] [Warning] No further splits with positive gain, best gain: -inf\n",
      "[LightGBM] [Warning] No further splits with positive gain, best gain: -inf\n",
      "[LightGBM] [Warning] No further splits with positive gain, best gain: -inf\n",
      "[LightGBM] [Warning] No further splits with positive gain, best gain: -inf\n",
      "[LightGBM] [Warning] No further splits with positive gain, best gain: -inf\n",
      "[LightGBM] [Warning] No further splits with positive gain, best gain: -inf\n",
      "[LightGBM] [Warning] No further splits with positive gain, best gain: -inf\n",
      "[LightGBM] [Warning] No further splits with positive gain, best gain: -inf\n",
      "[LightGBM] [Warning] No further splits with positive gain, best gain: -inf\n",
      "[LightGBM] [Warning] No further splits with positive gain, best gain: -inf\n",
      "[LightGBM] [Warning] No further splits with positive gain, best gain: -inf\n",
      "[LightGBM] [Warning] No further splits with positive gain, best gain: -inf\n",
      "[LightGBM] [Warning] No further splits with positive gain, best gain: -inf\n",
      "[LightGBM] [Warning] No further splits with positive gain, best gain: -inf\n",
      "[LightGBM] [Warning] No further splits with positive gain, best gain: -inf\n",
      "[LightGBM] [Warning] No further splits with positive gain, best gain: -inf\n",
      "[LightGBM] [Warning] No further splits with positive gain, best gain: -inf\n",
      "[LightGBM] [Warning] No further splits with positive gain, best gain: -inf\n"
     ]
    },
    {
     "name": "stderr",
     "output_type": "stream",
     "text": [
      "100%|██████████| 31/31 [01:55<00:00,  3.72s/it]"
     ]
    },
    {
     "name": "stdout",
     "output_type": "stream",
     "text": [
      "ROC AUC couldn't be calculated for LGBMClassifier\n",
      "could not convert string to float: 'ExtraTreesRegressor'\n"
     ]
    },
    {
     "name": "stderr",
     "output_type": "stream",
     "text": [
      "\n"
     ]
    }
   ],
   "source": [
    "X, Y = shuffle(DATA_CLASS_DICT['data'], DATA_DICT['target'], random_state=13)\n",
    "X = np.array(X).astype(np.float32)\n",
    "\n",
    "\n",
    "X_CLASS_TRAIN, Y_CLASS_TRAIN = CLASSIFICATION_TRAIN_DF.iloc[:, :-1], CLASSIFICATION_TRAIN_DF.iloc[:, -1]\n",
    "X_CLASS_TEST, Y_CLASS_TEST = CLASSIFICATION_TEST_DF.iloc[:, :-1], CLASSIFICATION_TEST_DF.iloc[:, -1]\n",
    "\n",
    "CLASSIFIER = LazyClassifier(verbose=0, ignore_warnings=False, custom_metric=None, predictions=True)\n",
    "SCORES_CLASS, PREDICTIONS_CLASS = CLASSIFIER.fit(X_CLASS_TRAIN, X_CLASS_TEST, Y_CLASS_TRAIN, Y_CLASS_TEST)"
   ],
   "metadata": {
    "collapsed": false,
    "ExecuteTime": {
     "end_time": "2024-06-17T00:36:50.802545Z",
     "start_time": "2024-06-17T00:34:55.307052400Z"
    }
   },
   "id": "2d4c6b7f88335a5b"
  },
  {
   "cell_type": "code",
   "execution_count": 22,
   "outputs": [
    {
     "data": {
      "text/plain": "                               Accuracy  Balanced Accuracy ROC AUC  F1 Score  \\\nModel                                                                          \nNearestCentroid                    0.40               0.17    None      0.52   \nGaussianNB                         0.67               0.16    None      0.69   \nQuadraticDiscriminantAnalysis      0.69               0.14    None      0.71   \nExtraTreesClassifier               0.81               0.13    None      0.75   \nBaggingClassifier                  0.81               0.13    None      0.75   \nDecisionTreeClassifier             0.81               0.13    None      0.75   \nRandomForestClassifier             0.81               0.13    None      0.75   \nExtraTreeClassifier                0.80               0.13    None      0.75   \nKNeighborsClassifier               0.80               0.12    None      0.74   \nLGBMClassifier                     0.79               0.12    None      0.74   \nLabelPropagation                   0.80               0.12    None      0.74   \nLabelSpreading                     0.80               0.12    None      0.74   \nPassiveAggressiveClassifier        0.75               0.11    None      0.72   \nBernoulliNB                        0.73               0.10    None      0.69   \nLogisticRegression                 0.78               0.09    None      0.72   \nCalibratedClassifierCV             0.78               0.09    None      0.71   \nLinearSVC                          0.78               0.09    None      0.71   \nSVC                                0.79               0.09    None      0.71   \nSGDClassifier                      0.79               0.09    None      0.71   \nPerceptron                         0.77               0.09    None      0.71   \nLinearDiscriminantAnalysis         0.78               0.09    None      0.70   \nRidgeClassifierCV                  0.79               0.08    None      0.70   \nRidgeClassifier                    0.79               0.08    None      0.70   \nDummyClassifier                    0.79               0.08    None      0.70   \nAdaBoostClassifier                 0.47               0.08    None      0.54   \n\n                               Time Taken  \nModel                                      \nNearestCentroid                      0.23  \nGaussianNB                           0.07  \nQuadraticDiscriminantAnalysis        0.06  \nExtraTreesClassifier                 0.93  \nBaggingClassifier                    0.29  \nDecisionTreeClassifier               0.08  \nRandomForestClassifier               1.10  \nExtraTreeClassifier                  0.06  \nKNeighborsClassifier                 0.14  \nLGBMClassifier                       1.73  \nLabelPropagation                    46.17  \nLabelSpreading                      53.61  \nPassiveAggressiveClassifier          0.12  \nBernoulliNB                          0.09  \nLogisticRegression                   0.72  \nCalibratedClassifierCV               1.20  \nLinearSVC                            0.32  \nSVC                                  5.69  \nSGDClassifier                        0.15  \nPerceptron                           0.10  \nLinearDiscriminantAnalysis           0.11  \nRidgeClassifierCV                    0.13  \nRidgeClassifier                      0.09  \nDummyClassifier                      0.03  \nAdaBoostClassifier                   1.97  ",
      "text/html": "<div>\n<style scoped>\n    .dataframe tbody tr th:only-of-type {\n        vertical-align: middle;\n    }\n\n    .dataframe tbody tr th {\n        vertical-align: top;\n    }\n\n    .dataframe thead th {\n        text-align: right;\n    }\n</style>\n<table border=\"1\" class=\"dataframe\">\n  <thead>\n    <tr style=\"text-align: right;\">\n      <th></th>\n      <th>Accuracy</th>\n      <th>Balanced Accuracy</th>\n      <th>ROC AUC</th>\n      <th>F1 Score</th>\n      <th>Time Taken</th>\n    </tr>\n    <tr>\n      <th>Model</th>\n      <th></th>\n      <th></th>\n      <th></th>\n      <th></th>\n      <th></th>\n    </tr>\n  </thead>\n  <tbody>\n    <tr>\n      <th>NearestCentroid</th>\n      <td>0.40</td>\n      <td>0.17</td>\n      <td>None</td>\n      <td>0.52</td>\n      <td>0.23</td>\n    </tr>\n    <tr>\n      <th>GaussianNB</th>\n      <td>0.67</td>\n      <td>0.16</td>\n      <td>None</td>\n      <td>0.69</td>\n      <td>0.07</td>\n    </tr>\n    <tr>\n      <th>QuadraticDiscriminantAnalysis</th>\n      <td>0.69</td>\n      <td>0.14</td>\n      <td>None</td>\n      <td>0.71</td>\n      <td>0.06</td>\n    </tr>\n    <tr>\n      <th>ExtraTreesClassifier</th>\n      <td>0.81</td>\n      <td>0.13</td>\n      <td>None</td>\n      <td>0.75</td>\n      <td>0.93</td>\n    </tr>\n    <tr>\n      <th>BaggingClassifier</th>\n      <td>0.81</td>\n      <td>0.13</td>\n      <td>None</td>\n      <td>0.75</td>\n      <td>0.29</td>\n    </tr>\n    <tr>\n      <th>DecisionTreeClassifier</th>\n      <td>0.81</td>\n      <td>0.13</td>\n      <td>None</td>\n      <td>0.75</td>\n      <td>0.08</td>\n    </tr>\n    <tr>\n      <th>RandomForestClassifier</th>\n      <td>0.81</td>\n      <td>0.13</td>\n      <td>None</td>\n      <td>0.75</td>\n      <td>1.10</td>\n    </tr>\n    <tr>\n      <th>ExtraTreeClassifier</th>\n      <td>0.80</td>\n      <td>0.13</td>\n      <td>None</td>\n      <td>0.75</td>\n      <td>0.06</td>\n    </tr>\n    <tr>\n      <th>KNeighborsClassifier</th>\n      <td>0.80</td>\n      <td>0.12</td>\n      <td>None</td>\n      <td>0.74</td>\n      <td>0.14</td>\n    </tr>\n    <tr>\n      <th>LGBMClassifier</th>\n      <td>0.79</td>\n      <td>0.12</td>\n      <td>None</td>\n      <td>0.74</td>\n      <td>1.73</td>\n    </tr>\n    <tr>\n      <th>LabelPropagation</th>\n      <td>0.80</td>\n      <td>0.12</td>\n      <td>None</td>\n      <td>0.74</td>\n      <td>46.17</td>\n    </tr>\n    <tr>\n      <th>LabelSpreading</th>\n      <td>0.80</td>\n      <td>0.12</td>\n      <td>None</td>\n      <td>0.74</td>\n      <td>53.61</td>\n    </tr>\n    <tr>\n      <th>PassiveAggressiveClassifier</th>\n      <td>0.75</td>\n      <td>0.11</td>\n      <td>None</td>\n      <td>0.72</td>\n      <td>0.12</td>\n    </tr>\n    <tr>\n      <th>BernoulliNB</th>\n      <td>0.73</td>\n      <td>0.10</td>\n      <td>None</td>\n      <td>0.69</td>\n      <td>0.09</td>\n    </tr>\n    <tr>\n      <th>LogisticRegression</th>\n      <td>0.78</td>\n      <td>0.09</td>\n      <td>None</td>\n      <td>0.72</td>\n      <td>0.72</td>\n    </tr>\n    <tr>\n      <th>CalibratedClassifierCV</th>\n      <td>0.78</td>\n      <td>0.09</td>\n      <td>None</td>\n      <td>0.71</td>\n      <td>1.20</td>\n    </tr>\n    <tr>\n      <th>LinearSVC</th>\n      <td>0.78</td>\n      <td>0.09</td>\n      <td>None</td>\n      <td>0.71</td>\n      <td>0.32</td>\n    </tr>\n    <tr>\n      <th>SVC</th>\n      <td>0.79</td>\n      <td>0.09</td>\n      <td>None</td>\n      <td>0.71</td>\n      <td>5.69</td>\n    </tr>\n    <tr>\n      <th>SGDClassifier</th>\n      <td>0.79</td>\n      <td>0.09</td>\n      <td>None</td>\n      <td>0.71</td>\n      <td>0.15</td>\n    </tr>\n    <tr>\n      <th>Perceptron</th>\n      <td>0.77</td>\n      <td>0.09</td>\n      <td>None</td>\n      <td>0.71</td>\n      <td>0.10</td>\n    </tr>\n    <tr>\n      <th>LinearDiscriminantAnalysis</th>\n      <td>0.78</td>\n      <td>0.09</td>\n      <td>None</td>\n      <td>0.70</td>\n      <td>0.11</td>\n    </tr>\n    <tr>\n      <th>RidgeClassifierCV</th>\n      <td>0.79</td>\n      <td>0.08</td>\n      <td>None</td>\n      <td>0.70</td>\n      <td>0.13</td>\n    </tr>\n    <tr>\n      <th>RidgeClassifier</th>\n      <td>0.79</td>\n      <td>0.08</td>\n      <td>None</td>\n      <td>0.70</td>\n      <td>0.09</td>\n    </tr>\n    <tr>\n      <th>DummyClassifier</th>\n      <td>0.79</td>\n      <td>0.08</td>\n      <td>None</td>\n      <td>0.70</td>\n      <td>0.03</td>\n    </tr>\n    <tr>\n      <th>AdaBoostClassifier</th>\n      <td>0.47</td>\n      <td>0.08</td>\n      <td>None</td>\n      <td>0.54</td>\n      <td>1.97</td>\n    </tr>\n  </tbody>\n</table>\n</div>"
     },
     "execution_count": 22,
     "metadata": {},
     "output_type": "execute_result"
    }
   ],
   "source": [
    "SCORES_CLASS"
   ],
   "metadata": {
    "collapsed": false,
    "ExecuteTime": {
     "end_time": "2024-06-17T00:36:50.845913800Z",
     "start_time": "2024-06-17T00:36:50.719174800Z"
    }
   },
   "id": "6d315f7a29cfb721"
  },
  {
   "cell_type": "code",
   "execution_count": 23,
   "outputs": [
    {
     "data": {
      "text/plain": "            AdaBoostClassifier    BaggingClassifier          BernoulliNB  \\\n0          ExtraTreesRegressor  ExtraTreesRegressor  ExtraTreesRegressor   \n1        DecisionTreeRegressor  ExtraTreesRegressor  ExtraTreesRegressor   \n2          ExtraTreesRegressor  ExtraTreesRegressor  ExtraTreesRegressor   \n3          ExtraTreesRegressor  ExtraTreesRegressor  ExtraTreesRegressor   \n4          ExtraTreesRegressor  ExtraTreesRegressor  ExtraTreesRegressor   \n...                        ...                  ...                  ...   \n3379     DecisionTreeRegressor  ExtraTreesRegressor  ExtraTreesRegressor   \n3380  GaussianProcessRegressor  ExtraTreesRegressor  ExtraTreesRegressor   \n3381       ExtraTreesRegressor  ExtraTreesRegressor   ExtraTreeRegressor   \n3382       ExtraTreesRegressor  ExtraTreesRegressor  ExtraTreesRegressor   \n3383       ExtraTreesRegressor  ExtraTreesRegressor  ExtraTreesRegressor   \n\n     CalibratedClassifierCV DecisionTreeClassifier      DummyClassifier  \\\n0       ExtraTreesRegressor    ExtraTreesRegressor  ExtraTreesRegressor   \n1       ExtraTreesRegressor    ExtraTreesRegressor  ExtraTreesRegressor   \n2       ExtraTreesRegressor    ExtraTreesRegressor  ExtraTreesRegressor   \n3       ExtraTreesRegressor    ExtraTreesRegressor  ExtraTreesRegressor   \n4       ExtraTreesRegressor    ExtraTreesRegressor  ExtraTreesRegressor   \n...                     ...                    ...                  ...   \n3379    ExtraTreesRegressor    ExtraTreesRegressor  ExtraTreesRegressor   \n3380    ExtraTreesRegressor    ExtraTreesRegressor  ExtraTreesRegressor   \n3381    ExtraTreesRegressor    ExtraTreesRegressor  ExtraTreesRegressor   \n3382    ExtraTreesRegressor    ExtraTreesRegressor  ExtraTreesRegressor   \n3383    ExtraTreesRegressor    ExtraTreesRegressor  ExtraTreesRegressor   \n\n      ExtraTreeClassifier ExtraTreesClassifier           GaussianNB  \\\n0     ExtraTreesRegressor  ExtraTreesRegressor  ExtraTreesRegressor   \n1     ExtraTreesRegressor  ExtraTreesRegressor  ExtraTreesRegressor   \n2     ExtraTreesRegressor  ExtraTreesRegressor  ExtraTreesRegressor   \n3     ExtraTreesRegressor  ExtraTreesRegressor  ExtraTreesRegressor   \n4     ExtraTreesRegressor  ExtraTreesRegressor        LGBMRegressor   \n...                   ...                  ...                  ...   \n3379  ExtraTreesRegressor  ExtraTreesRegressor   ExtraTreeRegressor   \n3380  ExtraTreesRegressor  ExtraTreesRegressor         XGBRegressor   \n3381  ExtraTreesRegressor  ExtraTreesRegressor   ExtraTreeRegressor   \n3382  ExtraTreesRegressor  ExtraTreesRegressor  ExtraTreesRegressor   \n3383  ExtraTreesRegressor  ExtraTreesRegressor  ExtraTreesRegressor   \n\n     KNeighborsClassifier  ... PassiveAggressiveClassifier  \\\n0     ExtraTreesRegressor  ...         ExtraTreesRegressor   \n1     ExtraTreesRegressor  ...         ExtraTreesRegressor   \n2     ExtraTreesRegressor  ...         ExtraTreesRegressor   \n3     ExtraTreesRegressor  ...          ExtraTreeRegressor   \n4     ExtraTreesRegressor  ...         ExtraTreesRegressor   \n...                   ...  ...                         ...   \n3379  ExtraTreesRegressor  ...         ExtraTreesRegressor   \n3380  ExtraTreesRegressor  ...         ExtraTreesRegressor   \n3381  ExtraTreesRegressor  ...         ExtraTreesRegressor   \n3382  ExtraTreesRegressor  ...         ExtraTreesRegressor   \n3383  ExtraTreesRegressor  ...         ExtraTreesRegressor   \n\n               Perceptron QuadraticDiscriminantAnalysis  \\\n0     ExtraTreesRegressor           ExtraTreesRegressor   \n1     ExtraTreesRegressor           ExtraTreesRegressor   \n2     ExtraTreesRegressor           ExtraTreesRegressor   \n3     ExtraTreesRegressor            ExtraTreeRegressor   \n4     ExtraTreesRegressor                 LGBMRegressor   \n...                   ...                           ...   \n3379  ExtraTreesRegressor           ExtraTreesRegressor   \n3380  ExtraTreesRegressor                  XGBRegressor   \n3381  ExtraTreesRegressor            ExtraTreeRegressor   \n3382  ExtraTreesRegressor           ExtraTreesRegressor   \n3383  ExtraTreesRegressor            ExtraTreeRegressor   \n\n     RandomForestClassifier      RidgeClassifier    RidgeClassifierCV  \\\n0       ExtraTreesRegressor  ExtraTreesRegressor  ExtraTreesRegressor   \n1       ExtraTreesRegressor  ExtraTreesRegressor  ExtraTreesRegressor   \n2       ExtraTreesRegressor  ExtraTreesRegressor  ExtraTreesRegressor   \n3       ExtraTreesRegressor  ExtraTreesRegressor  ExtraTreesRegressor   \n4       ExtraTreesRegressor  ExtraTreesRegressor  ExtraTreesRegressor   \n...                     ...                  ...                  ...   \n3379    ExtraTreesRegressor  ExtraTreesRegressor  ExtraTreesRegressor   \n3380    ExtraTreesRegressor  ExtraTreesRegressor  ExtraTreesRegressor   \n3381    ExtraTreesRegressor  ExtraTreesRegressor  ExtraTreesRegressor   \n3382    ExtraTreesRegressor  ExtraTreesRegressor  ExtraTreesRegressor   \n3383    ExtraTreesRegressor  ExtraTreesRegressor  ExtraTreesRegressor   \n\n            SGDClassifier                  SVC       LGBMClassifier  \\\n0     ExtraTreesRegressor  ExtraTreesRegressor  ExtraTreesRegressor   \n1     ExtraTreesRegressor  ExtraTreesRegressor  ExtraTreesRegressor   \n2     ExtraTreesRegressor  ExtraTreesRegressor  ExtraTreesRegressor   \n3     ExtraTreesRegressor  ExtraTreesRegressor  ExtraTreesRegressor   \n4     ExtraTreesRegressor  ExtraTreesRegressor  ExtraTreesRegressor   \n...                   ...                  ...                  ...   \n3379  ExtraTreesRegressor  ExtraTreesRegressor  ExtraTreesRegressor   \n3380  ExtraTreesRegressor  ExtraTreesRegressor  ExtraTreesRegressor   \n3381  ExtraTreesRegressor  ExtraTreesRegressor  ExtraTreesRegressor   \n3382  ExtraTreesRegressor  ExtraTreesRegressor  ExtraTreesRegressor   \n3383  ExtraTreesRegressor  ExtraTreesRegressor     BaggingRegressor   \n\n                 TRUE MODEL  \n0       ExtraTreesRegressor  \n1       ExtraTreesRegressor  \n2       ExtraTreesRegressor  \n3     RandomForestRegressor  \n4        ExtraTreeRegressor  \n...                     ...  \n3379    ExtraTreesRegressor  \n3380    ExtraTreesRegressor  \n3381    ExtraTreesRegressor  \n3382    ExtraTreesRegressor  \n3383     ExtraTreeRegressor  \n\n[3384 rows x 26 columns]",
      "text/html": "<div>\n<style scoped>\n    .dataframe tbody tr th:only-of-type {\n        vertical-align: middle;\n    }\n\n    .dataframe tbody tr th {\n        vertical-align: top;\n    }\n\n    .dataframe thead th {\n        text-align: right;\n    }\n</style>\n<table border=\"1\" class=\"dataframe\">\n  <thead>\n    <tr style=\"text-align: right;\">\n      <th></th>\n      <th>AdaBoostClassifier</th>\n      <th>BaggingClassifier</th>\n      <th>BernoulliNB</th>\n      <th>CalibratedClassifierCV</th>\n      <th>DecisionTreeClassifier</th>\n      <th>DummyClassifier</th>\n      <th>ExtraTreeClassifier</th>\n      <th>ExtraTreesClassifier</th>\n      <th>GaussianNB</th>\n      <th>KNeighborsClassifier</th>\n      <th>...</th>\n      <th>PassiveAggressiveClassifier</th>\n      <th>Perceptron</th>\n      <th>QuadraticDiscriminantAnalysis</th>\n      <th>RandomForestClassifier</th>\n      <th>RidgeClassifier</th>\n      <th>RidgeClassifierCV</th>\n      <th>SGDClassifier</th>\n      <th>SVC</th>\n      <th>LGBMClassifier</th>\n      <th>TRUE MODEL</th>\n    </tr>\n  </thead>\n  <tbody>\n    <tr>\n      <th>0</th>\n      <td>ExtraTreesRegressor</td>\n      <td>ExtraTreesRegressor</td>\n      <td>ExtraTreesRegressor</td>\n      <td>ExtraTreesRegressor</td>\n      <td>ExtraTreesRegressor</td>\n      <td>ExtraTreesRegressor</td>\n      <td>ExtraTreesRegressor</td>\n      <td>ExtraTreesRegressor</td>\n      <td>ExtraTreesRegressor</td>\n      <td>ExtraTreesRegressor</td>\n      <td>...</td>\n      <td>ExtraTreesRegressor</td>\n      <td>ExtraTreesRegressor</td>\n      <td>ExtraTreesRegressor</td>\n      <td>ExtraTreesRegressor</td>\n      <td>ExtraTreesRegressor</td>\n      <td>ExtraTreesRegressor</td>\n      <td>ExtraTreesRegressor</td>\n      <td>ExtraTreesRegressor</td>\n      <td>ExtraTreesRegressor</td>\n      <td>ExtraTreesRegressor</td>\n    </tr>\n    <tr>\n      <th>1</th>\n      <td>DecisionTreeRegressor</td>\n      <td>ExtraTreesRegressor</td>\n      <td>ExtraTreesRegressor</td>\n      <td>ExtraTreesRegressor</td>\n      <td>ExtraTreesRegressor</td>\n      <td>ExtraTreesRegressor</td>\n      <td>ExtraTreesRegressor</td>\n      <td>ExtraTreesRegressor</td>\n      <td>ExtraTreesRegressor</td>\n      <td>ExtraTreesRegressor</td>\n      <td>...</td>\n      <td>ExtraTreesRegressor</td>\n      <td>ExtraTreesRegressor</td>\n      <td>ExtraTreesRegressor</td>\n      <td>ExtraTreesRegressor</td>\n      <td>ExtraTreesRegressor</td>\n      <td>ExtraTreesRegressor</td>\n      <td>ExtraTreesRegressor</td>\n      <td>ExtraTreesRegressor</td>\n      <td>ExtraTreesRegressor</td>\n      <td>ExtraTreesRegressor</td>\n    </tr>\n    <tr>\n      <th>2</th>\n      <td>ExtraTreesRegressor</td>\n      <td>ExtraTreesRegressor</td>\n      <td>ExtraTreesRegressor</td>\n      <td>ExtraTreesRegressor</td>\n      <td>ExtraTreesRegressor</td>\n      <td>ExtraTreesRegressor</td>\n      <td>ExtraTreesRegressor</td>\n      <td>ExtraTreesRegressor</td>\n      <td>ExtraTreesRegressor</td>\n      <td>ExtraTreesRegressor</td>\n      <td>...</td>\n      <td>ExtraTreesRegressor</td>\n      <td>ExtraTreesRegressor</td>\n      <td>ExtraTreesRegressor</td>\n      <td>ExtraTreesRegressor</td>\n      <td>ExtraTreesRegressor</td>\n      <td>ExtraTreesRegressor</td>\n      <td>ExtraTreesRegressor</td>\n      <td>ExtraTreesRegressor</td>\n      <td>ExtraTreesRegressor</td>\n      <td>ExtraTreesRegressor</td>\n    </tr>\n    <tr>\n      <th>3</th>\n      <td>ExtraTreesRegressor</td>\n      <td>ExtraTreesRegressor</td>\n      <td>ExtraTreesRegressor</td>\n      <td>ExtraTreesRegressor</td>\n      <td>ExtraTreesRegressor</td>\n      <td>ExtraTreesRegressor</td>\n      <td>ExtraTreesRegressor</td>\n      <td>ExtraTreesRegressor</td>\n      <td>ExtraTreesRegressor</td>\n      <td>ExtraTreesRegressor</td>\n      <td>...</td>\n      <td>ExtraTreeRegressor</td>\n      <td>ExtraTreesRegressor</td>\n      <td>ExtraTreeRegressor</td>\n      <td>ExtraTreesRegressor</td>\n      <td>ExtraTreesRegressor</td>\n      <td>ExtraTreesRegressor</td>\n      <td>ExtraTreesRegressor</td>\n      <td>ExtraTreesRegressor</td>\n      <td>ExtraTreesRegressor</td>\n      <td>RandomForestRegressor</td>\n    </tr>\n    <tr>\n      <th>4</th>\n      <td>ExtraTreesRegressor</td>\n      <td>ExtraTreesRegressor</td>\n      <td>ExtraTreesRegressor</td>\n      <td>ExtraTreesRegressor</td>\n      <td>ExtraTreesRegressor</td>\n      <td>ExtraTreesRegressor</td>\n      <td>ExtraTreesRegressor</td>\n      <td>ExtraTreesRegressor</td>\n      <td>LGBMRegressor</td>\n      <td>ExtraTreesRegressor</td>\n      <td>...</td>\n      <td>ExtraTreesRegressor</td>\n      <td>ExtraTreesRegressor</td>\n      <td>LGBMRegressor</td>\n      <td>ExtraTreesRegressor</td>\n      <td>ExtraTreesRegressor</td>\n      <td>ExtraTreesRegressor</td>\n      <td>ExtraTreesRegressor</td>\n      <td>ExtraTreesRegressor</td>\n      <td>ExtraTreesRegressor</td>\n      <td>ExtraTreeRegressor</td>\n    </tr>\n    <tr>\n      <th>...</th>\n      <td>...</td>\n      <td>...</td>\n      <td>...</td>\n      <td>...</td>\n      <td>...</td>\n      <td>...</td>\n      <td>...</td>\n      <td>...</td>\n      <td>...</td>\n      <td>...</td>\n      <td>...</td>\n      <td>...</td>\n      <td>...</td>\n      <td>...</td>\n      <td>...</td>\n      <td>...</td>\n      <td>...</td>\n      <td>...</td>\n      <td>...</td>\n      <td>...</td>\n      <td>...</td>\n    </tr>\n    <tr>\n      <th>3379</th>\n      <td>DecisionTreeRegressor</td>\n      <td>ExtraTreesRegressor</td>\n      <td>ExtraTreesRegressor</td>\n      <td>ExtraTreesRegressor</td>\n      <td>ExtraTreesRegressor</td>\n      <td>ExtraTreesRegressor</td>\n      <td>ExtraTreesRegressor</td>\n      <td>ExtraTreesRegressor</td>\n      <td>ExtraTreeRegressor</td>\n      <td>ExtraTreesRegressor</td>\n      <td>...</td>\n      <td>ExtraTreesRegressor</td>\n      <td>ExtraTreesRegressor</td>\n      <td>ExtraTreesRegressor</td>\n      <td>ExtraTreesRegressor</td>\n      <td>ExtraTreesRegressor</td>\n      <td>ExtraTreesRegressor</td>\n      <td>ExtraTreesRegressor</td>\n      <td>ExtraTreesRegressor</td>\n      <td>ExtraTreesRegressor</td>\n      <td>ExtraTreesRegressor</td>\n    </tr>\n    <tr>\n      <th>3380</th>\n      <td>GaussianProcessRegressor</td>\n      <td>ExtraTreesRegressor</td>\n      <td>ExtraTreesRegressor</td>\n      <td>ExtraTreesRegressor</td>\n      <td>ExtraTreesRegressor</td>\n      <td>ExtraTreesRegressor</td>\n      <td>ExtraTreesRegressor</td>\n      <td>ExtraTreesRegressor</td>\n      <td>XGBRegressor</td>\n      <td>ExtraTreesRegressor</td>\n      <td>...</td>\n      <td>ExtraTreesRegressor</td>\n      <td>ExtraTreesRegressor</td>\n      <td>XGBRegressor</td>\n      <td>ExtraTreesRegressor</td>\n      <td>ExtraTreesRegressor</td>\n      <td>ExtraTreesRegressor</td>\n      <td>ExtraTreesRegressor</td>\n      <td>ExtraTreesRegressor</td>\n      <td>ExtraTreesRegressor</td>\n      <td>ExtraTreesRegressor</td>\n    </tr>\n    <tr>\n      <th>3381</th>\n      <td>ExtraTreesRegressor</td>\n      <td>ExtraTreesRegressor</td>\n      <td>ExtraTreeRegressor</td>\n      <td>ExtraTreesRegressor</td>\n      <td>ExtraTreesRegressor</td>\n      <td>ExtraTreesRegressor</td>\n      <td>ExtraTreesRegressor</td>\n      <td>ExtraTreesRegressor</td>\n      <td>ExtraTreeRegressor</td>\n      <td>ExtraTreesRegressor</td>\n      <td>...</td>\n      <td>ExtraTreesRegressor</td>\n      <td>ExtraTreesRegressor</td>\n      <td>ExtraTreeRegressor</td>\n      <td>ExtraTreesRegressor</td>\n      <td>ExtraTreesRegressor</td>\n      <td>ExtraTreesRegressor</td>\n      <td>ExtraTreesRegressor</td>\n      <td>ExtraTreesRegressor</td>\n      <td>ExtraTreesRegressor</td>\n      <td>ExtraTreesRegressor</td>\n    </tr>\n    <tr>\n      <th>3382</th>\n      <td>ExtraTreesRegressor</td>\n      <td>ExtraTreesRegressor</td>\n      <td>ExtraTreesRegressor</td>\n      <td>ExtraTreesRegressor</td>\n      <td>ExtraTreesRegressor</td>\n      <td>ExtraTreesRegressor</td>\n      <td>ExtraTreesRegressor</td>\n      <td>ExtraTreesRegressor</td>\n      <td>ExtraTreesRegressor</td>\n      <td>ExtraTreesRegressor</td>\n      <td>...</td>\n      <td>ExtraTreesRegressor</td>\n      <td>ExtraTreesRegressor</td>\n      <td>ExtraTreesRegressor</td>\n      <td>ExtraTreesRegressor</td>\n      <td>ExtraTreesRegressor</td>\n      <td>ExtraTreesRegressor</td>\n      <td>ExtraTreesRegressor</td>\n      <td>ExtraTreesRegressor</td>\n      <td>ExtraTreesRegressor</td>\n      <td>ExtraTreesRegressor</td>\n    </tr>\n    <tr>\n      <th>3383</th>\n      <td>ExtraTreesRegressor</td>\n      <td>ExtraTreesRegressor</td>\n      <td>ExtraTreesRegressor</td>\n      <td>ExtraTreesRegressor</td>\n      <td>ExtraTreesRegressor</td>\n      <td>ExtraTreesRegressor</td>\n      <td>ExtraTreesRegressor</td>\n      <td>ExtraTreesRegressor</td>\n      <td>ExtraTreesRegressor</td>\n      <td>ExtraTreesRegressor</td>\n      <td>...</td>\n      <td>ExtraTreesRegressor</td>\n      <td>ExtraTreesRegressor</td>\n      <td>ExtraTreeRegressor</td>\n      <td>ExtraTreesRegressor</td>\n      <td>ExtraTreesRegressor</td>\n      <td>ExtraTreesRegressor</td>\n      <td>ExtraTreesRegressor</td>\n      <td>ExtraTreesRegressor</td>\n      <td>BaggingRegressor</td>\n      <td>ExtraTreeRegressor</td>\n    </tr>\n  </tbody>\n</table>\n<p>3384 rows × 26 columns</p>\n</div>"
     },
     "execution_count": 23,
     "metadata": {},
     "output_type": "execute_result"
    }
   ],
   "source": [
    "PREDICTIONS_CLASS['TRUE MODEL'] = Y_CLASS_TEST\n",
    "PREDICTIONS_CLASS"
   ],
   "metadata": {
    "collapsed": false,
    "ExecuteTime": {
     "end_time": "2024-06-17T00:36:50.848918900Z",
     "start_time": "2024-06-17T00:36:50.740266100Z"
    }
   },
   "id": "963730b367fd7e0d"
  },
  {
   "cell_type": "markdown",
   "source": [
    "# SELECT THE BEST CLASSIFICATION MODEL"
   ],
   "metadata": {
    "collapsed": false
   },
   "id": "635b8029ff89ca5"
  },
  {
   "cell_type": "code",
   "execution_count": 24,
   "outputs": [
    {
     "data": {
      "text/plain": "Pipeline(steps=[('preprocessor',\n                 ColumnTransformer(transformers=[('numeric',\n                                                  Pipeline(steps=[('imputer',\n                                                                   SimpleImputer()),\n                                                                  ('scaler',\n                                                                   StandardScaler())]),\n                                                  Index(['Step_Size', 'Side_Length', 'Total_Length', 'Corner', 'Width', 'Height',\n       'Fillet_Radius'],\n      dtype='object')),\n                                                 ('categorical_low',\n                                                  Pipeline(steps=[('imputer',\n                                                                   SimpleImputer(fill_value='missing',\n                                                                                 strategy='constant')),\n                                                                  ('encoding',\n                                                                   OneHotEncoder(handle_unknown='ignore',\n                                                                                 sparse_output=False))]),\n                                                  Index([], dtype='object')),\n                                                 ('categorical_high',\n                                                  Pipeline(steps=[('imputer',\n                                                                   SimpleImputer(fill_value='missing',\n                                                                                 strategy='constant')),\n                                                                  ('encoding',\n                                                                   OrdinalEncoder())]),\n                                                  Index([], dtype='object'))])),\n                ('classifier', ExtraTreesClassifier(random_state=42))])",
      "text/html": "<style>#sk-container-id-1 {\n  /* Definition of color scheme common for light and dark mode */\n  --sklearn-color-text: black;\n  --sklearn-color-line: gray;\n  /* Definition of color scheme for unfitted estimators */\n  --sklearn-color-unfitted-level-0: #fff5e6;\n  --sklearn-color-unfitted-level-1: #f6e4d2;\n  --sklearn-color-unfitted-level-2: #ffe0b3;\n  --sklearn-color-unfitted-level-3: chocolate;\n  /* Definition of color scheme for fitted estimators */\n  --sklearn-color-fitted-level-0: #f0f8ff;\n  --sklearn-color-fitted-level-1: #d4ebff;\n  --sklearn-color-fitted-level-2: #b3dbfd;\n  --sklearn-color-fitted-level-3: cornflowerblue;\n\n  /* Specific color for light theme */\n  --sklearn-color-text-on-default-background: var(--sg-text-color, var(--theme-code-foreground, var(--jp-content-font-color1, black)));\n  --sklearn-color-background: var(--sg-background-color, var(--theme-background, var(--jp-layout-color0, white)));\n  --sklearn-color-border-box: var(--sg-text-color, var(--theme-code-foreground, var(--jp-content-font-color1, black)));\n  --sklearn-color-icon: #696969;\n\n  @media (prefers-color-scheme: dark) {\n    /* Redefinition of color scheme for dark theme */\n    --sklearn-color-text-on-default-background: var(--sg-text-color, var(--theme-code-foreground, var(--jp-content-font-color1, white)));\n    --sklearn-color-background: var(--sg-background-color, var(--theme-background, var(--jp-layout-color0, #111)));\n    --sklearn-color-border-box: var(--sg-text-color, var(--theme-code-foreground, var(--jp-content-font-color1, white)));\n    --sklearn-color-icon: #878787;\n  }\n}\n\n#sk-container-id-1 {\n  color: var(--sklearn-color-text);\n}\n\n#sk-container-id-1 pre {\n  padding: 0;\n}\n\n#sk-container-id-1 input.sk-hidden--visually {\n  border: 0;\n  clip: rect(1px 1px 1px 1px);\n  clip: rect(1px, 1px, 1px, 1px);\n  height: 1px;\n  margin: -1px;\n  overflow: hidden;\n  padding: 0;\n  position: absolute;\n  width: 1px;\n}\n\n#sk-container-id-1 div.sk-dashed-wrapped {\n  border: 1px dashed var(--sklearn-color-line);\n  margin: 0 0.4em 0.5em 0.4em;\n  box-sizing: border-box;\n  padding-bottom: 0.4em;\n  background-color: var(--sklearn-color-background);\n}\n\n#sk-container-id-1 div.sk-container {\n  /* jupyter's `normalize.less` sets `[hidden] { display: none; }`\n     but bootstrap.min.css set `[hidden] { display: none !important; }`\n     so we also need the `!important` here to be able to override the\n     default hidden behavior on the sphinx rendered scikit-learn.org.\n     See: https://github.com/scikit-learn/scikit-learn/issues/21755 */\n  display: inline-block !important;\n  position: relative;\n}\n\n#sk-container-id-1 div.sk-text-repr-fallback {\n  display: none;\n}\n\ndiv.sk-parallel-item,\ndiv.sk-serial,\ndiv.sk-item {\n  /* draw centered vertical line to link estimators */\n  background-image: linear-gradient(var(--sklearn-color-text-on-default-background), var(--sklearn-color-text-on-default-background));\n  background-size: 2px 100%;\n  background-repeat: no-repeat;\n  background-position: center center;\n}\n\n/* Parallel-specific style estimator block */\n\n#sk-container-id-1 div.sk-parallel-item::after {\n  content: \"\";\n  width: 100%;\n  border-bottom: 2px solid var(--sklearn-color-text-on-default-background);\n  flex-grow: 1;\n}\n\n#sk-container-id-1 div.sk-parallel {\n  display: flex;\n  align-items: stretch;\n  justify-content: center;\n  background-color: var(--sklearn-color-background);\n  position: relative;\n}\n\n#sk-container-id-1 div.sk-parallel-item {\n  display: flex;\n  flex-direction: column;\n}\n\n#sk-container-id-1 div.sk-parallel-item:first-child::after {\n  align-self: flex-end;\n  width: 50%;\n}\n\n#sk-container-id-1 div.sk-parallel-item:last-child::after {\n  align-self: flex-start;\n  width: 50%;\n}\n\n#sk-container-id-1 div.sk-parallel-item:only-child::after {\n  width: 0;\n}\n\n/* Serial-specific style estimator block */\n\n#sk-container-id-1 div.sk-serial {\n  display: flex;\n  flex-direction: column;\n  align-items: center;\n  background-color: var(--sklearn-color-background);\n  padding-right: 1em;\n  padding-left: 1em;\n}\n\n\n/* Toggleable style: style used for estimator/Pipeline/ColumnTransformer box that is\nclickable and can be expanded/collapsed.\n- Pipeline and ColumnTransformer use this feature and define the default style\n- Estimators will overwrite some part of the style using the `sk-estimator` class\n*/\n\n/* Pipeline and ColumnTransformer style (default) */\n\n#sk-container-id-1 div.sk-toggleable {\n  /* Default theme specific background. It is overwritten whether we have a\n  specific estimator or a Pipeline/ColumnTransformer */\n  background-color: var(--sklearn-color-background);\n}\n\n/* Toggleable label */\n#sk-container-id-1 label.sk-toggleable__label {\n  cursor: pointer;\n  display: block;\n  width: 100%;\n  margin-bottom: 0;\n  padding: 0.5em;\n  box-sizing: border-box;\n  text-align: center;\n}\n\n#sk-container-id-1 label.sk-toggleable__label-arrow:before {\n  /* Arrow on the left of the label */\n  content: \"▸\";\n  float: left;\n  margin-right: 0.25em;\n  color: var(--sklearn-color-icon);\n}\n\n#sk-container-id-1 label.sk-toggleable__label-arrow:hover:before {\n  color: var(--sklearn-color-text);\n}\n\n/* Toggleable content - dropdown */\n\n#sk-container-id-1 div.sk-toggleable__content {\n  max-height: 0;\n  max-width: 0;\n  overflow: hidden;\n  text-align: left;\n  /* unfitted */\n  background-color: var(--sklearn-color-unfitted-level-0);\n}\n\n#sk-container-id-1 div.sk-toggleable__content.fitted {\n  /* fitted */\n  background-color: var(--sklearn-color-fitted-level-0);\n}\n\n#sk-container-id-1 div.sk-toggleable__content pre {\n  margin: 0.2em;\n  border-radius: 0.25em;\n  color: var(--sklearn-color-text);\n  /* unfitted */\n  background-color: var(--sklearn-color-unfitted-level-0);\n}\n\n#sk-container-id-1 div.sk-toggleable__content.fitted pre {\n  /* unfitted */\n  background-color: var(--sklearn-color-fitted-level-0);\n}\n\n#sk-container-id-1 input.sk-toggleable__control:checked~div.sk-toggleable__content {\n  /* Expand drop-down */\n  max-height: 200px;\n  max-width: 100%;\n  overflow: auto;\n}\n\n#sk-container-id-1 input.sk-toggleable__control:checked~label.sk-toggleable__label-arrow:before {\n  content: \"▾\";\n}\n\n/* Pipeline/ColumnTransformer-specific style */\n\n#sk-container-id-1 div.sk-label input.sk-toggleable__control:checked~label.sk-toggleable__label {\n  color: var(--sklearn-color-text);\n  background-color: var(--sklearn-color-unfitted-level-2);\n}\n\n#sk-container-id-1 div.sk-label.fitted input.sk-toggleable__control:checked~label.sk-toggleable__label {\n  background-color: var(--sklearn-color-fitted-level-2);\n}\n\n/* Estimator-specific style */\n\n/* Colorize estimator box */\n#sk-container-id-1 div.sk-estimator input.sk-toggleable__control:checked~label.sk-toggleable__label {\n  /* unfitted */\n  background-color: var(--sklearn-color-unfitted-level-2);\n}\n\n#sk-container-id-1 div.sk-estimator.fitted input.sk-toggleable__control:checked~label.sk-toggleable__label {\n  /* fitted */\n  background-color: var(--sklearn-color-fitted-level-2);\n}\n\n#sk-container-id-1 div.sk-label label.sk-toggleable__label,\n#sk-container-id-1 div.sk-label label {\n  /* The background is the default theme color */\n  color: var(--sklearn-color-text-on-default-background);\n}\n\n/* On hover, darken the color of the background */\n#sk-container-id-1 div.sk-label:hover label.sk-toggleable__label {\n  color: var(--sklearn-color-text);\n  background-color: var(--sklearn-color-unfitted-level-2);\n}\n\n/* Label box, darken color on hover, fitted */\n#sk-container-id-1 div.sk-label.fitted:hover label.sk-toggleable__label.fitted {\n  color: var(--sklearn-color-text);\n  background-color: var(--sklearn-color-fitted-level-2);\n}\n\n/* Estimator label */\n\n#sk-container-id-1 div.sk-label label {\n  font-family: monospace;\n  font-weight: bold;\n  display: inline-block;\n  line-height: 1.2em;\n}\n\n#sk-container-id-1 div.sk-label-container {\n  text-align: center;\n}\n\n/* Estimator-specific */\n#sk-container-id-1 div.sk-estimator {\n  font-family: monospace;\n  border: 1px dotted var(--sklearn-color-border-box);\n  border-radius: 0.25em;\n  box-sizing: border-box;\n  margin-bottom: 0.5em;\n  /* unfitted */\n  background-color: var(--sklearn-color-unfitted-level-0);\n}\n\n#sk-container-id-1 div.sk-estimator.fitted {\n  /* fitted */\n  background-color: var(--sklearn-color-fitted-level-0);\n}\n\n/* on hover */\n#sk-container-id-1 div.sk-estimator:hover {\n  /* unfitted */\n  background-color: var(--sklearn-color-unfitted-level-2);\n}\n\n#sk-container-id-1 div.sk-estimator.fitted:hover {\n  /* fitted */\n  background-color: var(--sklearn-color-fitted-level-2);\n}\n\n/* Specification for estimator info (e.g. \"i\" and \"?\") */\n\n/* Common style for \"i\" and \"?\" */\n\n.sk-estimator-doc-link,\na:link.sk-estimator-doc-link,\na:visited.sk-estimator-doc-link {\n  float: right;\n  font-size: smaller;\n  line-height: 1em;\n  font-family: monospace;\n  background-color: var(--sklearn-color-background);\n  border-radius: 1em;\n  height: 1em;\n  width: 1em;\n  text-decoration: none !important;\n  margin-left: 1ex;\n  /* unfitted */\n  border: var(--sklearn-color-unfitted-level-1) 1pt solid;\n  color: var(--sklearn-color-unfitted-level-1);\n}\n\n.sk-estimator-doc-link.fitted,\na:link.sk-estimator-doc-link.fitted,\na:visited.sk-estimator-doc-link.fitted {\n  /* fitted */\n  border: var(--sklearn-color-fitted-level-1) 1pt solid;\n  color: var(--sklearn-color-fitted-level-1);\n}\n\n/* On hover */\ndiv.sk-estimator:hover .sk-estimator-doc-link:hover,\n.sk-estimator-doc-link:hover,\ndiv.sk-label-container:hover .sk-estimator-doc-link:hover,\n.sk-estimator-doc-link:hover {\n  /* unfitted */\n  background-color: var(--sklearn-color-unfitted-level-3);\n  color: var(--sklearn-color-background);\n  text-decoration: none;\n}\n\ndiv.sk-estimator.fitted:hover .sk-estimator-doc-link.fitted:hover,\n.sk-estimator-doc-link.fitted:hover,\ndiv.sk-label-container:hover .sk-estimator-doc-link.fitted:hover,\n.sk-estimator-doc-link.fitted:hover {\n  /* fitted */\n  background-color: var(--sklearn-color-fitted-level-3);\n  color: var(--sklearn-color-background);\n  text-decoration: none;\n}\n\n/* Span, style for the box shown on hovering the info icon */\n.sk-estimator-doc-link span {\n  display: none;\n  z-index: 9999;\n  position: relative;\n  font-weight: normal;\n  right: .2ex;\n  padding: .5ex;\n  margin: .5ex;\n  width: min-content;\n  min-width: 20ex;\n  max-width: 50ex;\n  color: var(--sklearn-color-text);\n  box-shadow: 2pt 2pt 4pt #999;\n  /* unfitted */\n  background: var(--sklearn-color-unfitted-level-0);\n  border: .5pt solid var(--sklearn-color-unfitted-level-3);\n}\n\n.sk-estimator-doc-link.fitted span {\n  /* fitted */\n  background: var(--sklearn-color-fitted-level-0);\n  border: var(--sklearn-color-fitted-level-3);\n}\n\n.sk-estimator-doc-link:hover span {\n  display: block;\n}\n\n/* \"?\"-specific style due to the `<a>` HTML tag */\n\n#sk-container-id-1 a.estimator_doc_link {\n  float: right;\n  font-size: 1rem;\n  line-height: 1em;\n  font-family: monospace;\n  background-color: var(--sklearn-color-background);\n  border-radius: 1rem;\n  height: 1rem;\n  width: 1rem;\n  text-decoration: none;\n  /* unfitted */\n  color: var(--sklearn-color-unfitted-level-1);\n  border: var(--sklearn-color-unfitted-level-1) 1pt solid;\n}\n\n#sk-container-id-1 a.estimator_doc_link.fitted {\n  /* fitted */\n  border: var(--sklearn-color-fitted-level-1) 1pt solid;\n  color: var(--sklearn-color-fitted-level-1);\n}\n\n/* On hover */\n#sk-container-id-1 a.estimator_doc_link:hover {\n  /* unfitted */\n  background-color: var(--sklearn-color-unfitted-level-3);\n  color: var(--sklearn-color-background);\n  text-decoration: none;\n}\n\n#sk-container-id-1 a.estimator_doc_link.fitted:hover {\n  /* fitted */\n  background-color: var(--sklearn-color-fitted-level-3);\n}\n</style><div id=\"sk-container-id-1\" class=\"sk-top-container\"><div class=\"sk-text-repr-fallback\"><pre>Pipeline(steps=[(&#x27;preprocessor&#x27;,\n                 ColumnTransformer(transformers=[(&#x27;numeric&#x27;,\n                                                  Pipeline(steps=[(&#x27;imputer&#x27;,\n                                                                   SimpleImputer()),\n                                                                  (&#x27;scaler&#x27;,\n                                                                   StandardScaler())]),\n                                                  Index([&#x27;Step_Size&#x27;, &#x27;Side_Length&#x27;, &#x27;Total_Length&#x27;, &#x27;Corner&#x27;, &#x27;Width&#x27;, &#x27;Height&#x27;,\n       &#x27;Fillet_Radius&#x27;],\n      dtype=&#x27;object&#x27;)),\n                                                 (&#x27;categorical_low&#x27;,\n                                                  Pipeline(steps=[(&#x27;imputer&#x27;,\n                                                                   SimpleImputer(fill_value=&#x27;missing&#x27;,\n                                                                                 strategy=&#x27;constant&#x27;)),\n                                                                  (&#x27;encoding&#x27;,\n                                                                   OneHotEncoder(handle_unknown=&#x27;ignore&#x27;,\n                                                                                 sparse_output=False))]),\n                                                  Index([], dtype=&#x27;object&#x27;)),\n                                                 (&#x27;categorical_high&#x27;,\n                                                  Pipeline(steps=[(&#x27;imputer&#x27;,\n                                                                   SimpleImputer(fill_value=&#x27;missing&#x27;,\n                                                                                 strategy=&#x27;constant&#x27;)),\n                                                                  (&#x27;encoding&#x27;,\n                                                                   OrdinalEncoder())]),\n                                                  Index([], dtype=&#x27;object&#x27;))])),\n                (&#x27;classifier&#x27;, ExtraTreesClassifier(random_state=42))])</pre><b>In a Jupyter environment, please rerun this cell to show the HTML representation or trust the notebook. <br />On GitHub, the HTML representation is unable to render, please try loading this page with nbviewer.org.</b></div><div class=\"sk-container\" hidden><div class=\"sk-item sk-dashed-wrapped\"><div class=\"sk-label-container\"><div class=\"sk-label fitted sk-toggleable\"><input class=\"sk-toggleable__control sk-hidden--visually\" id=\"sk-estimator-id-1\" type=\"checkbox\" ><label for=\"sk-estimator-id-1\" class=\"sk-toggleable__label fitted sk-toggleable__label-arrow fitted\">&nbsp;&nbsp;Pipeline<a class=\"sk-estimator-doc-link fitted\" rel=\"noreferrer\" target=\"_blank\" href=\"https://scikit-learn.org/1.5/modules/generated/sklearn.pipeline.Pipeline.html\">?<span>Documentation for Pipeline</span></a><span class=\"sk-estimator-doc-link fitted\">i<span>Fitted</span></span></label><div class=\"sk-toggleable__content fitted\"><pre>Pipeline(steps=[(&#x27;preprocessor&#x27;,\n                 ColumnTransformer(transformers=[(&#x27;numeric&#x27;,\n                                                  Pipeline(steps=[(&#x27;imputer&#x27;,\n                                                                   SimpleImputer()),\n                                                                  (&#x27;scaler&#x27;,\n                                                                   StandardScaler())]),\n                                                  Index([&#x27;Step_Size&#x27;, &#x27;Side_Length&#x27;, &#x27;Total_Length&#x27;, &#x27;Corner&#x27;, &#x27;Width&#x27;, &#x27;Height&#x27;,\n       &#x27;Fillet_Radius&#x27;],\n      dtype=&#x27;object&#x27;)),\n                                                 (&#x27;categorical_low&#x27;,\n                                                  Pipeline(steps=[(&#x27;imputer&#x27;,\n                                                                   SimpleImputer(fill_value=&#x27;missing&#x27;,\n                                                                                 strategy=&#x27;constant&#x27;)),\n                                                                  (&#x27;encoding&#x27;,\n                                                                   OneHotEncoder(handle_unknown=&#x27;ignore&#x27;,\n                                                                                 sparse_output=False))]),\n                                                  Index([], dtype=&#x27;object&#x27;)),\n                                                 (&#x27;categorical_high&#x27;,\n                                                  Pipeline(steps=[(&#x27;imputer&#x27;,\n                                                                   SimpleImputer(fill_value=&#x27;missing&#x27;,\n                                                                                 strategy=&#x27;constant&#x27;)),\n                                                                  (&#x27;encoding&#x27;,\n                                                                   OrdinalEncoder())]),\n                                                  Index([], dtype=&#x27;object&#x27;))])),\n                (&#x27;classifier&#x27;, ExtraTreesClassifier(random_state=42))])</pre></div> </div></div><div class=\"sk-serial\"><div class=\"sk-item sk-dashed-wrapped\"><div class=\"sk-label-container\"><div class=\"sk-label fitted sk-toggleable\"><input class=\"sk-toggleable__control sk-hidden--visually\" id=\"sk-estimator-id-2\" type=\"checkbox\" ><label for=\"sk-estimator-id-2\" class=\"sk-toggleable__label fitted sk-toggleable__label-arrow fitted\">&nbsp;preprocessor: ColumnTransformer<a class=\"sk-estimator-doc-link fitted\" rel=\"noreferrer\" target=\"_blank\" href=\"https://scikit-learn.org/1.5/modules/generated/sklearn.compose.ColumnTransformer.html\">?<span>Documentation for preprocessor: ColumnTransformer</span></a></label><div class=\"sk-toggleable__content fitted\"><pre>ColumnTransformer(transformers=[(&#x27;numeric&#x27;,\n                                 Pipeline(steps=[(&#x27;imputer&#x27;, SimpleImputer()),\n                                                 (&#x27;scaler&#x27;, StandardScaler())]),\n                                 Index([&#x27;Step_Size&#x27;, &#x27;Side_Length&#x27;, &#x27;Total_Length&#x27;, &#x27;Corner&#x27;, &#x27;Width&#x27;, &#x27;Height&#x27;,\n       &#x27;Fillet_Radius&#x27;],\n      dtype=&#x27;object&#x27;)),\n                                (&#x27;categorical_low&#x27;,\n                                 Pipeline(steps=[(&#x27;imputer&#x27;,\n                                                  SimpleImputer(fill_value=&#x27;missing&#x27;,\n                                                                strategy=&#x27;constant&#x27;)),\n                                                 (&#x27;encoding&#x27;,\n                                                  OneHotEncoder(handle_unknown=&#x27;ignore&#x27;,\n                                                                sparse_output=False))]),\n                                 Index([], dtype=&#x27;object&#x27;)),\n                                (&#x27;categorical_high&#x27;,\n                                 Pipeline(steps=[(&#x27;imputer&#x27;,\n                                                  SimpleImputer(fill_value=&#x27;missing&#x27;,\n                                                                strategy=&#x27;constant&#x27;)),\n                                                 (&#x27;encoding&#x27;,\n                                                  OrdinalEncoder())]),\n                                 Index([], dtype=&#x27;object&#x27;))])</pre></div> </div></div><div class=\"sk-parallel\"><div class=\"sk-parallel-item\"><div class=\"sk-item\"><div class=\"sk-label-container\"><div class=\"sk-label fitted sk-toggleable\"><input class=\"sk-toggleable__control sk-hidden--visually\" id=\"sk-estimator-id-3\" type=\"checkbox\" ><label for=\"sk-estimator-id-3\" class=\"sk-toggleable__label fitted sk-toggleable__label-arrow fitted\">numeric</label><div class=\"sk-toggleable__content fitted\"><pre>Index([&#x27;Step_Size&#x27;, &#x27;Side_Length&#x27;, &#x27;Total_Length&#x27;, &#x27;Corner&#x27;, &#x27;Width&#x27;, &#x27;Height&#x27;,\n       &#x27;Fillet_Radius&#x27;],\n      dtype=&#x27;object&#x27;)</pre></div> </div></div><div class=\"sk-serial\"><div class=\"sk-item\"><div class=\"sk-serial\"><div class=\"sk-item\"><div class=\"sk-estimator fitted sk-toggleable\"><input class=\"sk-toggleable__control sk-hidden--visually\" id=\"sk-estimator-id-4\" type=\"checkbox\" ><label for=\"sk-estimator-id-4\" class=\"sk-toggleable__label fitted sk-toggleable__label-arrow fitted\">&nbsp;SimpleImputer<a class=\"sk-estimator-doc-link fitted\" rel=\"noreferrer\" target=\"_blank\" href=\"https://scikit-learn.org/1.5/modules/generated/sklearn.impute.SimpleImputer.html\">?<span>Documentation for SimpleImputer</span></a></label><div class=\"sk-toggleable__content fitted\"><pre>SimpleImputer()</pre></div> </div></div><div class=\"sk-item\"><div class=\"sk-estimator fitted sk-toggleable\"><input class=\"sk-toggleable__control sk-hidden--visually\" id=\"sk-estimator-id-5\" type=\"checkbox\" ><label for=\"sk-estimator-id-5\" class=\"sk-toggleable__label fitted sk-toggleable__label-arrow fitted\">&nbsp;StandardScaler<a class=\"sk-estimator-doc-link fitted\" rel=\"noreferrer\" target=\"_blank\" href=\"https://scikit-learn.org/1.5/modules/generated/sklearn.preprocessing.StandardScaler.html\">?<span>Documentation for StandardScaler</span></a></label><div class=\"sk-toggleable__content fitted\"><pre>StandardScaler()</pre></div> </div></div></div></div></div></div></div><div class=\"sk-parallel-item\"><div class=\"sk-item\"><div class=\"sk-label-container\"><div class=\"sk-label fitted sk-toggleable\"><input class=\"sk-toggleable__control sk-hidden--visually\" id=\"sk-estimator-id-6\" type=\"checkbox\" ><label for=\"sk-estimator-id-6\" class=\"sk-toggleable__label fitted sk-toggleable__label-arrow fitted\">categorical_low</label><div class=\"sk-toggleable__content fitted\"><pre>Index([], dtype=&#x27;object&#x27;)</pre></div> </div></div><div class=\"sk-serial\"><div class=\"sk-item\"><div class=\"sk-serial\"><div class=\"sk-item\"><div class=\"sk-estimator fitted sk-toggleable\"><input class=\"sk-toggleable__control sk-hidden--visually\" id=\"sk-estimator-id-7\" type=\"checkbox\" ><label for=\"sk-estimator-id-7\" class=\"sk-toggleable__label fitted sk-toggleable__label-arrow fitted\">&nbsp;SimpleImputer<a class=\"sk-estimator-doc-link fitted\" rel=\"noreferrer\" target=\"_blank\" href=\"https://scikit-learn.org/1.5/modules/generated/sklearn.impute.SimpleImputer.html\">?<span>Documentation for SimpleImputer</span></a></label><div class=\"sk-toggleable__content fitted\"><pre>SimpleImputer(fill_value=&#x27;missing&#x27;, strategy=&#x27;constant&#x27;)</pre></div> </div></div><div class=\"sk-item\"><div class=\"sk-estimator fitted sk-toggleable\"><input class=\"sk-toggleable__control sk-hidden--visually\" id=\"sk-estimator-id-8\" type=\"checkbox\" ><label for=\"sk-estimator-id-8\" class=\"sk-toggleable__label fitted sk-toggleable__label-arrow fitted\">&nbsp;OneHotEncoder<a class=\"sk-estimator-doc-link fitted\" rel=\"noreferrer\" target=\"_blank\" href=\"https://scikit-learn.org/1.5/modules/generated/sklearn.preprocessing.OneHotEncoder.html\">?<span>Documentation for OneHotEncoder</span></a></label><div class=\"sk-toggleable__content fitted\"><pre>OneHotEncoder(handle_unknown=&#x27;ignore&#x27;, sparse_output=False)</pre></div> </div></div></div></div></div></div></div><div class=\"sk-parallel-item\"><div class=\"sk-item\"><div class=\"sk-label-container\"><div class=\"sk-label fitted sk-toggleable\"><input class=\"sk-toggleable__control sk-hidden--visually\" id=\"sk-estimator-id-9\" type=\"checkbox\" ><label for=\"sk-estimator-id-9\" class=\"sk-toggleable__label fitted sk-toggleable__label-arrow fitted\">categorical_high</label><div class=\"sk-toggleable__content fitted\"><pre>Index([], dtype=&#x27;object&#x27;)</pre></div> </div></div><div class=\"sk-serial\"><div class=\"sk-item\"><div class=\"sk-serial\"><div class=\"sk-item\"><div class=\"sk-estimator fitted sk-toggleable\"><input class=\"sk-toggleable__control sk-hidden--visually\" id=\"sk-estimator-id-10\" type=\"checkbox\" ><label for=\"sk-estimator-id-10\" class=\"sk-toggleable__label fitted sk-toggleable__label-arrow fitted\">&nbsp;SimpleImputer<a class=\"sk-estimator-doc-link fitted\" rel=\"noreferrer\" target=\"_blank\" href=\"https://scikit-learn.org/1.5/modules/generated/sklearn.impute.SimpleImputer.html\">?<span>Documentation for SimpleImputer</span></a></label><div class=\"sk-toggleable__content fitted\"><pre>SimpleImputer(fill_value=&#x27;missing&#x27;, strategy=&#x27;constant&#x27;)</pre></div> </div></div><div class=\"sk-item\"><div class=\"sk-estimator fitted sk-toggleable\"><input class=\"sk-toggleable__control sk-hidden--visually\" id=\"sk-estimator-id-11\" type=\"checkbox\" ><label for=\"sk-estimator-id-11\" class=\"sk-toggleable__label fitted sk-toggleable__label-arrow fitted\">&nbsp;OrdinalEncoder<a class=\"sk-estimator-doc-link fitted\" rel=\"noreferrer\" target=\"_blank\" href=\"https://scikit-learn.org/1.5/modules/generated/sklearn.preprocessing.OrdinalEncoder.html\">?<span>Documentation for OrdinalEncoder</span></a></label><div class=\"sk-toggleable__content fitted\"><pre>OrdinalEncoder()</pre></div> </div></div></div></div></div></div></div></div></div><div class=\"sk-item\"><div class=\"sk-estimator fitted sk-toggleable\"><input class=\"sk-toggleable__control sk-hidden--visually\" id=\"sk-estimator-id-12\" type=\"checkbox\" ><label for=\"sk-estimator-id-12\" class=\"sk-toggleable__label fitted sk-toggleable__label-arrow fitted\">&nbsp;ExtraTreesClassifier<a class=\"sk-estimator-doc-link fitted\" rel=\"noreferrer\" target=\"_blank\" href=\"https://scikit-learn.org/1.5/modules/generated/sklearn.ensemble.ExtraTreesClassifier.html\">?<span>Documentation for ExtraTreesClassifier</span></a></label><div class=\"sk-toggleable__content fitted\"><pre>ExtraTreesClassifier(random_state=42)</pre></div> </div></div></div></div></div></div>"
     },
     "execution_count": 24,
     "metadata": {},
     "output_type": "execute_result"
    }
   ],
   "source": [
    "# Choose the best model which has a higher accuracy\n",
    "SCORES_CLASS_DF = pd.DataFrame(SCORES_CLASS)\n",
    "BEST_CLASS_MODEL = SCORES_CLASS_DF[SCORES_CLASS_DF['Accuracy'] == SCORES_CLASS_DF['Accuracy'].max()].index[0]\n",
    "BEST_CLASS = CLASSIFIER.models[BEST_CLASS_MODEL]\n",
    "BEST_CLASS"
   ],
   "metadata": {
    "collapsed": false,
    "ExecuteTime": {
     "end_time": "2024-06-17T00:36:50.883438900Z",
     "start_time": "2024-06-17T00:36:50.763026700Z"
    }
   },
   "id": "aeee99a50b1e256c"
  },
  {
   "cell_type": "code",
   "execution_count": 25,
   "outputs": [],
   "source": [
    "# Save the best classification model\n",
    "pickle.dump(BEST_CLASS, open('best_classification_model.pkl', 'wb'))"
   ],
   "metadata": {
    "collapsed": false,
    "ExecuteTime": {
     "end_time": "2024-06-17T00:36:51.423139800Z",
     "start_time": "2024-06-17T00:36:50.829921Z"
    }
   },
   "id": "93ad8909d1f73b13"
  },
  {
   "cell_type": "code",
   "execution_count": 26,
   "outputs": [
    {
     "data": {
      "text/plain": "                            Model  Adjusted_R2   R2  Train_RMSE  Test_RMSE  \\\n0             ExtraTreesRegressor         1.00 1.00        0.01       0.10   \n1              ExtraTreeRegressor         1.00 1.00        0.01       0.15   \n2           DecisionTreeRegressor         1.00 1.00        0.01       0.16   \n3           RandomForestRegressor         1.00 1.00        0.13       0.18   \n4                    XGBRegressor         1.00 1.00        0.14       0.25   \n5                BaggingRegressor         1.00 1.00        0.17       0.25   \n6   HistGradientBoostingRegressor         1.00 1.00        1.03       0.77   \n7                   LGBMRegressor         1.00 1.00        0.93       0.85   \n8                    MLPRegressor         0.99 0.99        1.00       1.19   \n9       GradientBoostingRegressor         0.99 0.99        1.21       1.29   \n10       GaussianProcessRegressor         0.94 0.94        0.02       3.61   \n11            KNeighborsRegressor         0.93 0.93        3.01       3.83   \n\n    Train_MAPE  Test_MAPE  Time_Taken  \n0         0.00       0.01        3.80  \n1         0.00       0.01        0.05  \n2         0.00       0.01        0.11  \n3         0.01       0.01        5.68  \n4         0.47       0.47        1.54  \n5         0.01       0.02        0.72  \n6         1.50       1.51        0.34  \n7         2.48       2.43        0.17  \n8        42.73      38.82       16.56  \n9        11.29       9.99        1.64  \n10        0.04      15.59     1028.11  \n11        0.10       0.17        0.08  ",
      "text/html": "<div>\n<style scoped>\n    .dataframe tbody tr th:only-of-type {\n        vertical-align: middle;\n    }\n\n    .dataframe tbody tr th {\n        vertical-align: top;\n    }\n\n    .dataframe thead th {\n        text-align: right;\n    }\n</style>\n<table border=\"1\" class=\"dataframe\">\n  <thead>\n    <tr style=\"text-align: right;\">\n      <th></th>\n      <th>Model</th>\n      <th>Adjusted_R2</th>\n      <th>R2</th>\n      <th>Train_RMSE</th>\n      <th>Test_RMSE</th>\n      <th>Train_MAPE</th>\n      <th>Test_MAPE</th>\n      <th>Time_Taken</th>\n    </tr>\n  </thead>\n  <tbody>\n    <tr>\n      <th>0</th>\n      <td>ExtraTreesRegressor</td>\n      <td>1.00</td>\n      <td>1.00</td>\n      <td>0.01</td>\n      <td>0.10</td>\n      <td>0.00</td>\n      <td>0.01</td>\n      <td>3.80</td>\n    </tr>\n    <tr>\n      <th>1</th>\n      <td>ExtraTreeRegressor</td>\n      <td>1.00</td>\n      <td>1.00</td>\n      <td>0.01</td>\n      <td>0.15</td>\n      <td>0.00</td>\n      <td>0.01</td>\n      <td>0.05</td>\n    </tr>\n    <tr>\n      <th>2</th>\n      <td>DecisionTreeRegressor</td>\n      <td>1.00</td>\n      <td>1.00</td>\n      <td>0.01</td>\n      <td>0.16</td>\n      <td>0.00</td>\n      <td>0.01</td>\n      <td>0.11</td>\n    </tr>\n    <tr>\n      <th>3</th>\n      <td>RandomForestRegressor</td>\n      <td>1.00</td>\n      <td>1.00</td>\n      <td>0.13</td>\n      <td>0.18</td>\n      <td>0.01</td>\n      <td>0.01</td>\n      <td>5.68</td>\n    </tr>\n    <tr>\n      <th>4</th>\n      <td>XGBRegressor</td>\n      <td>1.00</td>\n      <td>1.00</td>\n      <td>0.14</td>\n      <td>0.25</td>\n      <td>0.47</td>\n      <td>0.47</td>\n      <td>1.54</td>\n    </tr>\n    <tr>\n      <th>5</th>\n      <td>BaggingRegressor</td>\n      <td>1.00</td>\n      <td>1.00</td>\n      <td>0.17</td>\n      <td>0.25</td>\n      <td>0.01</td>\n      <td>0.02</td>\n      <td>0.72</td>\n    </tr>\n    <tr>\n      <th>6</th>\n      <td>HistGradientBoostingRegressor</td>\n      <td>1.00</td>\n      <td>1.00</td>\n      <td>1.03</td>\n      <td>0.77</td>\n      <td>1.50</td>\n      <td>1.51</td>\n      <td>0.34</td>\n    </tr>\n    <tr>\n      <th>7</th>\n      <td>LGBMRegressor</td>\n      <td>1.00</td>\n      <td>1.00</td>\n      <td>0.93</td>\n      <td>0.85</td>\n      <td>2.48</td>\n      <td>2.43</td>\n      <td>0.17</td>\n    </tr>\n    <tr>\n      <th>8</th>\n      <td>MLPRegressor</td>\n      <td>0.99</td>\n      <td>0.99</td>\n      <td>1.00</td>\n      <td>1.19</td>\n      <td>42.73</td>\n      <td>38.82</td>\n      <td>16.56</td>\n    </tr>\n    <tr>\n      <th>9</th>\n      <td>GradientBoostingRegressor</td>\n      <td>0.99</td>\n      <td>0.99</td>\n      <td>1.21</td>\n      <td>1.29</td>\n      <td>11.29</td>\n      <td>9.99</td>\n      <td>1.64</td>\n    </tr>\n    <tr>\n      <th>10</th>\n      <td>GaussianProcessRegressor</td>\n      <td>0.94</td>\n      <td>0.94</td>\n      <td>0.02</td>\n      <td>3.61</td>\n      <td>0.04</td>\n      <td>15.59</td>\n      <td>1028.11</td>\n    </tr>\n    <tr>\n      <th>11</th>\n      <td>KNeighborsRegressor</td>\n      <td>0.93</td>\n      <td>0.93</td>\n      <td>3.01</td>\n      <td>3.83</td>\n      <td>0.10</td>\n      <td>0.17</td>\n      <td>0.08</td>\n    </tr>\n  </tbody>\n</table>\n</div>"
     },
     "execution_count": 26,
     "metadata": {},
     "output_type": "execute_result"
    }
   ],
   "source": [
    "# Save the best regression models\n",
    "BEST_REGRESSION_MODELS = MODELS_ERRORS_DF[MODELS_ERRORS_DF['Model'].isin(DIFF_TRAIN_DICT['Best_Model'])]\n",
    "BEST_REGRESSION_MODELS"
   ],
   "metadata": {
    "collapsed": false,
    "ExecuteTime": {
     "end_time": "2024-06-17T00:36:52.244944300Z",
     "start_time": "2024-06-17T00:36:51.061685600Z"
    }
   },
   "id": "5f97c8547d3b48ea"
  },
  {
   "cell_type": "markdown",
   "source": [
    "# CALL THE BEST CLASSIFICATION MODEL AND THE BEST REGRESSION MODEL TO MAKE PREDICTIONS"
   ],
   "metadata": {
    "collapsed": false
   },
   "id": "68f07c98dada81e6"
  },
  {
   "cell_type": "code",
   "execution_count": 36,
   "outputs": [
    {
     "name": "stdout",
     "output_type": "stream",
     "text": [
      "The resistance value is 25.473087310791016 with the model ExtraTreeRegressor\n"
     ]
    }
   ],
   "source": [
    "# Call the best classification model and the best regression models and make predictions\n",
    "LOADED_CLASS_MODEL = pickle.load(open('best_classification_model.pkl', 'rb'))\n",
    "\n",
    "# Example Prediction List\n",
    "Step_Size = 1.5  # (mm)  \n",
    "Side_Length = 10   # (mm)\n",
    "Total_Length = 40  # (mm)\n",
    "Corner = 20  # 0 < Corner (mm) \n",
    "Width = 0.05  # 0.05 < Width (mm)\n",
    "Height = 0.05  # 0.05 < Height (mm)\n",
    "Fillet_Radius = 0.05  # width/2 < Fillet_Radius < Width   (mm)\n",
    "\n",
    "prediction_list = [Step_Size, Side_Length, Total_Length, Corner, Width, Height, Fillet_Radius]\n",
    "df_prediction = pd.DataFrame([prediction_list], columns=FEATURE_NAMES)\n",
    "\n",
    "# Classification Prediction\n",
    "MODEL_PREDICTION = LOADED_CLASS_MODEL.predict(df_prediction)\n",
    "NAME_MODEL_PREDICTION = str(MODEL_PREDICTION[0])\n",
    "\n",
    "# Regression Predictions\n",
    "BEST_REG_MODEL = MODELS_ERRORS_DF[MODELS_ERRORS_DF['Model'] == NAME_MODEL_PREDICTION]['Model'].values[0]\n",
    "\n",
    "# Make the prediction with the best regression model\n",
    "BEST_REGRESSION = ALL_MODELS[BEST_REG_MODEL]\n",
    "RESISTANCE_PREDICTION = BEST_REGRESSION.predict(df_prediction)\n",
    "print(f'The resistance value is {RESISTANCE_PREDICTION[0]} with the model {BEST_REG_MODEL}')"
   ],
   "metadata": {
    "collapsed": false,
    "ExecuteTime": {
     "end_time": "2024-06-17T07:39:45.548523700Z",
     "start_time": "2024-06-17T07:39:45.315532100Z"
    }
   },
   "id": "a270c6c456d9c7cf"
  },
  {
   "cell_type": "markdown",
   "source": [
    "\n"
   ],
   "metadata": {
    "collapsed": false
   },
   "id": "b7afb2d3f924af01"
  }
 ],
 "metadata": {
  "kernelspec": {
   "display_name": "Python 3",
   "language": "python",
   "name": "python3"
  },
  "language_info": {
   "codemirror_mode": {
    "name": "ipython",
    "version": 2
   },
   "file_extension": ".py",
   "mimetype": "text/x-python",
   "name": "python",
   "nbconvert_exporter": "python",
   "pygments_lexer": "ipython2",
   "version": "2.7.6"
  }
 },
 "nbformat": 4,
 "nbformat_minor": 5
}
