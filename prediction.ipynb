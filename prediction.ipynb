{
 "cells": [
  {
   "metadata": {
    "ExecuteTime": {
     "end_time": "2024-06-18T07:51:20.806936Z",
     "start_time": "2024-06-18T07:51:19.850744Z"
    }
   },
   "cell_type": "code",
   "source": "from src import PredictionModel",
   "id": "b7794e1b5ce67e7f",
   "outputs": [],
   "execution_count": 1
  },
  {
   "metadata": {
    "ExecuteTime": {
     "end_time": "2024-06-18T07:51:21.009054Z",
     "start_time": "2024-06-18T07:51:20.807973Z"
    }
   },
   "cell_type": "code",
   "source": [
    "PRE_MODEL_OBJ = PredictionModel(base_learners_pickle_path='data/pickles/base_learner_pickles/',\n",
    "                                meta_learner_pickle_path='data/pickles/meta_learner_pickles/')"
   ],
   "id": "94ff47970d9fba09",
   "outputs": [],
   "execution_count": 2
  },
  {
   "metadata": {
    "ExecuteTime": {
     "end_time": "2024-06-18T07:51:21.027470Z",
     "start_time": "2024-06-18T07:51:21.010228Z"
    }
   },
   "cell_type": "code",
   "source": [
    "data_dict = {'Step_Size': 1.5,\n",
    "             'Side_Length': 10,\n",
    "             'Total_Length': 20,\n",
    "             'Corner': 20,\n",
    "             'Height': 50,  # micrometer\n",
    "             'Width': 50,  # micrometer\n",
    "             'Fillet_Radius': 50  # micrometer\n",
    "             }\n",
    "\n",
    "PRE_MODEL_OBJ.predict(data_dict)"
   ],
   "id": "99d5fd2133a37ae9",
   "outputs": [
    {
     "data": {
      "text/plain": [
       "(12.66153895295088, 'ExtraTreesRegressor')"
      ]
     },
     "execution_count": 3,
     "metadata": {},
     "output_type": "execute_result"
    }
   ],
   "execution_count": 3
  }
 ],
 "metadata": {
  "kernelspec": {
   "display_name": "Python 3",
   "language": "python",
   "name": "python3"
  },
  "language_info": {
   "codemirror_mode": {
    "name": "ipython",
    "version": 2
   },
   "file_extension": ".py",
   "mimetype": "text/x-python",
   "name": "python",
   "nbconvert_exporter": "python",
   "pygments_lexer": "ipython2",
   "version": "2.7.6"
  }
 },
 "nbformat": 4,
 "nbformat_minor": 5
}
